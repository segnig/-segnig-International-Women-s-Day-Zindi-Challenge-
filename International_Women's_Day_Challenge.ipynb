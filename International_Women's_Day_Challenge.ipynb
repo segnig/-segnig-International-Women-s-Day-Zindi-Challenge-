{
  "nbformat": 4,
  "nbformat_minor": 0,
  "metadata": {
    "kernelspec": {
      "display_name": "Python 3",
      "name": "python3"
    },
    "language_info": {
      "codemirror_mode": {
        "name": "ipython",
        "version": 3
      },
      "file_extension": ".py",
      "mimetype": "text/x-python",
      "name": "python",
      "nbconvert_exporter": "python",
      "pygments_lexer": "ipython3",
      "version": "3.7.3"
    },
    "toc": {
      "base_numbering": 1,
      "nav_menu": {},
      "number_sections": true,
      "sideBar": true,
      "skip_h1_title": false,
      "title_cell": "Table of Contents",
      "title_sidebar": "Contents",
      "toc_cell": false,
      "toc_position": {},
      "toc_section_display": true,
      "toc_window_display": false
    },
    "colab": {
      "provenance": [],
      "include_colab_link": true
    }
  },
  "cells": [
    {
      "cell_type": "markdown",
      "metadata": {
        "id": "view-in-github",
        "colab_type": "text"
      },
      "source": [
        "<a href=\"https://colab.research.google.com/github/segnig/-segnig-International-Women-s-Day-Zindi-Challenge-/blob/main/International_Women's_Day_Challenge.ipynb\" target=\"_parent\"><img src=\"https://colab.research.google.com/assets/colab-badge.svg\" alt=\"Open In Colab\"/></a>"
      ]
    },
    {
      "cell_type": "code",
      "source": [
        "from google.colab import drive\n",
        "drive.mount('/content/drive')"
      ],
      "metadata": {
        "colab": {
          "base_uri": "https://localhost:8080/"
        },
        "id": "uyuaV6zcM2Uy",
        "outputId": "d5bf62a9-6a9e-45f7-f2cf-dc2433c77893"
      },
      "execution_count": 1,
      "outputs": [
        {
          "output_type": "stream",
          "name": "stdout",
          "text": [
            "Mounted at /content/drive\n"
          ]
        }
      ]
    },
    {
      "cell_type": "code",
      "source": [
        "! pip install gdown --q"
      ],
      "metadata": {
        "id": "cSFfGKDYmUK9"
      },
      "execution_count": 2,
      "outputs": []
    },
    {
      "cell_type": "code",
      "source": [
        "import gdown\n",
        "\n",
        "TRAIN_FILE_ID = \"1k39tvexhAVC4ST2nCHgm_K_pJLr1gB3W\"\n",
        "TEST_FILE_ID = \"1G3ufnmlIz0gf0LtYhXEXYXfev1Vop8Rt\"\n",
        "VAR_DEF_ID = \"1zR-1bbIhnhCZGQXYn6FvIc9w-nCTwNJN\"\n",
        "SUB_FILE_ID = \"1bp-wU0z1zaml5RK3aksiOuiXi1nR59Ci\"\n",
        "\n",
        "gdown.download(id=TRAIN_FILE_ID, output=\"Train.csv\", quiet=False)\n",
        "gdown.download(id=TEST_FILE_ID, output=\"Test.csv\", quiet=False)\n",
        "gdown.download(id=VAR_DEF_ID, output=\"VariableDefinitions.csv\", quiet=False)\n",
        "gdown.download(id=SUB_FILE_ID, output=\"SampleSubmission.csv\", quiet=False)"
      ],
      "metadata": {
        "id": "XmqA_pR5nOfX",
        "outputId": "6ddaac8f-a4ae-4637-8410-bccbd026a1d9",
        "colab": {
          "base_uri": "https://localhost:8080/",
          "height": 328
        }
      },
      "execution_count": 3,
      "outputs": [
        {
          "output_type": "stream",
          "name": "stderr",
          "text": [
            "Downloading...\n",
            "From: https://drive.google.com/uc?id=1k39tvexhAVC4ST2nCHgm_K_pJLr1gB3W\n",
            "To: /content/Train.csv\n",
            "100%|██████████| 2.05M/2.05M [00:00<00:00, 122MB/s]\n",
            "Downloading...\n",
            "From: https://drive.google.com/uc?id=1G3ufnmlIz0gf0LtYhXEXYXfev1Vop8Rt\n",
            "To: /content/Test.csv\n",
            "100%|██████████| 1.11M/1.11M [00:00<00:00, 43.4MB/s]\n",
            "Downloading...\n",
            "From: https://drive.google.com/uc?id=1zR-1bbIhnhCZGQXYn6FvIc9w-nCTwNJN\n",
            "To: /content/VariableDefinitions.csv\n",
            "100%|██████████| 4.39k/4.39k [00:00<00:00, 8.76MB/s]\n",
            "Downloading...\n",
            "From: https://drive.google.com/uc?id=1bp-wU0z1zaml5RK3aksiOuiXi1nR59Ci\n",
            "To: /content/SampleSubmission.csv\n",
            "100%|██████████| 20.9k/20.9k [00:00<00:00, 31.1MB/s]\n"
          ]
        },
        {
          "output_type": "execute_result",
          "data": {
            "text/plain": [
              "'SampleSubmission.csv'"
            ],
            "application/vnd.google.colaboratory.intrinsic+json": {
              "type": "string"
            }
          },
          "metadata": {},
          "execution_count": 3
        }
      ]
    },
    {
      "cell_type": "code",
      "source": [
        "# FILE_PATH = \"/content/drive/MyDrive/Data Science/International Women's Day Challenge/\""
      ],
      "metadata": {
        "id": "MqkncAWfc3RD"
      },
      "execution_count": 4,
      "outputs": []
    },
    {
      "cell_type": "code",
      "source": [
        "! pip install catboost --q"
      ],
      "metadata": {
        "id": "HLmQB-HxdRhr",
        "colab": {
          "base_uri": "https://localhost:8080/"
        },
        "outputId": "6c20d7a6-c513-4eaf-fdd5-8ac73f2e037a"
      },
      "execution_count": 5,
      "outputs": [
        {
          "output_type": "stream",
          "name": "stdout",
          "text": [
            "\u001b[2K   \u001b[90m━━━━━━━━━━━━━━━━━━━━━━━━━━━━━━━━━━━━━━━━\u001b[0m \u001b[32m99.2/99.2 MB\u001b[0m \u001b[31m7.7 MB/s\u001b[0m eta \u001b[36m0:00:00\u001b[0m\n",
            "\u001b[?25h"
          ]
        }
      ]
    },
    {
      "cell_type": "markdown",
      "source": [
        "## Import LIB"
      ],
      "metadata": {
        "id": "Z7EeaSuwdT1s"
      }
    },
    {
      "cell_type": "code",
      "source": [
        "import pandas as pd\n",
        "import numpy as np\n",
        "import matplotlib.pyplot as plt\n",
        "import seaborn as sns\n",
        "\n",
        "# split train and test data\n",
        "from sklearn.model_selection import train_test_split\n",
        "\n",
        "# cross validation\n",
        "from sklearn.model_selection import cross_val_score\n",
        "from sklearn.model_selection import GridSearchCV\n",
        "from sklearn.model_selection import RandomizedSearchCV\n",
        "\n",
        "# import model boosting model, linear model, random forest regression model\n",
        "\n",
        "from sklearn.ensemble import RandomForestRegressor, GradientBoostingRegressor\n",
        "from sklearn.linear_model import LinearRegression, Ridge, Lasso\n",
        "from xgboost import XGBRegressor\n",
        "from lightgbm import LGBMRegressor\n",
        "\n",
        "from catboost import CatBoostRegressor\n",
        "from sklearn.metrics import mean_squared_error\n",
        "# Root Mean Squared Error.\n",
        "\n",
        "# drop constant features\n",
        "from sklearn.feature_selection import VarianceThreshold\n",
        "\n",
        "from sklearn.metrics import mean_squared_error\n",
        "from math import sqrt"
      ],
      "metadata": {
        "id": "qQR0esVcdThH"
      },
      "execution_count": 6,
      "outputs": []
    },
    {
      "cell_type": "code",
      "source": [
        "import numpy as np\n",
        "import pandas as pd\n",
        "import sklearn\n",
        "import matplotlib\n",
        "import seaborn as sns\n",
        "\n",
        "print(f\"numpy: {np.__version__}\")\n",
        "print(f\"pandas: {pd.__version__}\")\n",
        "print(f\"scikit-learn: {sklearn.__version__}\")\n",
        "print(f\"matplotlib: {matplotlib.__version__}\")\n",
        "print(f\"seaborn: {sns.__version__}\")"
      ],
      "metadata": {
        "colab": {
          "base_uri": "https://localhost:8080/"
        },
        "id": "nAjIP8cz7CIk",
        "outputId": "5b9ac740-c005-4865-b8ab-7caf0ec7ab0e"
      },
      "execution_count": 7,
      "outputs": [
        {
          "output_type": "stream",
          "name": "stdout",
          "text": [
            "numpy: 2.0.2\n",
            "pandas: 2.2.2\n",
            "scikit-learn: 1.6.1\n",
            "matplotlib: 3.10.0\n",
            "seaborn: 0.13.2\n"
          ]
        }
      ]
    },
    {
      "cell_type": "code",
      "source": [
        "train = pd.read_csv(\"Train.csv\")\n",
        "test = pd.read_csv(\"Test.csv\")\n",
        "var_data_df = pd.read_csv(\"VariableDefinitions.csv\")\n",
        "sub_df = pd.read_csv(\"SampleSubmission.csv\")\n"
      ],
      "metadata": {
        "id": "eoeriMlpqWsA"
      },
      "execution_count": 8,
      "outputs": []
    },
    {
      "cell_type": "code",
      "source": [
        "print(train.shape)\n",
        "print(test.shape)"
      ],
      "metadata": {
        "colab": {
          "base_uri": "https://localhost:8080/"
        },
        "id": "VA5C62Fc2HXV",
        "outputId": "61eb4f1f-d983-4570-9d0a-020c96c1e84d"
      },
      "execution_count": 9,
      "outputs": [
        {
          "output_type": "stream",
          "name": "stdout",
          "text": [
            "(2822, 63)\n",
            "(1013, 62)\n"
          ]
        }
      ]
    },
    {
      "cell_type": "code",
      "source": [
        "print(\"Dataset Infomation\")\n",
        "\n",
        "print(f\"Train dataset has {train.shape[0]} rows and {train.shape[1]} columns\")\n",
        "print(f\"Test dataset has {test.shape[0]} rows and {test.shape[1]} columns\")\n",
        "\n",
        "print(f\"Train dataset has {train.shape[0] - train.dropna().shape[0]} missing values\")\n",
        "print(f\"Test dataset has {test.shape[0] - test.dropna().shape[0]} missing values\")\n",
        "\n",
        "\n",
        "print(f\"Train dataset has {train.duplicated().sum()} duplicated values\")\n",
        "print(f\"Test dataset has {test.duplicated().sum()} duplicated values\")\n",
        "\n",
        "\n",
        "print(f\"Train dataset has {train.columns[train.isna().any()].tolist()} missing values\")\n",
        "print(f\"Test dataset has {test.columns[test.isna().any()].tolist()} missing values\")\n",
        "\n",
        "\n",
        "print(\"=================\")\n",
        "\n",
        "print(\"Train dataset info\")\n",
        "print(train.info())\n",
        "print(\"=================\")\n",
        "print(\"Test dataset info\")\n",
        "print(test.info())"
      ],
      "metadata": {
        "id": "k-y6RMc8DgGB",
        "colab": {
          "base_uri": "https://localhost:8080/"
        },
        "outputId": "0a5e7583-7a95-476a-d2a5-d0ae27bef4aa"
      },
      "execution_count": 10,
      "outputs": [
        {
          "output_type": "stream",
          "name": "stdout",
          "text": [
            "Dataset Infomation\n",
            "Train dataset has 2822 rows and 63 columns\n",
            "Test dataset has 1013 rows and 62 columns\n",
            "Train dataset has 0 missing values\n",
            "Test dataset has 0 missing values\n",
            "Train dataset has 0 duplicated values\n",
            "Test dataset has 0 duplicated values\n",
            "Train dataset has [] missing values\n",
            "Test dataset has [] missing values\n",
            "=================\n",
            "Train dataset info\n",
            "<class 'pandas.core.frame.DataFrame'>\n",
            "RangeIndex: 2822 entries, 0 to 2821\n",
            "Data columns (total 63 columns):\n",
            " #   Column             Non-Null Count  Dtype  \n",
            "---  ------             --------------  -----  \n",
            " 0   ward               2822 non-null   object \n",
            " 1   total_households   2822 non-null   float64\n",
            " 2   total_individuals  2822 non-null   float64\n",
            " 3   target             2822 non-null   float64\n",
            " 4   dw_00              2822 non-null   float64\n",
            " 5   dw_01              2822 non-null   float64\n",
            " 6   dw_02              2822 non-null   float64\n",
            " 7   dw_03              2822 non-null   float64\n",
            " 8   dw_04              2822 non-null   float64\n",
            " 9   dw_05              2822 non-null   float64\n",
            " 10  dw_06              2822 non-null   float64\n",
            " 11  dw_07              2822 non-null   float64\n",
            " 12  dw_08              2822 non-null   float64\n",
            " 13  dw_09              2822 non-null   float64\n",
            " 14  dw_10              2822 non-null   float64\n",
            " 15  dw_11              2822 non-null   float64\n",
            " 16  dw_12              2822 non-null   int64  \n",
            " 17  dw_13              2822 non-null   int64  \n",
            " 18  psa_00             2822 non-null   float64\n",
            " 19  psa_01             2822 non-null   float64\n",
            " 20  psa_02             2822 non-null   float64\n",
            " 21  psa_03             2822 non-null   float64\n",
            " 22  psa_04             2822 non-null   float64\n",
            " 23  stv_00             2822 non-null   float64\n",
            " 24  stv_01             2822 non-null   float64\n",
            " 25  car_00             2822 non-null   float64\n",
            " 26  car_01             2822 non-null   float64\n",
            " 27  lln_00             2822 non-null   float64\n",
            " 28  lln_01             2822 non-null   float64\n",
            " 29  lan_00             2822 non-null   float64\n",
            " 30  lan_01             2822 non-null   float64\n",
            " 31  lan_02             2822 non-null   float64\n",
            " 32  lan_03             2822 non-null   float64\n",
            " 33  lan_04             2822 non-null   float64\n",
            " 34  lan_05             2822 non-null   float64\n",
            " 35  lan_06             2822 non-null   float64\n",
            " 36  lan_07             2822 non-null   float64\n",
            " 37  lan_08             2822 non-null   float64\n",
            " 38  lan_09             2822 non-null   float64\n",
            " 39  lan_10             2822 non-null   float64\n",
            " 40  lan_11             2822 non-null   float64\n",
            " 41  lan_12             2822 non-null   float64\n",
            " 42  lan_13             2822 non-null   int64  \n",
            " 43  lan_14             2822 non-null   float64\n",
            " 44  pg_00              2822 non-null   float64\n",
            " 45  pg_01              2822 non-null   float64\n",
            " 46  pg_02              2822 non-null   float64\n",
            " 47  pg_03              2822 non-null   float64\n",
            " 48  pg_04              2822 non-null   float64\n",
            " 49  lgt_00             2822 non-null   float64\n",
            " 50  pw_00              2822 non-null   float64\n",
            " 51  pw_01              2822 non-null   float64\n",
            " 52  pw_02              2822 non-null   float64\n",
            " 53  pw_03              2822 non-null   float64\n",
            " 54  pw_04              2822 non-null   float64\n",
            " 55  pw_05              2822 non-null   float64\n",
            " 56  pw_06              2822 non-null   float64\n",
            " 57  pw_07              2822 non-null   int64  \n",
            " 58  pw_08              2822 non-null   int64  \n",
            " 59  ADM4_PCODE         2822 non-null   object \n",
            " 60  lat                2822 non-null   float64\n",
            " 61  lon                2822 non-null   float64\n",
            " 62  NL                 2822 non-null   float64\n",
            "dtypes: float64(56), int64(5), object(2)\n",
            "memory usage: 1.4+ MB\n",
            "None\n",
            "=================\n",
            "Test dataset info\n",
            "<class 'pandas.core.frame.DataFrame'>\n",
            "RangeIndex: 1013 entries, 0 to 1012\n",
            "Data columns (total 62 columns):\n",
            " #   Column             Non-Null Count  Dtype  \n",
            "---  ------             --------------  -----  \n",
            " 0   ward               1013 non-null   object \n",
            " 1   total_households   1013 non-null   float64\n",
            " 2   total_individuals  1013 non-null   float64\n",
            " 3   dw_00              1013 non-null   float64\n",
            " 4   dw_01              1013 non-null   float64\n",
            " 5   dw_02              1013 non-null   float64\n",
            " 6   dw_03              1013 non-null   float64\n",
            " 7   dw_04              1013 non-null   float64\n",
            " 8   dw_05              1013 non-null   float64\n",
            " 9   dw_06              1013 non-null   float64\n",
            " 10  dw_07              1013 non-null   float64\n",
            " 11  dw_08              1013 non-null   float64\n",
            " 12  dw_09              1013 non-null   float64\n",
            " 13  dw_10              1013 non-null   float64\n",
            " 14  dw_11              1013 non-null   float64\n",
            " 15  dw_12              1013 non-null   float64\n",
            " 16  dw_13              1013 non-null   float64\n",
            " 17  psa_00             1013 non-null   float64\n",
            " 18  psa_01             1013 non-null   float64\n",
            " 19  psa_02             1013 non-null   float64\n",
            " 20  psa_03             1013 non-null   float64\n",
            " 21  psa_04             1013 non-null   float64\n",
            " 22  stv_00             1013 non-null   float64\n",
            " 23  stv_01             1013 non-null   float64\n",
            " 24  car_00             1013 non-null   float64\n",
            " 25  car_01             1013 non-null   float64\n",
            " 26  lln_00             1013 non-null   float64\n",
            " 27  lln_01             1013 non-null   float64\n",
            " 28  lan_00             1013 non-null   float64\n",
            " 29  lan_01             1013 non-null   float64\n",
            " 30  lan_02             1013 non-null   float64\n",
            " 31  lan_03             1013 non-null   float64\n",
            " 32  lan_04             1013 non-null   float64\n",
            " 33  lan_05             1013 non-null   float64\n",
            " 34  lan_06             1013 non-null   float64\n",
            " 35  lan_07             1013 non-null   float64\n",
            " 36  lan_08             1013 non-null   float64\n",
            " 37  lan_09             1013 non-null   float64\n",
            " 38  lan_10             1013 non-null   float64\n",
            " 39  lan_11             1013 non-null   float64\n",
            " 40  lan_12             1013 non-null   float64\n",
            " 41  lan_13             1013 non-null   float64\n",
            " 42  lan_14             1013 non-null   float64\n",
            " 43  pg_00              1013 non-null   float64\n",
            " 44  pg_01              1013 non-null   float64\n",
            " 45  pg_02              1013 non-null   float64\n",
            " 46  pg_03              1013 non-null   float64\n",
            " 47  pg_04              1013 non-null   float64\n",
            " 48  lgt_00             1013 non-null   float64\n",
            " 49  pw_00              1013 non-null   float64\n",
            " 50  pw_01              1013 non-null   float64\n",
            " 51  pw_02              1013 non-null   float64\n",
            " 52  pw_03              1013 non-null   float64\n",
            " 53  pw_04              1013 non-null   float64\n",
            " 54  pw_05              1013 non-null   float64\n",
            " 55  pw_06              1013 non-null   float64\n",
            " 56  pw_07              1013 non-null   float64\n",
            " 57  pw_08              1013 non-null   float64\n",
            " 58  ADM4_PCODE         1013 non-null   object \n",
            " 59  lat                1013 non-null   float64\n",
            " 60  lon                1013 non-null   float64\n",
            " 61  NL                 1013 non-null   float64\n",
            "dtypes: float64(60), object(2)\n",
            "memory usage: 490.8+ KB\n",
            "None\n"
          ]
        }
      ]
    },
    {
      "cell_type": "markdown",
      "source": [
        "## **Modeling with without Feature Selection**\n",
        "\n"
      ],
      "metadata": {
        "id": "VK5piXvFvGGt"
      }
    },
    {
      "cell_type": "code",
      "source": [
        "from sklearn.ensemble import RandomForestRegressor\n",
        "from sklearn.model_selection import train_test_split\n",
        "from sklearn.metrics import mean_squared_error\n",
        "import numpy as np\n",
        "\n",
        "train_features = [col for col in train.select_dtypes(include=\"number\").columns if col != \"target\"]\n",
        "\n",
        "X = train[train_features]\n",
        "y = train[\"target\"]\n",
        "\n",
        "X_train, X_test, y_train, y_test = train_test_split(X, y, test_size=0.2, random_state=42)\n",
        "\n",
        "model = RandomForestRegressor()\n",
        "model.fit(X_train, y_train)\n",
        "\n",
        "y_pred = model.predict(X_test)\n",
        "mse = mean_squared_error(y_test, y_pred)\n",
        "\n",
        "print(f\"RMSE: {np.sqrt(mse)}\")"
      ],
      "metadata": {
        "id": "S1jSJ4mTvEW1",
        "outputId": "de5a27fe-6204-4c87-913f-e395c2dfee0a",
        "colab": {
          "base_uri": "https://localhost:8080/"
        }
      },
      "execution_count": 19,
      "outputs": [
        {
          "output_type": "stream",
          "name": "stdout",
          "text": [
            "RMSE: 3.373031258660821\n"
          ]
        }
      ]
    },
    {
      "cell_type": "code",
      "source": [
        "var_def_dict = dict(zip(var_data_df[\"Column\"], var_data_df[\"Description\"]))\n",
        "\n",
        "from  IPython.display import display, Markdown\n",
        "\n",
        "for feature, description in var_def_dict.items():\n",
        "    display(Markdown(f\"* **{feature}** : {description}\"))"
      ],
      "metadata": {
        "id": "4_ZmjthqOYD2",
        "outputId": "54ab3546-b790-42fb-fa5e-0e1ee533ba27",
        "colab": {
          "base_uri": "https://localhost:8080/",
          "height": 1000
        }
      },
      "execution_count": 16,
      "outputs": [
        {
          "output_type": "display_data",
          "data": {
            "text/plain": [
              "<IPython.core.display.Markdown object>"
            ],
            "text/markdown": "* **dw_00** : Percentage of dwellings of type: House or brick/concrete block structure on a separate stand or yard or on a farm"
          },
          "metadata": {}
        },
        {
          "output_type": "display_data",
          "data": {
            "text/plain": [
              "<IPython.core.display.Markdown object>"
            ],
            "text/markdown": "* **dw_01** : Percentage of dwellings of type: Traditional dwelling/hut/structure made of traditional materials"
          },
          "metadata": {}
        },
        {
          "output_type": "display_data",
          "data": {
            "text/plain": [
              "<IPython.core.display.Markdown object>"
            ],
            "text/markdown": "* **dw_02** : Percentage of dwellings of type: Flat or apartment in a block of flats"
          },
          "metadata": {}
        },
        {
          "output_type": "display_data",
          "data": {
            "text/plain": [
              "<IPython.core.display.Markdown object>"
            ],
            "text/markdown": "* **dw_03** : Percentage of dwellings of type: Cluster house in complex"
          },
          "metadata": {}
        },
        {
          "output_type": "display_data",
          "data": {
            "text/plain": [
              "<IPython.core.display.Markdown object>"
            ],
            "text/markdown": "* **dw_04** : Percentage of dwellings of type: Townhouse (semi-detached house in a complex)"
          },
          "metadata": {}
        },
        {
          "output_type": "display_data",
          "data": {
            "text/plain": [
              "<IPython.core.display.Markdown object>"
            ],
            "text/markdown": "* **dw_05** : Percentage of dwellings of type: Semi-detached house"
          },
          "metadata": {}
        },
        {
          "output_type": "display_data",
          "data": {
            "text/plain": [
              "<IPython.core.display.Markdown object>"
            ],
            "text/markdown": "* **dw_06** : Percentage of dwellings of type: House/flat/room in backyard"
          },
          "metadata": {}
        },
        {
          "output_type": "display_data",
          "data": {
            "text/plain": [
              "<IPython.core.display.Markdown object>"
            ],
            "text/markdown": "* **dw_07** : Percentage of dwellings of type: Informal dwelling (shack"
          },
          "metadata": {}
        },
        {
          "output_type": "display_data",
          "data": {
            "text/plain": [
              "<IPython.core.display.Markdown object>"
            ],
            "text/markdown": "* **dw_08** : Percentage of dwellings of type: Informal dwelling (shack"
          },
          "metadata": {}
        },
        {
          "output_type": "display_data",
          "data": {
            "text/plain": [
              "<IPython.core.display.Markdown object>"
            ],
            "text/markdown": "* **dw_09** : Percentage of dwellings of type: Room/flatlet on a property or larger dwelling/servants quarters/granny flat"
          },
          "metadata": {}
        },
        {
          "output_type": "display_data",
          "data": {
            "text/plain": [
              "<IPython.core.display.Markdown object>"
            ],
            "text/markdown": "* **dw_10** : Percentage of dwellings of type: Caravan/tent"
          },
          "metadata": {}
        },
        {
          "output_type": "display_data",
          "data": {
            "text/plain": [
              "<IPython.core.display.Markdown object>"
            ],
            "text/markdown": "* **dw_11** : Percentage of dwellings of type: Other"
          },
          "metadata": {}
        },
        {
          "output_type": "display_data",
          "data": {
            "text/plain": [
              "<IPython.core.display.Markdown object>"
            ],
            "text/markdown": "* **dw_12** : Percentage of dwellings of type: Unspecified"
          },
          "metadata": {}
        },
        {
          "output_type": "display_data",
          "data": {
            "text/plain": [
              "<IPython.core.display.Markdown object>"
            ],
            "text/markdown": "* **dw_13** : Percentage of dwellings of type: Not applicable"
          },
          "metadata": {}
        },
        {
          "output_type": "display_data",
          "data": {
            "text/plain": [
              "<IPython.core.display.Markdown object>"
            ],
            "text/markdown": "* **psa_00** : Percentage listing present school attendance as:  Yes"
          },
          "metadata": {}
        },
        {
          "output_type": "display_data",
          "data": {
            "text/plain": [
              "<IPython.core.display.Markdown object>"
            ],
            "text/markdown": "* **psa_01** : Percentage listing present school attendance as:  No"
          },
          "metadata": {}
        },
        {
          "output_type": "display_data",
          "data": {
            "text/plain": [
              "<IPython.core.display.Markdown object>"
            ],
            "text/markdown": "* **psa_02** : Percentage listing present school attendance as:  Do not know"
          },
          "metadata": {}
        },
        {
          "output_type": "display_data",
          "data": {
            "text/plain": [
              "<IPython.core.display.Markdown object>"
            ],
            "text/markdown": "* **psa_03** : Percentage listing present school attendance as:  Unspecified"
          },
          "metadata": {}
        },
        {
          "output_type": "display_data",
          "data": {
            "text/plain": [
              "<IPython.core.display.Markdown object>"
            ],
            "text/markdown": "* **psa_04** : Percentage listing present school attendance as:  Not applicable"
          },
          "metadata": {}
        },
        {
          "output_type": "display_data",
          "data": {
            "text/plain": [
              "<IPython.core.display.Markdown object>"
            ],
            "text/markdown": "* **stv_00** : Percentage of households with Satellite TV:  Yes"
          },
          "metadata": {}
        },
        {
          "output_type": "display_data",
          "data": {
            "text/plain": [
              "<IPython.core.display.Markdown object>"
            ],
            "text/markdown": "* **stv_01** : Percentage of households with Satellite TV:  No"
          },
          "metadata": {}
        },
        {
          "output_type": "display_data",
          "data": {
            "text/plain": [
              "<IPython.core.display.Markdown object>"
            ],
            "text/markdown": "* **car_00** : Percentage of households with a car:  Yes"
          },
          "metadata": {}
        },
        {
          "output_type": "display_data",
          "data": {
            "text/plain": [
              "<IPython.core.display.Markdown object>"
            ],
            "text/markdown": "* **car_01** : Percentage of households with a car:  No"
          },
          "metadata": {}
        },
        {
          "output_type": "display_data",
          "data": {
            "text/plain": [
              "<IPython.core.display.Markdown object>"
            ],
            "text/markdown": "* **lln_00** : Percentage listing landline ownership as:  Yes"
          },
          "metadata": {}
        },
        {
          "output_type": "display_data",
          "data": {
            "text/plain": [
              "<IPython.core.display.Markdown object>"
            ],
            "text/markdown": "* **lln_01** : Percentage listing landline ownership as:  No"
          },
          "metadata": {}
        },
        {
          "output_type": "display_data",
          "data": {
            "text/plain": [
              "<IPython.core.display.Markdown object>"
            ],
            "text/markdown": "* **lan_00** : Percentage listing language as:  Afrikaans"
          },
          "metadata": {}
        },
        {
          "output_type": "display_data",
          "data": {
            "text/plain": [
              "<IPython.core.display.Markdown object>"
            ],
            "text/markdown": "* **lan_01** : Percentage listing language as:  English"
          },
          "metadata": {}
        },
        {
          "output_type": "display_data",
          "data": {
            "text/plain": [
              "<IPython.core.display.Markdown object>"
            ],
            "text/markdown": "* **lan_02** : Percentage listing language as:  IsiNdebele"
          },
          "metadata": {}
        },
        {
          "output_type": "display_data",
          "data": {
            "text/plain": [
              "<IPython.core.display.Markdown object>"
            ],
            "text/markdown": "* **lan_03** : Percentage listing language as:  IsiXhosa"
          },
          "metadata": {}
        },
        {
          "output_type": "display_data",
          "data": {
            "text/plain": [
              "<IPython.core.display.Markdown object>"
            ],
            "text/markdown": "* **lan_04** : Percentage listing language as:  IsiZulu"
          },
          "metadata": {}
        },
        {
          "output_type": "display_data",
          "data": {
            "text/plain": [
              "<IPython.core.display.Markdown object>"
            ],
            "text/markdown": "* **lan_05** : Percentage listing language as:  Sepedi"
          },
          "metadata": {}
        },
        {
          "output_type": "display_data",
          "data": {
            "text/plain": [
              "<IPython.core.display.Markdown object>"
            ],
            "text/markdown": "* **lan_06** : Percentage listing language as:  Sesotho"
          },
          "metadata": {}
        },
        {
          "output_type": "display_data",
          "data": {
            "text/plain": [
              "<IPython.core.display.Markdown object>"
            ],
            "text/markdown": "* **lan_07** : Percentage listing language as:  Setswana"
          },
          "metadata": {}
        },
        {
          "output_type": "display_data",
          "data": {
            "text/plain": [
              "<IPython.core.display.Markdown object>"
            ],
            "text/markdown": "* **lan_08** : Percentage listing language as:  Sign language"
          },
          "metadata": {}
        },
        {
          "output_type": "display_data",
          "data": {
            "text/plain": [
              "<IPython.core.display.Markdown object>"
            ],
            "text/markdown": "* **lan_09** : Percentage listing language as:  SiSwati"
          },
          "metadata": {}
        },
        {
          "output_type": "display_data",
          "data": {
            "text/plain": [
              "<IPython.core.display.Markdown object>"
            ],
            "text/markdown": "* **lan_10** : Percentage listing language as:  Tshivenda"
          },
          "metadata": {}
        },
        {
          "output_type": "display_data",
          "data": {
            "text/plain": [
              "<IPython.core.display.Markdown object>"
            ],
            "text/markdown": "* **lan_11** : Percentage listing language as:  Xitsonga"
          },
          "metadata": {}
        },
        {
          "output_type": "display_data",
          "data": {
            "text/plain": [
              "<IPython.core.display.Markdown object>"
            ],
            "text/markdown": "* **lan_12** : Percentage listing language as:  Other"
          },
          "metadata": {}
        },
        {
          "output_type": "display_data",
          "data": {
            "text/plain": [
              "<IPython.core.display.Markdown object>"
            ],
            "text/markdown": "* **lan_13** : Percentage listing language as:  Unspecified"
          },
          "metadata": {}
        },
        {
          "output_type": "display_data",
          "data": {
            "text/plain": [
              "<IPython.core.display.Markdown object>"
            ],
            "text/markdown": "* **lan_14** : Percentage listing language as:  Not applicable"
          },
          "metadata": {}
        },
        {
          "output_type": "display_data",
          "data": {
            "text/plain": [
              "<IPython.core.display.Markdown object>"
            ],
            "text/markdown": "* **pg_00** : Percentage in population group:  Black African"
          },
          "metadata": {}
        },
        {
          "output_type": "display_data",
          "data": {
            "text/plain": [
              "<IPython.core.display.Markdown object>"
            ],
            "text/markdown": "* **pg_01** : Percentage in population group:  Coloured"
          },
          "metadata": {}
        },
        {
          "output_type": "display_data",
          "data": {
            "text/plain": [
              "<IPython.core.display.Markdown object>"
            ],
            "text/markdown": "* **pg_02** : Percentage in population group:  Indian or Asian"
          },
          "metadata": {}
        },
        {
          "output_type": "display_data",
          "data": {
            "text/plain": [
              "<IPython.core.display.Markdown object>"
            ],
            "text/markdown": "* **pg_03** : Percentage in population group:  White"
          },
          "metadata": {}
        },
        {
          "output_type": "display_data",
          "data": {
            "text/plain": [
              "<IPython.core.display.Markdown object>"
            ],
            "text/markdown": "* **pg_04** : Percentage in population group:  Other"
          },
          "metadata": {}
        },
        {
          "output_type": "display_data",
          "data": {
            "text/plain": [
              "<IPython.core.display.Markdown object>"
            ],
            "text/markdown": "* **lgt_00** : Percentage using electricity for lighting"
          },
          "metadata": {}
        },
        {
          "output_type": "display_data",
          "data": {
            "text/plain": [
              "<IPython.core.display.Markdown object>"
            ],
            "text/markdown": "* **pw_00** : Percentage with piped water access:  Piped (tap) water inside dwelling/institution"
          },
          "metadata": {}
        },
        {
          "output_type": "display_data",
          "data": {
            "text/plain": [
              "<IPython.core.display.Markdown object>"
            ],
            "text/markdown": "* **pw_01** : Percentage with piped water access:  Piped (tap) water inside yard"
          },
          "metadata": {}
        },
        {
          "output_type": "display_data",
          "data": {
            "text/plain": [
              "<IPython.core.display.Markdown object>"
            ],
            "text/markdown": "* **pw_02** : Percentage with piped water access:  Piped (tap) water on community stand: distance less than 200m from dwelling/institution"
          },
          "metadata": {}
        },
        {
          "output_type": "display_data",
          "data": {
            "text/plain": [
              "<IPython.core.display.Markdown object>"
            ],
            "text/markdown": "* **pw_03** : Percentage with piped water access:  Piped (tap) water on community stand: distance between 200m and 500m from dwelling/institution"
          },
          "metadata": {}
        },
        {
          "output_type": "display_data",
          "data": {
            "text/plain": [
              "<IPython.core.display.Markdown object>"
            ],
            "text/markdown": "* **pw_04** : Percentage with piped water access:  Piped (tap) water on community stand: distance between 500m and 1000m (1km) from dwelling /institution"
          },
          "metadata": {}
        },
        {
          "output_type": "display_data",
          "data": {
            "text/plain": [
              "<IPython.core.display.Markdown object>"
            ],
            "text/markdown": "* **pw_05** : Percentage with piped water access:  Piped (tap) water on community stand: distance greater than 1000m (1km) from dwelling/institution"
          },
          "metadata": {}
        },
        {
          "output_type": "display_data",
          "data": {
            "text/plain": [
              "<IPython.core.display.Markdown object>"
            ],
            "text/markdown": "* **pw_06** : Percentage with piped water access:  No access to piped (tap) water"
          },
          "metadata": {}
        },
        {
          "output_type": "display_data",
          "data": {
            "text/plain": [
              "<IPython.core.display.Markdown object>"
            ],
            "text/markdown": "* **pw_07** : Percentage with piped water access:  Unspecified"
          },
          "metadata": {}
        },
        {
          "output_type": "display_data",
          "data": {
            "text/plain": [
              "<IPython.core.display.Markdown object>"
            ],
            "text/markdown": "* **pw_08** : Percentage with piped water access:  Not applicable"
          },
          "metadata": {}
        },
        {
          "output_type": "display_data",
          "data": {
            "text/plain": [
              "<IPython.core.display.Markdown object>"
            ],
            "text/markdown": "* **ADM4_PCODE** : Code for linking row to ward in the wards shapefile"
          },
          "metadata": {}
        },
        {
          "output_type": "display_data",
          "data": {
            "text/plain": [
              "<IPython.core.display.Markdown object>"
            ],
            "text/markdown": "* **lat** : Lattitude of the center point of the ward"
          },
          "metadata": {}
        },
        {
          "output_type": "display_data",
          "data": {
            "text/plain": [
              "<IPython.core.display.Markdown object>"
            ],
            "text/markdown": "* **lon** : Longitude of the center point of the ward"
          },
          "metadata": {}
        },
        {
          "output_type": "display_data",
          "data": {
            "text/plain": [
              "<IPython.core.display.Markdown object>"
            ],
            "text/markdown": "* **NL** : Nightlights value for the area arounf (lat, lon)"
          },
          "metadata": {}
        },
        {
          "output_type": "display_data",
          "data": {
            "text/plain": [
              "<IPython.core.display.Markdown object>"
            ],
            "text/markdown": "* **target** : Percentage of women head households with income under R19.6k out of total number of households"
          },
          "metadata": {}
        }
      ]
    },
    {
      "cell_type": "code",
      "source": [
        "import matplotlib.pyplot as plt\n",
        "import pandas as pd\n",
        "\n",
        "feature_names = train_features\n",
        "\n",
        "\n",
        "\n",
        "feat_importances = pd.Series(model.feature_importances_, index=feature_names)\n",
        "feat_importances = feat_importances.sort_values(ascending=False)\n",
        "\n",
        "# Plot\n",
        "plt.figure(figsize=(10, 10))\n",
        "feat_importances.plot(kind='barh')\n",
        "plt.xlabel('Feature Importance')\n",
        "plt.ylabel('Features')\n",
        "plt.title('Feature Importances from RandomForest')\n",
        "plt.show()"
      ],
      "metadata": {
        "id": "pBNQYXsWNX5P",
        "outputId": "fc7767d7-33ef-497c-b62a-17ef79c5c56a",
        "colab": {
          "base_uri": "https://localhost:8080/",
          "height": 872
        }
      },
      "execution_count": 23,
      "outputs": [
        {
          "output_type": "display_data",
          "data": {
            "text/plain": [
              "<Figure size 1000x1000 with 1 Axes>"
            ],
            "image/png": "[encoded data removed]"
          },
          "metadata": {}
        }
      ]
    },
    {
      "cell_type": "code",
      "source": [
        "# submission file\n",
        "test_preds = model.predict(test[train_features])\n",
        "test[\"target\"] = test_preds\n",
        "\n",
        "test[[\"ward\", \"target\"]].to_csv(\"submission_random_model_without_feature_selection.csv\", index=False)\n",
        "\n",
        "test[[\"ward\", \"target\"]].head()"
      ],
      "metadata": {
        "id": "9Ty_LYTaPQ5b",
        "outputId": "640715e5-ee35-4597-af83-a5448222b610",
        "colab": {
          "base_uri": "https://localhost:8080/",
          "height": 206
        }
      },
      "execution_count": 17,
      "outputs": [
        {
          "output_type": "execute_result",
          "data": {
            "text/plain": [
              "               ward     target\n",
              "0  21001001: Ward 1  18.490138\n",
              "1  21001002: Ward 2  13.109853\n",
              "2  21001003: Ward 3  21.497258\n",
              "3  21001004: Ward 4  17.136652\n",
              "4  21001005: Ward 5  20.632600"
            ],
            "text/html": [
              "\n",
              "  <div id=\"df-c547141e-3c41-4acb-913c-0444b58dd400\" class=\"colab-df-container\">\n",
              "    <div>\n",
              "<style scoped>\n",
              "    .dataframe tbody tr th:only-of-type {\n",
              "        vertical-align: middle;\n",
              "    }\n",
              "\n",
              "    .dataframe tbody tr th {\n",
              "        vertical-align: top;\n",
              "    }\n",
              "\n",
              "    .dataframe thead th {\n",
              "        text-align: right;\n",
              "    }\n",
              "</style>\n",
              "<table border=\"1\" class=\"dataframe\">\n",
              "  <thead>\n",
              "    <tr style=\"text-align: right;\">\n",
              "      <th></th>\n",
              "      <th>ward</th>\n",
              "      <th>target</th>\n",
              "    </tr>\n",
              "  </thead>\n",
              "  <tbody>\n",
              "    <tr>\n",
              "      <th>0</th>\n",
              "      <td>21001001: Ward 1</td>\n",
              "      <td>18.490138</td>\n",
              "    </tr>\n",
              "    <tr>\n",
              "      <th>1</th>\n",
              "      <td>21001002: Ward 2</td>\n",
              "      <td>13.109853</td>\n",
              "    </tr>\n",
              "    <tr>\n",
              "      <th>2</th>\n",
              "      <td>21001003: Ward 3</td>\n",
              "      <td>21.497258</td>\n",
              "    </tr>\n",
              "    <tr>\n",
              "      <th>3</th>\n",
              "      <td>21001004: Ward 4</td>\n",
              "      <td>17.136652</td>\n",
              "    </tr>\n",
              "    <tr>\n",
              "      <th>4</th>\n",
              "      <td>21001005: Ward 5</td>\n",
              "      <td>20.632600</td>\n",
              "    </tr>\n",
              "  </tbody>\n",
              "</table>\n",
              "</div>\n",
              "    <div class=\"colab-df-buttons\">\n",
              "\n",
              "  <div class=\"colab-df-container\">\n",
              "    <button class=\"colab-df-convert\" onclick=\"convertToInteractive('df-c547141e-3c41-4acb-913c-0444b58dd400')\"\n",
              "            title=\"Convert this dataframe to an interactive table.\"\n",
              "            style=\"display:none;\">\n",
              "\n",
              "  <svg xmlns=\"http://www.w3.org/2000/svg\" height=\"24px\" viewBox=\"0 -960 960 960\">\n",
              "    <path d=\"M120-120v-720h720v720H120Zm60-500h600v-160H180v160Zm220 220h160v-160H400v160Zm0 220h160v-160H400v160ZM180-400h160v-160H180v160Zm440 0h160v-160H620v160ZM180-180h160v-160H180v160Zm440 0h160v-160H620v160Z\"/>\n",
              "  </svg>\n",
              "    </button>\n",
              "\n",
              "  <style>\n",
              "    .colab-df-container {\n",
              "      display:flex;\n",
              "      gap: 12px;\n",
              "    }\n",
              "\n",
              "    .colab-df-convert {\n",
              "      background-color: #E8F0FE;\n",
              "      border: none;\n",
              "      border-radius: 50%;\n",
              "      cursor: pointer;\n",
              "      display: none;\n",
              "      fill: #1967D2;\n",
              "      height: 32px;\n",
              "      padding: 0 0 0 0;\n",
              "      width: 32px;\n",
              "    }\n",
              "\n",
              "    .colab-df-convert:hover {\n",
              "      background-color: #E2EBFA;\n",
              "      box-shadow: 0px 1px 2px rgba(60, 64, 67, 0.3), 0px 1px 3px 1px rgba(60, 64, 67, 0.15);\n",
              "      fill: #174EA6;\n",
              "    }\n",
              "\n",
              "    .colab-df-buttons div {\n",
              "      margin-bottom: 4px;\n",
              "    }\n",
              "\n",
              "    [theme=dark] .colab-df-convert {\n",
              "      background-color: #3B4455;\n",
              "      fill: #D2E3FC;\n",
              "    }\n",
              "\n",
              "    [theme=dark] .colab-df-convert:hover {\n",
              "      background-color: #434B5C;\n",
              "      box-shadow: 0px 1px 3px 1px rgba(0, 0, 0, 0.15);\n",
              "      filter: drop-shadow(0px 1px 2px rgba(0, 0, 0, 0.3));\n",
              "      fill: #FFFFFF;\n",
              "    }\n",
              "  </style>\n",
              "\n",
              "    <script>\n",
              "      const buttonEl =\n",
              "        document.querySelector('#df-c547141e-3c41-4acb-913c-0444b58dd400 button.colab-df-convert');\n",
              "      buttonEl.style.display =\n",
              "        google.colab.kernel.accessAllowed ? 'block' : 'none';\n",
              "\n",
              "      async function convertToInteractive(key) {\n",
              "        const element = document.querySelector('#df-c547141e-3c41-4acb-913c-0444b58dd400');\n",
              "        const dataTable =\n",
              "          await google.colab.kernel.invokeFunction('convertToInteractive',\n",
              "                                                    [key], {});\n",
              "        if (!dataTable) return;\n",
              "\n",
              "        const docLinkHtml = 'Like what you see? Visit the ' +\n",
              "          '<a target=\"_blank\" href=https://colab.research.google.com/notebooks/data_table.ipynb>data table notebook</a>'\n",
              "          + ' to learn more about interactive tables.';\n",
              "        element.innerHTML = '';\n",
              "        dataTable['output_type'] = 'display_data';\n",
              "        await google.colab.output.renderOutput(dataTable, element);\n",
              "        const docLink = document.createElement('div');\n",
              "        docLink.innerHTML = docLinkHtml;\n",
              "        element.appendChild(docLink);\n",
              "      }\n",
              "    </script>\n",
              "  </div>\n",
              "\n",
              "\n",
              "    <div id=\"df-b6793314-6a44-4f96-aebe-755a00ae9003\">\n",
              "      <button class=\"colab-df-quickchart\" onclick=\"quickchart('df-b6793314-6a44-4f96-aebe-755a00ae9003')\"\n",
              "                title=\"Suggest charts\"\n",
              "                style=\"display:none;\">\n",
              "\n",
              "<svg xmlns=\"http://www.w3.org/2000/svg\" height=\"24px\"viewBox=\"0 0 24 24\"\n",
              "     width=\"24px\">\n",
              "    <g>\n",
              "        <path d=\"M19 3H5c-1.1 0-2 .9-2 2v14c0 1.1.9 2 2 2h14c1.1 0 2-.9 2-2V5c0-1.1-.9-2-2-2zM9 17H7v-7h2v7zm4 0h-2V7h2v10zm4 0h-2v-4h2v4z\"/>\n",
              "    </g>\n",
              "</svg>\n",
              "      </button>\n",
              "\n",
              "<style>\n",
              "  .colab-df-quickchart {\n",
              "      --bg-color: #E8F0FE;\n",
              "      --fill-color: #1967D2;\n",
              "      --hover-bg-color: #E2EBFA;\n",
              "      --hover-fill-color: #174EA6;\n",
              "      --disabled-fill-color: #AAA;\n",
              "      --disabled-bg-color: #DDD;\n",
              "  }\n",
              "\n",
              "  [theme=dark] .colab-df-quickchart {\n",
              "      --bg-color: #3B4455;\n",
              "      --fill-color: #D2E3FC;\n",
              "      --hover-bg-color: #434B5C;\n",
              "      --hover-fill-color: #FFFFFF;\n",
              "      --disabled-bg-color: #3B4455;\n",
              "      --disabled-fill-color: #666;\n",
              "  }\n",
              "\n",
              "  .colab-df-quickchart {\n",
              "    background-color: var(--bg-color);\n",
              "    border: none;\n",
              "    border-radius: 50%;\n",
              "    cursor: pointer;\n",
              "    display: none;\n",
              "    fill: var(--fill-color);\n",
              "    height: 32px;\n",
              "    padding: 0;\n",
              "    width: 32px;\n",
              "  }\n",
              "\n",
              "  .colab-df-quickchart:hover {\n",
              "    background-color: var(--hover-bg-color);\n",
              "    box-shadow: 0 1px 2px rgba(60, 64, 67, 0.3), 0 1px 3px 1px rgba(60, 64, 67, 0.15);\n",
              "    fill: var(--button-hover-fill-color);\n",
              "  }\n",
              "\n",
              "  .colab-df-quickchart-complete:disabled,\n",
              "  .colab-df-quickchart-complete:disabled:hover {\n",
              "    background-color: var(--disabled-bg-color);\n",
              "    fill: var(--disabled-fill-color);\n",
              "    box-shadow: none;\n",
              "  }\n",
              "\n",
              "  .colab-df-spinner {\n",
              "    border: 2px solid var(--fill-color);\n",
              "    border-color: transparent;\n",
              "    border-bottom-color: var(--fill-color);\n",
              "    animation:\n",
              "      spin 1s steps(1) infinite;\n",
              "  }\n",
              "\n",
              "  @keyframes spin {\n",
              "    0% {\n",
              "      border-color: transparent;\n",
              "      border-bottom-color: var(--fill-color);\n",
              "      border-left-color: var(--fill-color);\n",
              "    }\n",
              "    20% {\n",
              "      border-color: transparent;\n",
              "      border-left-color: var(--fill-color);\n",
              "      border-top-color: var(--fill-color);\n",
              "    }\n",
              "    30% {\n",
              "      border-color: transparent;\n",
              "      border-left-color: var(--fill-color);\n",
              "      border-top-color: var(--fill-color);\n",
              "      border-right-color: var(--fill-color);\n",
              "    }\n",
              "    40% {\n",
              "      border-color: transparent;\n",
              "      border-right-color: var(--fill-color);\n",
              "      border-top-color: var(--fill-color);\n",
              "    }\n",
              "    60% {\n",
              "      border-color: transparent;\n",
              "      border-right-color: var(--fill-color);\n",
              "    }\n",
              "    80% {\n",
              "      border-color: transparent;\n",
              "      border-right-color: var(--fill-color);\n",
              "      border-bottom-color: var(--fill-color);\n",
              "    }\n",
              "    90% {\n",
              "      border-color: transparent;\n",
              "      border-bottom-color: var(--fill-color);\n",
              "    }\n",
              "  }\n",
              "</style>\n",
              "\n",
              "      <script>\n",
              "        async function quickchart(key) {\n",
              "          const quickchartButtonEl =\n",
              "            document.querySelector('#' + key + ' button');\n",
              "          quickchartButtonEl.disabled = true;  // To prevent multiple clicks.\n",
              "          quickchartButtonEl.classList.add('colab-df-spinner');\n",
              "          try {\n",
              "            const charts = await google.colab.kernel.invokeFunction(\n",
              "                'suggestCharts', [key], {});\n",
              "          } catch (error) {\n",
              "            console.error('Error during call to suggestCharts:', error);\n",
              "          }\n",
              "          quickchartButtonEl.classList.remove('colab-df-spinner');\n",
              "          quickchartButtonEl.classList.add('colab-df-quickchart-complete');\n",
              "        }\n",
              "        (() => {\n",
              "          let quickchartButtonEl =\n",
              "            document.querySelector('#df-b6793314-6a44-4f96-aebe-755a00ae9003 button');\n",
              "          quickchartButtonEl.style.display =\n",
              "            google.colab.kernel.accessAllowed ? 'block' : 'none';\n",
              "        })();\n",
              "      </script>\n",
              "    </div>\n",
              "\n",
              "    </div>\n",
              "  </div>\n"
            ],
            "application/vnd.google.colaboratory.intrinsic+json": {
              "type": "dataframe",
              "summary": "{\n  \"name\": \"test[[\\\"ward\\\", \\\"target\\\"]]\",\n  \"rows\": 5,\n  \"fields\": [\n    {\n      \"column\": \"ward\",\n      \"properties\": {\n        \"dtype\": \"string\",\n        \"num_unique_values\": 5,\n        \"samples\": [\n          \"21001002: Ward 2\",\n          \"21001005: Ward 5\",\n          \"21001003: Ward 3\"\n        ],\n        \"semantic_type\": \"\",\n        \"description\": \"\"\n      }\n    },\n    {\n      \"column\": \"target\",\n      \"properties\": {\n        \"dtype\": \"number\",\n        \"std\": 3.3132450133052895,\n        \"min\": 13.109853472781563,\n        \"max\": 21.497257686791578,\n        \"num_unique_values\": 5,\n        \"samples\": [\n          13.109853472781563,\n          20.63260047286017,\n          21.497257686791578\n        ],\n        \"semantic_type\": \"\",\n        \"description\": \"\"\n      }\n    }\n  ]\n}"
            }
          },
          "metadata": {},
          "execution_count": 17
        }
      ]
    },
    {
      "cell_type": "code",
      "source": [
        "from catboost import CatBoostRegressor\n",
        "from sklearn.model_selection import train_test_split\n",
        "\n",
        "model_cat = CatBoostRegressor()\n",
        "\n",
        "model_cat.fit(X_train, y_train, eval_set=(X_test, y_test), verbose=100)\n",
        "\n",
        "y_pred = model_cat.predict(X_test)\n",
        "\n",
        "mse = mean_squared_error(y_test, y_pred)\n",
        "\n",
        "print(f\"RMSE: {np.sqrt(mse)}\")"
      ],
      "metadata": {
        "id": "MKtVF_CCTzjA",
        "outputId": "04aa243c-90ad-42ed-d3d4-ac31f9480f80",
        "colab": {
          "base_uri": "https://localhost:8080/"
        }
      },
      "execution_count": 24,
      "outputs": [
        {
          "output_type": "stream",
          "name": "stdout",
          "text": [
            "Learning rate set to 0.057863\n",
            "0:\tlearn: 9.9608668\ttest: 9.5139240\tbest: 9.5139240 (0)\ttotal: 40.7ms\tremaining: 40.7s\n",
            "100:\tlearn: 3.1560199\ttest: 3.4228570\tbest: 3.4228570 (100)\ttotal: 3.16s\tremaining: 28.1s\n",
            "200:\tlearn: 2.5312180\ttest: 3.2003751\tbest: 3.2003751 (200)\ttotal: 4.61s\tremaining: 18.3s\n",
            "300:\tlearn: 2.0614493\ttest: 3.1090304\tbest: 3.1090304 (300)\ttotal: 6.06s\tremaining: 14.1s\n",
            "400:\tlearn: 1.7335908\ttest: 3.0701339\tbest: 3.0683611 (394)\ttotal: 7.51s\tremaining: 11.2s\n",
            "500:\tlearn: 1.4754860\ttest: 3.0366549\tbest: 3.0366549 (500)\ttotal: 8.98s\tremaining: 8.95s\n",
            "600:\tlearn: 1.2645444\ttest: 3.0121798\tbest: 3.0120775 (599)\ttotal: 10.7s\tremaining: 7.12s\n",
            "700:\tlearn: 1.0852996\ttest: 3.0049120\tbest: 3.0049120 (700)\ttotal: 13.8s\tremaining: 5.91s\n",
            "800:\tlearn: 0.9408191\ttest: 2.9986559\tbest: 2.9977706 (756)\ttotal: 15.5s\tremaining: 3.86s\n",
            "900:\tlearn: 0.8145543\ttest: 2.9942190\tbest: 2.9929068 (856)\ttotal: 17s\tremaining: 1.87s\n",
            "999:\tlearn: 0.7058379\ttest: 2.9887854\tbest: 2.9874532 (986)\ttotal: 18.4s\tremaining: 0us\n",
            "\n",
            "bestTest = 2.987453168\n",
            "bestIteration = 986\n",
            "\n",
            "Shrink model to first 987 iterations.\n",
            "RMSE: 2.9874531529368418\n"
          ]
        }
      ]
    },
    {
      "cell_type": "code",
      "source": [
        "test[\"target\"] = model_cat.predict(test[train_features])\n",
        "\n",
        "test[[\"ward\", \"target\"]].to_csv(\"submission_cat_model_without_feature_selection.csv\", index=False)\n",
        "\n",
        "# to file\n",
        "test[[\"ward\", \"target\"]].head()"
      ],
      "metadata": {
        "id": "evORFEr1X6Gx",
        "outputId": "4398d44a-4a04-4d64-f90f-585a42c79b18",
        "colab": {
          "base_uri": "https://localhost:8080/",
          "height": 206
        }
      },
      "execution_count": 28,
      "outputs": [
        {
          "output_type": "execute_result",
          "data": {
            "text/plain": [
              "               ward     target\n",
              "0  21001001: Ward 1  18.490138\n",
              "1  21001002: Ward 2  13.109853\n",
              "2  21001003: Ward 3  21.497258\n",
              "3  21001004: Ward 4  17.136652\n",
              "4  21001005: Ward 5  20.632600"
            ],
            "text/html": [
              "\n",
              "  <div id=\"df-b5fa5006-c94f-479f-868c-447c9e348284\" class=\"colab-df-container\">\n",
              "    <div>\n",
              "<style scoped>\n",
              "    .dataframe tbody tr th:only-of-type {\n",
              "        vertical-align: middle;\n",
              "    }\n",
              "\n",
              "    .dataframe tbody tr th {\n",
              "        vertical-align: top;\n",
              "    }\n",
              "\n",
              "    .dataframe thead th {\n",
              "        text-align: right;\n",
              "    }\n",
              "</style>\n",
              "<table border=\"1\" class=\"dataframe\">\n",
              "  <thead>\n",
              "    <tr style=\"text-align: right;\">\n",
              "      <th></th>\n",
              "      <th>ward</th>\n",
              "      <th>target</th>\n",
              "    </tr>\n",
              "  </thead>\n",
              "  <tbody>\n",
              "    <tr>\n",
              "      <th>0</th>\n",
              "      <td>21001001: Ward 1</td>\n",
              "      <td>18.490138</td>\n",
              "    </tr>\n",
              "    <tr>\n",
              "      <th>1</th>\n",
              "      <td>21001002: Ward 2</td>\n",
              "      <td>13.109853</td>\n",
              "    </tr>\n",
              "    <tr>\n",
              "      <th>2</th>\n",
              "      <td>21001003: Ward 3</td>\n",
              "      <td>21.497258</td>\n",
              "    </tr>\n",
              "    <tr>\n",
              "      <th>3</th>\n",
              "      <td>21001004: Ward 4</td>\n",
              "      <td>17.136652</td>\n",
              "    </tr>\n",
              "    <tr>\n",
              "      <th>4</th>\n",
              "      <td>21001005: Ward 5</td>\n",
              "      <td>20.632600</td>\n",
              "    </tr>\n",
              "  </tbody>\n",
              "</table>\n",
              "</div>\n",
              "    <div class=\"colab-df-buttons\">\n",
              "\n",
              "  <div class=\"colab-df-container\">\n",
              "    <button class=\"colab-df-convert\" onclick=\"convertToInteractive('df-b5fa5006-c94f-479f-868c-447c9e348284')\"\n",
              "            title=\"Convert this dataframe to an interactive table.\"\n",
              "            style=\"display:none;\">\n",
              "\n",
              "  <svg xmlns=\"http://www.w3.org/2000/svg\" height=\"24px\" viewBox=\"0 -960 960 960\">\n",
              "    <path d=\"M120-120v-720h720v720H120Zm60-500h600v-160H180v160Zm220 220h160v-160H400v160Zm0 220h160v-160H400v160ZM180-400h160v-160H180v160Zm440 0h160v-160H620v160ZM180-180h160v-160H180v160Zm440 0h160v-160H620v160Z\"/>\n",
              "  </svg>\n",
              "    </button>\n",
              "\n",
              "  <style>\n",
              "    .colab-df-container {\n",
              "      display:flex;\n",
              "      gap: 12px;\n",
              "    }\n",
              "\n",
              "    .colab-df-convert {\n",
              "      background-color: #E8F0FE;\n",
              "      border: none;\n",
              "      border-radius: 50%;\n",
              "      cursor: pointer;\n",
              "      display: none;\n",
              "      fill: #1967D2;\n",
              "      height: 32px;\n",
              "      padding: 0 0 0 0;\n",
              "      width: 32px;\n",
              "    }\n",
              "\n",
              "    .colab-df-convert:hover {\n",
              "      background-color: #E2EBFA;\n",
              "      box-shadow: 0px 1px 2px rgba(60, 64, 67, 0.3), 0px 1px 3px 1px rgba(60, 64, 67, 0.15);\n",
              "      fill: #174EA6;\n",
              "    }\n",
              "\n",
              "    .colab-df-buttons div {\n",
              "      margin-bottom: 4px;\n",
              "    }\n",
              "\n",
              "    [theme=dark] .colab-df-convert {\n",
              "      background-color: #3B4455;\n",
              "      fill: #D2E3FC;\n",
              "    }\n",
              "\n",
              "    [theme=dark] .colab-df-convert:hover {\n",
              "      background-color: #434B5C;\n",
              "      box-shadow: 0px 1px 3px 1px rgba(0, 0, 0, 0.15);\n",
              "      filter: drop-shadow(0px 1px 2px rgba(0, 0, 0, 0.3));\n",
              "      fill: #FFFFFF;\n",
              "    }\n",
              "  </style>\n",
              "\n",
              "    <script>\n",
              "      const buttonEl =\n",
              "        document.querySelector('#df-b5fa5006-c94f-479f-868c-447c9e348284 button.colab-df-convert');\n",
              "      buttonEl.style.display =\n",
              "        google.colab.kernel.accessAllowed ? 'block' : 'none';\n",
              "\n",
              "      async function convertToInteractive(key) {\n",
              "        const element = document.querySelector('#df-b5fa5006-c94f-479f-868c-447c9e348284');\n",
              "        const dataTable =\n",
              "          await google.colab.kernel.invokeFunction('convertToInteractive',\n",
              "                                                    [key], {});\n",
              "        if (!dataTable) return;\n",
              "\n",
              "        const docLinkHtml = 'Like what you see? Visit the ' +\n",
              "          '<a target=\"_blank\" href=https://colab.research.google.com/notebooks/data_table.ipynb>data table notebook</a>'\n",
              "          + ' to learn more about interactive tables.';\n",
              "        element.innerHTML = '';\n",
              "        dataTable['output_type'] = 'display_data';\n",
              "        await google.colab.output.renderOutput(dataTable, element);\n",
              "        const docLink = document.createElement('div');\n",
              "        docLink.innerHTML = docLinkHtml;\n",
              "        element.appendChild(docLink);\n",
              "      }\n",
              "    </script>\n",
              "  </div>\n",
              "\n",
              "\n",
              "    <div id=\"df-88bcc332-411f-4e20-9d58-42f25b9840ee\">\n",
              "      <button class=\"colab-df-quickchart\" onclick=\"quickchart('df-88bcc332-411f-4e20-9d58-42f25b9840ee')\"\n",
              "                title=\"Suggest charts\"\n",
              "                style=\"display:none;\">\n",
              "\n",
              "<svg xmlns=\"http://www.w3.org/2000/svg\" height=\"24px\"viewBox=\"0 0 24 24\"\n",
              "     width=\"24px\">\n",
              "    <g>\n",
              "        <path d=\"M19 3H5c-1.1 0-2 .9-2 2v14c0 1.1.9 2 2 2h14c1.1 0 2-.9 2-2V5c0-1.1-.9-2-2-2zM9 17H7v-7h2v7zm4 0h-2V7h2v10zm4 0h-2v-4h2v4z\"/>\n",
              "    </g>\n",
              "</svg>\n",
              "      </button>\n",
              "\n",
              "<style>\n",
              "  .colab-df-quickchart {\n",
              "      --bg-color: #E8F0FE;\n",
              "      --fill-color: #1967D2;\n",
              "      --hover-bg-color: #E2EBFA;\n",
              "      --hover-fill-color: #174EA6;\n",
              "      --disabled-fill-color: #AAA;\n",
              "      --disabled-bg-color: #DDD;\n",
              "  }\n",
              "\n",
              "  [theme=dark] .colab-df-quickchart {\n",
              "      --bg-color: #3B4455;\n",
              "      --fill-color: #D2E3FC;\n",
              "      --hover-bg-color: #434B5C;\n",
              "      --hover-fill-color: #FFFFFF;\n",
              "      --disabled-bg-color: #3B4455;\n",
              "      --disabled-fill-color: #666;\n",
              "  }\n",
              "\n",
              "  .colab-df-quickchart {\n",
              "    background-color: var(--bg-color);\n",
              "    border: none;\n",
              "    border-radius: 50%;\n",
              "    cursor: pointer;\n",
              "    display: none;\n",
              "    fill: var(--fill-color);\n",
              "    height: 32px;\n",
              "    padding: 0;\n",
              "    width: 32px;\n",
              "  }\n",
              "\n",
              "  .colab-df-quickchart:hover {\n",
              "    background-color: var(--hover-bg-color);\n",
              "    box-shadow: 0 1px 2px rgba(60, 64, 67, 0.3), 0 1px 3px 1px rgba(60, 64, 67, 0.15);\n",
              "    fill: var(--button-hover-fill-color);\n",
              "  }\n",
              "\n",
              "  .colab-df-quickchart-complete:disabled,\n",
              "  .colab-df-quickchart-complete:disabled:hover {\n",
              "    background-color: var(--disabled-bg-color);\n",
              "    fill: var(--disabled-fill-color);\n",
              "    box-shadow: none;\n",
              "  }\n",
              "\n",
              "  .colab-df-spinner {\n",
              "    border: 2px solid var(--fill-color);\n",
              "    border-color: transparent;\n",
              "    border-bottom-color: var(--fill-color);\n",
              "    animation:\n",
              "      spin 1s steps(1) infinite;\n",
              "  }\n",
              "\n",
              "  @keyframes spin {\n",
              "    0% {\n",
              "      border-color: transparent;\n",
              "      border-bottom-color: var(--fill-color);\n",
              "      border-left-color: var(--fill-color);\n",
              "    }\n",
              "    20% {\n",
              "      border-color: transparent;\n",
              "      border-left-color: var(--fill-color);\n",
              "      border-top-color: var(--fill-color);\n",
              "    }\n",
              "    30% {\n",
              "      border-color: transparent;\n",
              "      border-left-color: var(--fill-color);\n",
              "      border-top-color: var(--fill-color);\n",
              "      border-right-color: var(--fill-color);\n",
              "    }\n",
              "    40% {\n",
              "      border-color: transparent;\n",
              "      border-right-color: var(--fill-color);\n",
              "      border-top-color: var(--fill-color);\n",
              "    }\n",
              "    60% {\n",
              "      border-color: transparent;\n",
              "      border-right-color: var(--fill-color);\n",
              "    }\n",
              "    80% {\n",
              "      border-color: transparent;\n",
              "      border-right-color: var(--fill-color);\n",
              "      border-bottom-color: var(--fill-color);\n",
              "    }\n",
              "    90% {\n",
              "      border-color: transparent;\n",
              "      border-bottom-color: var(--fill-color);\n",
              "    }\n",
              "  }\n",
              "</style>\n",
              "\n",
              "      <script>\n",
              "        async function quickchart(key) {\n",
              "          const quickchartButtonEl =\n",
              "            document.querySelector('#' + key + ' button');\n",
              "          quickchartButtonEl.disabled = true;  // To prevent multiple clicks.\n",
              "          quickchartButtonEl.classList.add('colab-df-spinner');\n",
              "          try {\n",
              "            const charts = await google.colab.kernel.invokeFunction(\n",
              "                'suggestCharts', [key], {});\n",
              "          } catch (error) {\n",
              "            console.error('Error during call to suggestCharts:', error);\n",
              "          }\n",
              "          quickchartButtonEl.classList.remove('colab-df-spinner');\n",
              "          quickchartButtonEl.classList.add('colab-df-quickchart-complete');\n",
              "        }\n",
              "        (() => {\n",
              "          let quickchartButtonEl =\n",
              "            document.querySelector('#df-88bcc332-411f-4e20-9d58-42f25b9840ee button');\n",
              "          quickchartButtonEl.style.display =\n",
              "            google.colab.kernel.accessAllowed ? 'block' : 'none';\n",
              "        })();\n",
              "      </script>\n",
              "    </div>\n",
              "\n",
              "    </div>\n",
              "  </div>\n"
            ],
            "application/vnd.google.colaboratory.intrinsic+json": {
              "type": "dataframe",
              "summary": "{\n  \"name\": \"test[[\\\"ward\\\", \\\"target\\\"]]\",\n  \"rows\": 5,\n  \"fields\": [\n    {\n      \"column\": \"ward\",\n      \"properties\": {\n        \"dtype\": \"string\",\n        \"num_unique_values\": 5,\n        \"samples\": [\n          \"21001002: Ward 2\",\n          \"21001005: Ward 5\",\n          \"21001003: Ward 3\"\n        ],\n        \"semantic_type\": \"\",\n        \"description\": \"\"\n      }\n    },\n    {\n      \"column\": \"target\",\n      \"properties\": {\n        \"dtype\": \"number\",\n        \"std\": 3.3132450133052895,\n        \"min\": 13.109853472781563,\n        \"max\": 21.497257686791578,\n        \"num_unique_values\": 5,\n        \"samples\": [\n          13.109853472781563,\n          20.63260047286017,\n          21.497257686791578\n        ],\n        \"semantic_type\": \"\",\n        \"description\": \"\"\n      }\n    }\n  ]\n}"
            }
          },
          "metadata": {},
          "execution_count": 28
        }
      ]
    },
    {
      "cell_type": "code",
      "source": [
        "from xgboost import XGBRegressor\n",
        "\n",
        "model_xgb = XGBRegressor()\n",
        "\n",
        "model_xgb.fit(X_train, y_train, eval_set=[(X_test, y_test)], verbose=100)\n",
        "\n",
        "y_pred = model_xgb.predict(X_test)\n",
        "mse = mean_squared_error(y_test, y_pred)\n",
        "\n",
        "print(f\"RMSE: {np.sqrt(mse)}\")\n",
        "\n",
        "test[\"target\"] = model_xgb.predict(test[train_features])\n",
        "\n",
        "test[[\"ward\", \"target\"]].to_csv(\"submission_xgb_model_without_feature_selection.csv\", index=False)\n",
        "\n",
        "test[[\"ward\", \"target\"]].head()"
      ],
      "metadata": {
        "id": "amSM1flGUQNS",
        "outputId": "0286e056-887d-476f-fbfd-1857d1c4a325",
        "colab": {
          "base_uri": "https://localhost:8080/",
          "height": 261
        }
      },
      "execution_count": 30,
      "outputs": [
        {
          "output_type": "stream",
          "name": "stdout",
          "text": [
            "[0]\tvalidation_0-rmse:7.55806\n",
            "[99]\tvalidation_0-rmse:3.41128\n",
            "RMSE: 3.411280284615366\n"
          ]
        },
        {
          "output_type": "execute_result",
          "data": {
            "text/plain": [
              "               ward     target\n",
              "0  21001001: Ward 1  18.313097\n",
              "1  21001002: Ward 2  11.573820\n",
              "2  21001003: Ward 3  18.432920\n",
              "3  21001004: Ward 4  15.976620\n",
              "4  21001005: Ward 5  21.070574"
            ],
            "text/html": [
              "\n",
              "  <div id=\"df-f3ae0677-ac56-43ce-b72e-29ed296185ae\" class=\"colab-df-container\">\n",
              "    <div>\n",
              "<style scoped>\n",
              "    .dataframe tbody tr th:only-of-type {\n",
              "        vertical-align: middle;\n",
              "    }\n",
              "\n",
              "    .dataframe tbody tr th {\n",
              "        vertical-align: top;\n",
              "    }\n",
              "\n",
              "    .dataframe thead th {\n",
              "        text-align: right;\n",
              "    }\n",
              "</style>\n",
              "<table border=\"1\" class=\"dataframe\">\n",
              "  <thead>\n",
              "    <tr style=\"text-align: right;\">\n",
              "      <th></th>\n",
              "      <th>ward</th>\n",
              "      <th>target</th>\n",
              "    </tr>\n",
              "  </thead>\n",
              "  <tbody>\n",
              "    <tr>\n",
              "      <th>0</th>\n",
              "      <td>21001001: Ward 1</td>\n",
              "      <td>18.313097</td>\n",
              "    </tr>\n",
              "    <tr>\n",
              "      <th>1</th>\n",
              "      <td>21001002: Ward 2</td>\n",
              "      <td>11.573820</td>\n",
              "    </tr>\n",
              "    <tr>\n",
              "      <th>2</th>\n",
              "      <td>21001003: Ward 3</td>\n",
              "      <td>18.432920</td>\n",
              "    </tr>\n",
              "    <tr>\n",
              "      <th>3</th>\n",
              "      <td>21001004: Ward 4</td>\n",
              "      <td>15.976620</td>\n",
              "    </tr>\n",
              "    <tr>\n",
              "      <th>4</th>\n",
              "      <td>21001005: Ward 5</td>\n",
              "      <td>21.070574</td>\n",
              "    </tr>\n",
              "  </tbody>\n",
              "</table>\n",
              "</div>\n",
              "    <div class=\"colab-df-buttons\">\n",
              "\n",
              "  <div class=\"colab-df-container\">\n",
              "    <button class=\"colab-df-convert\" onclick=\"convertToInteractive('df-f3ae0677-ac56-43ce-b72e-29ed296185ae')\"\n",
              "            title=\"Convert this dataframe to an interactive table.\"\n",
              "            style=\"display:none;\">\n",
              "\n",
              "  <svg xmlns=\"http://www.w3.org/2000/svg\" height=\"24px\" viewBox=\"0 -960 960 960\">\n",
              "    <path d=\"M120-120v-720h720v720H120Zm60-500h600v-160H180v160Zm220 220h160v-160H400v160Zm0 220h160v-160H400v160ZM180-400h160v-160H180v160Zm440 0h160v-160H620v160ZM180-180h160v-160H180v160Zm440 0h160v-160H620v160Z\"/>\n",
              "  </svg>\n",
              "    </button>\n",
              "\n",
              "  <style>\n",
              "    .colab-df-container {\n",
              "      display:flex;\n",
              "      gap: 12px;\n",
              "    }\n",
              "\n",
              "    .colab-df-convert {\n",
              "      background-color: #E8F0FE;\n",
              "      border: none;\n",
              "      border-radius: 50%;\n",
              "      cursor: pointer;\n",
              "      display: none;\n",
              "      fill: #1967D2;\n",
              "      height: 32px;\n",
              "      padding: 0 0 0 0;\n",
              "      width: 32px;\n",
              "    }\n",
              "\n",
              "    .colab-df-convert:hover {\n",
              "      background-color: #E2EBFA;\n",
              "      box-shadow: 0px 1px 2px rgba(60, 64, 67, 0.3), 0px 1px 3px 1px rgba(60, 64, 67, 0.15);\n",
              "      fill: #174EA6;\n",
              "    }\n",
              "\n",
              "    .colab-df-buttons div {\n",
              "      margin-bottom: 4px;\n",
              "    }\n",
              "\n",
              "    [theme=dark] .colab-df-convert {\n",
              "      background-color: #3B4455;\n",
              "      fill: #D2E3FC;\n",
              "    }\n",
              "\n",
              "    [theme=dark] .colab-df-convert:hover {\n",
              "      background-color: #434B5C;\n",
              "      box-shadow: 0px 1px 3px 1px rgba(0, 0, 0, 0.15);\n",
              "      filter: drop-shadow(0px 1px 2px rgba(0, 0, 0, 0.3));\n",
              "      fill: #FFFFFF;\n",
              "    }\n",
              "  </style>\n",
              "\n",
              "    <script>\n",
              "      const buttonEl =\n",
              "        document.querySelector('#df-f3ae0677-ac56-43ce-b72e-29ed296185ae button.colab-df-convert');\n",
              "      buttonEl.style.display =\n",
              "        google.colab.kernel.accessAllowed ? 'block' : 'none';\n",
              "\n",
              "      async function convertToInteractive(key) {\n",
              "        const element = document.querySelector('#df-f3ae0677-ac56-43ce-b72e-29ed296185ae');\n",
              "        const dataTable =\n",
              "          await google.colab.kernel.invokeFunction('convertToInteractive',\n",
              "                                                    [key], {});\n",
              "        if (!dataTable) return;\n",
              "\n",
              "        const docLinkHtml = 'Like what you see? Visit the ' +\n",
              "          '<a target=\"_blank\" href=https://colab.research.google.com/notebooks/data_table.ipynb>data table notebook</a>'\n",
              "          + ' to learn more about interactive tables.';\n",
              "        element.innerHTML = '';\n",
              "        dataTable['output_type'] = 'display_data';\n",
              "        await google.colab.output.renderOutput(dataTable, element);\n",
              "        const docLink = document.createElement('div');\n",
              "        docLink.innerHTML = docLinkHtml;\n",
              "        element.appendChild(docLink);\n",
              "      }\n",
              "    </script>\n",
              "  </div>\n",
              "\n",
              "\n",
              "    <div id=\"df-f649de2e-517f-4061-a1c9-7e9e142853f1\">\n",
              "      <button class=\"colab-df-quickchart\" onclick=\"quickchart('df-f649de2e-517f-4061-a1c9-7e9e142853f1')\"\n",
              "                title=\"Suggest charts\"\n",
              "                style=\"display:none;\">\n",
              "\n",
              "<svg xmlns=\"http://www.w3.org/2000/svg\" height=\"24px\"viewBox=\"0 0 24 24\"\n",
              "     width=\"24px\">\n",
              "    <g>\n",
              "        <path d=\"M19 3H5c-1.1 0-2 .9-2 2v14c0 1.1.9 2 2 2h14c1.1 0 2-.9 2-2V5c0-1.1-.9-2-2-2zM9 17H7v-7h2v7zm4 0h-2V7h2v10zm4 0h-2v-4h2v4z\"/>\n",
              "    </g>\n",
              "</svg>\n",
              "      </button>\n",
              "\n",
              "<style>\n",
              "  .colab-df-quickchart {\n",
              "      --bg-color: #E8F0FE;\n",
              "      --fill-color: #1967D2;\n",
              "      --hover-bg-color: #E2EBFA;\n",
              "      --hover-fill-color: #174EA6;\n",
              "      --disabled-fill-color: #AAA;\n",
              "      --disabled-bg-color: #DDD;\n",
              "  }\n",
              "\n",
              "  [theme=dark] .colab-df-quickchart {\n",
              "      --bg-color: #3B4455;\n",
              "      --fill-color: #D2E3FC;\n",
              "      --hover-bg-color: #434B5C;\n",
              "      --hover-fill-color: #FFFFFF;\n",
              "      --disabled-bg-color: #3B4455;\n",
              "      --disabled-fill-color: #666;\n",
              "  }\n",
              "\n",
              "  .colab-df-quickchart {\n",
              "    background-color: var(--bg-color);\n",
              "    border: none;\n",
              "    border-radius: 50%;\n",
              "    cursor: pointer;\n",
              "    display: none;\n",
              "    fill: var(--fill-color);\n",
              "    height: 32px;\n",
              "    padding: 0;\n",
              "    width: 32px;\n",
              "  }\n",
              "\n",
              "  .colab-df-quickchart:hover {\n",
              "    background-color: var(--hover-bg-color);\n",
              "    box-shadow: 0 1px 2px rgba(60, 64, 67, 0.3), 0 1px 3px 1px rgba(60, 64, 67, 0.15);\n",
              "    fill: var(--button-hover-fill-color);\n",
              "  }\n",
              "\n",
              "  .colab-df-quickchart-complete:disabled,\n",
              "  .colab-df-quickchart-complete:disabled:hover {\n",
              "    background-color: var(--disabled-bg-color);\n",
              "    fill: var(--disabled-fill-color);\n",
              "    box-shadow: none;\n",
              "  }\n",
              "\n",
              "  .colab-df-spinner {\n",
              "    border: 2px solid var(--fill-color);\n",
              "    border-color: transparent;\n",
              "    border-bottom-color: var(--fill-color);\n",
              "    animation:\n",
              "      spin 1s steps(1) infinite;\n",
              "  }\n",
              "\n",
              "  @keyframes spin {\n",
              "    0% {\n",
              "      border-color: transparent;\n",
              "      border-bottom-color: var(--fill-color);\n",
              "      border-left-color: var(--fill-color);\n",
              "    }\n",
              "    20% {\n",
              "      border-color: transparent;\n",
              "      border-left-color: var(--fill-color);\n",
              "      border-top-color: var(--fill-color);\n",
              "    }\n",
              "    30% {\n",
              "      border-color: transparent;\n",
              "      border-left-color: var(--fill-color);\n",
              "      border-top-color: var(--fill-color);\n",
              "      border-right-color: var(--fill-color);\n",
              "    }\n",
              "    40% {\n",
              "      border-color: transparent;\n",
              "      border-right-color: var(--fill-color);\n",
              "      border-top-color: var(--fill-color);\n",
              "    }\n",
              "    60% {\n",
              "      border-color: transparent;\n",
              "      border-right-color: var(--fill-color);\n",
              "    }\n",
              "    80% {\n",
              "      border-color: transparent;\n",
              "      border-right-color: var(--fill-color);\n",
              "      border-bottom-color: var(--fill-color);\n",
              "    }\n",
              "    90% {\n",
              "      border-color: transparent;\n",
              "      border-bottom-color: var(--fill-color);\n",
              "    }\n",
              "  }\n",
              "</style>\n",
              "\n",
              "      <script>\n",
              "        async function quickchart(key) {\n",
              "          const quickchartButtonEl =\n",
              "            document.querySelector('#' + key + ' button');\n",
              "          quickchartButtonEl.disabled = true;  // To prevent multiple clicks.\n",
              "          quickchartButtonEl.classList.add('colab-df-spinner');\n",
              "          try {\n",
              "            const charts = await google.colab.kernel.invokeFunction(\n",
              "                'suggestCharts', [key], {});\n",
              "          } catch (error) {\n",
              "            console.error('Error during call to suggestCharts:', error);\n",
              "          }\n",
              "          quickchartButtonEl.classList.remove('colab-df-spinner');\n",
              "          quickchartButtonEl.classList.add('colab-df-quickchart-complete');\n",
              "        }\n",
              "        (() => {\n",
              "          let quickchartButtonEl =\n",
              "            document.querySelector('#df-f649de2e-517f-4061-a1c9-7e9e142853f1 button');\n",
              "          quickchartButtonEl.style.display =\n",
              "            google.colab.kernel.accessAllowed ? 'block' : 'none';\n",
              "        })();\n",
              "      </script>\n",
              "    </div>\n",
              "\n",
              "    </div>\n",
              "  </div>\n"
            ],
            "application/vnd.google.colaboratory.intrinsic+json": {
              "type": "dataframe",
              "summary": "{\n  \"name\": \"test[[\\\"ward\\\", \\\"target\\\"]]\",\n  \"rows\": 5,\n  \"fields\": [\n    {\n      \"column\": \"ward\",\n      \"properties\": {\n        \"dtype\": \"string\",\n        \"num_unique_values\": 5,\n        \"samples\": [\n          \"21001002: Ward 2\",\n          \"21001005: Ward 5\",\n          \"21001003: Ward 3\"\n        ],\n        \"semantic_type\": \"\",\n        \"description\": \"\"\n      }\n    },\n    {\n      \"column\": \"target\",\n      \"properties\": {\n        \"dtype\": \"float32\",\n        \"num_unique_values\": 5,\n        \"samples\": [\n          11.573820114135742,\n          21.070573806762695,\n          18.432920455932617\n        ],\n        \"semantic_type\": \"\",\n        \"description\": \"\"\n      }\n    }\n  ]\n}"
            }
          },
          "metadata": {},
          "execution_count": 30
        }
      ]
    },
    {
      "cell_type": "code",
      "source": [
        "from lightgbm import LGBMRegressor\n",
        "\n",
        "model_lgb = LGBMRegressor()\n",
        "\n",
        "model_lgb.fit(X_train, y_train, eval_set=[(X_test, y_test)])\n",
        "\n",
        "y_pred = model_lgb.predict(X_test)\n",
        "mse = mean_squared_error(y_test, y_pred)\n",
        "\n",
        "print(f\"RMSE: {np.sqrt(mse)}\")"
      ],
      "metadata": {
        "id": "xIyB_hyxUaJm",
        "outputId": "0ab76802-c814-4ffe-d64c-76206831435f",
        "colab": {
          "base_uri": "https://localhost:8080/"
        }
      },
      "execution_count": 31,
      "outputs": [
        {
          "output_type": "stream",
          "name": "stdout",
          "text": [
            "[LightGBM] [Info] Auto-choosing col-wise multi-threading, the overhead of testing was 0.001685 seconds.\n",
            "You can set `force_col_wise=true` to remove the overhead.\n",
            "[LightGBM] [Info] Total Bins 14025\n",
            "[LightGBM] [Info] Number of data points in the train set: 2257, number of used features: 55\n",
            "[LightGBM] [Info] Start training from score 24.512353\n",
            "RMSE: 3.1763752466083535\n"
          ]
        }
      ]
    },
    {
      "cell_type": "code",
      "source": [
        "test[\"target\"] = model_lgb.predict(test[train_features])\n",
        "\n",
        "test[[\"ward\", \"target\"]].to_csv(\"submission_lgb_model_without_feature_selection.csv\", index=False)\n",
        "\n",
        "test[[\"ward\", \"target\"]].head()"
      ],
      "metadata": {
        "id": "FDFTUCPZUm1L",
        "outputId": "a00bd53b-b32a-487d-f276-60d4214ecfb5",
        "colab": {
          "base_uri": "https://localhost:8080/",
          "height": 206
        }
      },
      "execution_count": 33,
      "outputs": [
        {
          "output_type": "execute_result",
          "data": {
            "text/plain": [
              "               ward     target\n",
              "0  21001001: Ward 1  16.950257\n",
              "1  21001002: Ward 2  14.109041\n",
              "2  21001003: Ward 3  19.547016\n",
              "3  21001004: Ward 4  17.404880\n",
              "4  21001005: Ward 5  20.521051"
            ],
            "text/html": [
              "\n",
              "  <div id=\"df-52eaa32a-580d-4184-844e-5a84ecc453cf\" class=\"colab-df-container\">\n",
              "    <div>\n",
              "<style scoped>\n",
              "    .dataframe tbody tr th:only-of-type {\n",
              "        vertical-align: middle;\n",
              "    }\n",
              "\n",
              "    .dataframe tbody tr th {\n",
              "        vertical-align: top;\n",
              "    }\n",
              "\n",
              "    .dataframe thead th {\n",
              "        text-align: right;\n",
              "    }\n",
              "</style>\n",
              "<table border=\"1\" class=\"dataframe\">\n",
              "  <thead>\n",
              "    <tr style=\"text-align: right;\">\n",
              "      <th></th>\n",
              "      <th>ward</th>\n",
              "      <th>target</th>\n",
              "    </tr>\n",
              "  </thead>\n",
              "  <tbody>\n",
              "    <tr>\n",
              "      <th>0</th>\n",
              "      <td>21001001: Ward 1</td>\n",
              "      <td>16.950257</td>\n",
              "    </tr>\n",
              "    <tr>\n",
              "      <th>1</th>\n",
              "      <td>21001002: Ward 2</td>\n",
              "      <td>14.109041</td>\n",
              "    </tr>\n",
              "    <tr>\n",
              "      <th>2</th>\n",
              "      <td>21001003: Ward 3</td>\n",
              "      <td>19.547016</td>\n",
              "    </tr>\n",
              "    <tr>\n",
              "      <th>3</th>\n",
              "      <td>21001004: Ward 4</td>\n",
              "      <td>17.404880</td>\n",
              "    </tr>\n",
              "    <tr>\n",
              "      <th>4</th>\n",
              "      <td>21001005: Ward 5</td>\n",
              "      <td>20.521051</td>\n",
              "    </tr>\n",
              "  </tbody>\n",
              "</table>\n",
              "</div>\n",
              "    <div class=\"colab-df-buttons\">\n",
              "\n",
              "  <div class=\"colab-df-container\">\n",
              "    <button class=\"colab-df-convert\" onclick=\"convertToInteractive('df-52eaa32a-580d-4184-844e-5a84ecc453cf')\"\n",
              "            title=\"Convert this dataframe to an interactive table.\"\n",
              "            style=\"display:none;\">\n",
              "\n",
              "  <svg xmlns=\"http://www.w3.org/2000/svg\" height=\"24px\" viewBox=\"0 -960 960 960\">\n",
              "    <path d=\"M120-120v-720h720v720H120Zm60-500h600v-160H180v160Zm220 220h160v-160H400v160Zm0 220h160v-160H400v160ZM180-400h160v-160H180v160Zm440 0h160v-160H620v160ZM180-180h160v-160H180v160Zm440 0h160v-160H620v160Z\"/>\n",
              "  </svg>\n",
              "    </button>\n",
              "\n",
              "  <style>\n",
              "    .colab-df-container {\n",
              "      display:flex;\n",
              "      gap: 12px;\n",
              "    }\n",
              "\n",
              "    .colab-df-convert {\n",
              "      background-color: #E8F0FE;\n",
              "      border: none;\n",
              "      border-radius: 50%;\n",
              "      cursor: pointer;\n",
              "      display: none;\n",
              "      fill: #1967D2;\n",
              "      height: 32px;\n",
              "      padding: 0 0 0 0;\n",
              "      width: 32px;\n",
              "    }\n",
              "\n",
              "    .colab-df-convert:hover {\n",
              "      background-color: #E2EBFA;\n",
              "      box-shadow: 0px 1px 2px rgba(60, 64, 67, 0.3), 0px 1px 3px 1px rgba(60, 64, 67, 0.15);\n",
              "      fill: #174EA6;\n",
              "    }\n",
              "\n",
              "    .colab-df-buttons div {\n",
              "      margin-bottom: 4px;\n",
              "    }\n",
              "\n",
              "    [theme=dark] .colab-df-convert {\n",
              "      background-color: #3B4455;\n",
              "      fill: #D2E3FC;\n",
              "    }\n",
              "\n",
              "    [theme=dark] .colab-df-convert:hover {\n",
              "      background-color: #434B5C;\n",
              "      box-shadow: 0px 1px 3px 1px rgba(0, 0, 0, 0.15);\n",
              "      filter: drop-shadow(0px 1px 2px rgba(0, 0, 0, 0.3));\n",
              "      fill: #FFFFFF;\n",
              "    }\n",
              "  </style>\n",
              "\n",
              "    <script>\n",
              "      const buttonEl =\n",
              "        document.querySelector('#df-52eaa32a-580d-4184-844e-5a84ecc453cf button.colab-df-convert');\n",
              "      buttonEl.style.display =\n",
              "        google.colab.kernel.accessAllowed ? 'block' : 'none';\n",
              "\n",
              "      async function convertToInteractive(key) {\n",
              "        const element = document.querySelector('#df-52eaa32a-580d-4184-844e-5a84ecc453cf');\n",
              "        const dataTable =\n",
              "          await google.colab.kernel.invokeFunction('convertToInteractive',\n",
              "                                                    [key], {});\n",
              "        if (!dataTable) return;\n",
              "\n",
              "        const docLinkHtml = 'Like what you see? Visit the ' +\n",
              "          '<a target=\"_blank\" href=https://colab.research.google.com/notebooks/data_table.ipynb>data table notebook</a>'\n",
              "          + ' to learn more about interactive tables.';\n",
              "        element.innerHTML = '';\n",
              "        dataTable['output_type'] = 'display_data';\n",
              "        await google.colab.output.renderOutput(dataTable, element);\n",
              "        const docLink = document.createElement('div');\n",
              "        docLink.innerHTML = docLinkHtml;\n",
              "        element.appendChild(docLink);\n",
              "      }\n",
              "    </script>\n",
              "  </div>\n",
              "\n",
              "\n",
              "    <div id=\"df-7a5575ca-c4c2-46e6-ae87-4c5f9c690ab8\">\n",
              "      <button class=\"colab-df-quickchart\" onclick=\"quickchart('df-7a5575ca-c4c2-46e6-ae87-4c5f9c690ab8')\"\n",
              "                title=\"Suggest charts\"\n",
              "                style=\"display:none;\">\n",
              "\n",
              "<svg xmlns=\"http://www.w3.org/2000/svg\" height=\"24px\"viewBox=\"0 0 24 24\"\n",
              "     width=\"24px\">\n",
              "    <g>\n",
              "        <path d=\"M19 3H5c-1.1 0-2 .9-2 2v14c0 1.1.9 2 2 2h14c1.1 0 2-.9 2-2V5c0-1.1-.9-2-2-2zM9 17H7v-7h2v7zm4 0h-2V7h2v10zm4 0h-2v-4h2v4z\"/>\n",
              "    </g>\n",
              "</svg>\n",
              "      </button>\n",
              "\n",
              "<style>\n",
              "  .colab-df-quickchart {\n",
              "      --bg-color: #E8F0FE;\n",
              "      --fill-color: #1967D2;\n",
              "      --hover-bg-color: #E2EBFA;\n",
              "      --hover-fill-color: #174EA6;\n",
              "      --disabled-fill-color: #AAA;\n",
              "      --disabled-bg-color: #DDD;\n",
              "  }\n",
              "\n",
              "  [theme=dark] .colab-df-quickchart {\n",
              "      --bg-color: #3B4455;\n",
              "      --fill-color: #D2E3FC;\n",
              "      --hover-bg-color: #434B5C;\n",
              "      --hover-fill-color: #FFFFFF;\n",
              "      --disabled-bg-color: #3B4455;\n",
              "      --disabled-fill-color: #666;\n",
              "  }\n",
              "\n",
              "  .colab-df-quickchart {\n",
              "    background-color: var(--bg-color);\n",
              "    border: none;\n",
              "    border-radius: 50%;\n",
              "    cursor: pointer;\n",
              "    display: none;\n",
              "    fill: var(--fill-color);\n",
              "    height: 32px;\n",
              "    padding: 0;\n",
              "    width: 32px;\n",
              "  }\n",
              "\n",
              "  .colab-df-quickchart:hover {\n",
              "    background-color: var(--hover-bg-color);\n",
              "    box-shadow: 0 1px 2px rgba(60, 64, 67, 0.3), 0 1px 3px 1px rgba(60, 64, 67, 0.15);\n",
              "    fill: var(--button-hover-fill-color);\n",
              "  }\n",
              "\n",
              "  .colab-df-quickchart-complete:disabled,\n",
              "  .colab-df-quickchart-complete:disabled:hover {\n",
              "    background-color: var(--disabled-bg-color);\n",
              "    fill: var(--disabled-fill-color);\n",
              "    box-shadow: none;\n",
              "  }\n",
              "\n",
              "  .colab-df-spinner {\n",
              "    border: 2px solid var(--fill-color);\n",
              "    border-color: transparent;\n",
              "    border-bottom-color: var(--fill-color);\n",
              "    animation:\n",
              "      spin 1s steps(1) infinite;\n",
              "  }\n",
              "\n",
              "  @keyframes spin {\n",
              "    0% {\n",
              "      border-color: transparent;\n",
              "      border-bottom-color: var(--fill-color);\n",
              "      border-left-color: var(--fill-color);\n",
              "    }\n",
              "    20% {\n",
              "      border-color: transparent;\n",
              "      border-left-color: var(--fill-color);\n",
              "      border-top-color: var(--fill-color);\n",
              "    }\n",
              "    30% {\n",
              "      border-color: transparent;\n",
              "      border-left-color: var(--fill-color);\n",
              "      border-top-color: var(--fill-color);\n",
              "      border-right-color: var(--fill-color);\n",
              "    }\n",
              "    40% {\n",
              "      border-color: transparent;\n",
              "      border-right-color: var(--fill-color);\n",
              "      border-top-color: var(--fill-color);\n",
              "    }\n",
              "    60% {\n",
              "      border-color: transparent;\n",
              "      border-right-color: var(--fill-color);\n",
              "    }\n",
              "    80% {\n",
              "      border-color: transparent;\n",
              "      border-right-color: var(--fill-color);\n",
              "      border-bottom-color: var(--fill-color);\n",
              "    }\n",
              "    90% {\n",
              "      border-color: transparent;\n",
              "      border-bottom-color: var(--fill-color);\n",
              "    }\n",
              "  }\n",
              "</style>\n",
              "\n",
              "      <script>\n",
              "        async function quickchart(key) {\n",
              "          const quickchartButtonEl =\n",
              "            document.querySelector('#' + key + ' button');\n",
              "          quickchartButtonEl.disabled = true;  // To prevent multiple clicks.\n",
              "          quickchartButtonEl.classList.add('colab-df-spinner');\n",
              "          try {\n",
              "            const charts = await google.colab.kernel.invokeFunction(\n",
              "                'suggestCharts', [key], {});\n",
              "          } catch (error) {\n",
              "            console.error('Error during call to suggestCharts:', error);\n",
              "          }\n",
              "          quickchartButtonEl.classList.remove('colab-df-spinner');\n",
              "          quickchartButtonEl.classList.add('colab-df-quickchart-complete');\n",
              "        }\n",
              "        (() => {\n",
              "          let quickchartButtonEl =\n",
              "            document.querySelector('#df-7a5575ca-c4c2-46e6-ae87-4c5f9c690ab8 button');\n",
              "          quickchartButtonEl.style.display =\n",
              "            google.colab.kernel.accessAllowed ? 'block' : 'none';\n",
              "        })();\n",
              "      </script>\n",
              "    </div>\n",
              "\n",
              "    </div>\n",
              "  </div>\n"
            ],
            "application/vnd.google.colaboratory.intrinsic+json": {
              "type": "dataframe",
              "summary": "{\n  \"name\": \"test[[\\\"ward\\\", \\\"target\\\"]]\",\n  \"rows\": 5,\n  \"fields\": [\n    {\n      \"column\": \"ward\",\n      \"properties\": {\n        \"dtype\": \"string\",\n        \"num_unique_values\": 5,\n        \"samples\": [\n          \"21001002: Ward 2\",\n          \"21001005: Ward 5\",\n          \"21001003: Ward 3\"\n        ],\n        \"semantic_type\": \"\",\n        \"description\": \"\"\n      }\n    },\n    {\n      \"column\": \"target\",\n      \"properties\": {\n        \"dtype\": \"number\",\n        \"std\": 2.4956857788646216,\n        \"min\": 14.109040752234247,\n        \"max\": 20.521051409052692,\n        \"num_unique_values\": 5,\n        \"samples\": [\n          14.109040752234247,\n          20.521051409052692,\n          19.5470159270482\n        ],\n        \"semantic_type\": \"\",\n        \"description\": \"\"\n      }\n    }\n  ]\n}"
            }
          },
          "metadata": {},
          "execution_count": 33
        }
      ]
    },
    {
      "cell_type": "markdown",
      "source": [
        "## More EDA"
      ],
      "metadata": {
        "id": "wYjF9edyaeQT"
      }
    },
    {
      "cell_type": "code",
      "source": [
        "sns.boxplot(test[\"total_households\"])\n",
        "plt.xlabel(\"Individuals per Household\")\n",
        "plt.title(\"Histogram of Individuals per Household Ratio\")\n",
        "plt.show()"
      ],
      "metadata": {
        "colab": {
          "base_uri": "https://localhost:8080/",
          "height": 458
        },
        "id": "HJWErnKh3JO2",
        "outputId": "465d7523-8bdd-4f6b-e0b4-a8be11f18b9f"
      },
      "execution_count": 34,
      "outputs": [
        {
          "output_type": "display_data",
          "data": {
            "text/plain": [
              "<Figure size 640x480 with 1 Axes>"
            ],
            "image/png": "[encoded data removed]"
          },
          "metadata": {}
        }
      ]
    },
    {
      "cell_type": "markdown",
      "source": [
        "## Features Variance\n",
        "* The feature has low variance and conveys minimal information."
      ],
      "metadata": {
        "id": "w0wo0jCzb-ij"
      }
    },
    {
      "cell_type": "code",
      "source": [
        "import pandas as pd\n",
        "import matplotlib.pyplot as plt\n",
        "import seaborn as sns\n",
        "\n",
        "\n",
        "numerical_features = [col for col in train.columns if train[col].dtype != 'O']\n",
        "\n",
        "feature_var = train[numerical_features].var()\n",
        "\n",
        "plt.figure(figsize=(20, 8))\n",
        "bar_plot = sns.barplot(x=feature_var.index, y=feature_var.values)\n",
        "plt.xticks(rotation=45)\n",
        "plt.xlabel(\"Features\")\n",
        "plt.ylabel(\"Variance\")\n",
        "plt.title(\"Variance of Features\")\n",
        "plt.tight_layout()\n",
        "\n",
        "\n",
        "for p in bar_plot.patches:\n",
        "    bar_plot.annotate(f'{p.get_height():.2f}',\n",
        "                      (p.get_x() + p.get_width() / 2., p.get_height()),\n",
        "                      ha='center', va='bottom')\n",
        "\n",
        "plt.show()"
      ],
      "metadata": {
        "colab": {
          "base_uri": "https://localhost:8080/",
          "height": 505
        },
        "id": "KlI1BhCSLc6w",
        "outputId": "bffa1743-65cf-4741-de1b-7888db4c737d"
      },
      "execution_count": 36,
      "outputs": [
        {
          "output_type": "display_data",
          "data": {
            "text/plain": [
              "<Figure size 2000x800 with 1 Axes>"
            ],
            "image/png": "[encoded data removed]"
          },
          "metadata": {}
        }
      ]
    },
    {
      "cell_type": "code",
      "source": [
        "# filter based on the values  for feature_var\n",
        "\n",
        "feature_var = feature_var[feature_var < 1]\n",
        "\n",
        "plt.figure(figsize=(40, 8))\n",
        "bar_plot = sns.barplot(x=feature_var.index, y=feature_var.values)\n",
        "plt.xticks(rotation=45)\n",
        "plt.xlabel(\"Features\")\n",
        "plt.ylabel(\"Variance\")\n",
        "plt.title(\"Variance of Features\")\n",
        "plt.tight_layout()\n",
        "\n",
        "\n",
        "for p in bar_plot.patches:\n",
        "    bar_plot.annotate(f'{p.get_height():.4f}',\n",
        "                      (p.get_x() + p.get_width() / 2., p.get_height()),\n",
        "                      ha='center', va='bottom')\n",
        "\n",
        "plt.show()"
      ],
      "metadata": {
        "colab": {
          "base_uri": "https://localhost:8080/",
          "height": 261
        },
        "id": "UMgmRgQjMtmk",
        "outputId": "ccdaff3d-5509-4e52-9c54-02d28e80a775"
      },
      "execution_count": 37,
      "outputs": [
        {
          "output_type": "display_data",
          "data": {
            "text/plain": [
              "<Figure size 4000x800 with 1 Axes>"
            ],
            "image/png": "[encoded data removed]"
          },
          "metadata": {}
        }
      ]
    },
    {
      "cell_type": "code",
      "source": [
        "from sklearn.feature_selection import VarianceThreshold\n",
        "\n",
        "numerical_features = [col for col in train.columns if train[col].dtype != 'O']\n",
        "\n",
        "\n",
        "constant_filter = VarianceThreshold(threshold=0.001)\n",
        "constant_filter.fit(train[numerical_features])\n",
        "\n",
        "constant_columns = [\n",
        "    column for column in numerical_features\n",
        "    if column not in np.array(numerical_features)[constant_filter.get_support()]\n",
        "]\n",
        "print(*constant_columns)\n",
        "\n",
        "train.drop(labels=constant_columns, axis=1, inplace=True)\n",
        "test.drop(labels=constant_columns, axis=1, inplace=True)"
      ],
      "metadata": {
        "id": "ZEVE7sfT1E2e",
        "colab": {
          "base_uri": "https://localhost:8080/"
        },
        "outputId": "88108567-b5b8-4e07-a0ff-db2bf16fde30"
      },
      "execution_count": 38,
      "outputs": [
        {
          "output_type": "stream",
          "name": "stdout",
          "text": [
            "dw_03 dw_04 dw_05 dw_09 dw_10 dw_11 dw_12 dw_13 psa_02 psa_03 lan_08 lan_12 lan_13 pg_04 pw_05 pw_07 pw_08\n"
          ]
        }
      ]
    },
    {
      "cell_type": "code",
      "source": [
        "from IPython.display import display, Markdown\n",
        "\n",
        "display(Markdown(\"### 🔒 **Constant Features Detected**\\nBelow are the features that have constant values across all records:\"))\n",
        "\n",
        "for column in constant_columns:\n",
        "    description = var_def_dict.get(column, \"No description available.\")\n",
        "    display(Markdown(f\"🔹 **`{column}`** — *{description}*\"))\n"
      ],
      "metadata": {
        "id": "ygYSZYrWeU9y",
        "outputId": "a1c58dca-0adf-42e4-8224-7f92e3e8a71b",
        "colab": {
          "base_uri": "https://localhost:8080/",
          "height": 496
        }
      },
      "execution_count": 39,
      "outputs": [
        {
          "output_type": "display_data",
          "data": {
            "text/plain": [
              "<IPython.core.display.Markdown object>"
            ],
            "text/markdown": "### 🔒 **Constant Features Detected**\nBelow are the features that have constant values across all records:"
          },
          "metadata": {}
        },
        {
          "output_type": "display_data",
          "data": {
            "text/plain": [
              "<IPython.core.display.Markdown object>"
            ],
            "text/markdown": "🔹 **`dw_03`** — *Percentage of dwellings of type: Cluster house in complex*"
          },
          "metadata": {}
        },
        {
          "output_type": "display_data",
          "data": {
            "text/plain": [
              "<IPython.core.display.Markdown object>"
            ],
            "text/markdown": "🔹 **`dw_04`** — *Percentage of dwellings of type: Townhouse (semi-detached house in a complex)*"
          },
          "metadata": {}
        },
        {
          "output_type": "display_data",
          "data": {
            "text/plain": [
              "<IPython.core.display.Markdown object>"
            ],
            "text/markdown": "🔹 **`dw_05`** — *Percentage of dwellings of type: Semi-detached house*"
          },
          "metadata": {}
        },
        {
          "output_type": "display_data",
          "data": {
            "text/plain": [
              "<IPython.core.display.Markdown object>"
            ],
            "text/markdown": "🔹 **`dw_09`** — *Percentage of dwellings of type: Room/flatlet on a property or larger dwelling/servants quarters/granny flat*"
          },
          "metadata": {}
        },
        {
          "output_type": "display_data",
          "data": {
            "text/plain": [
              "<IPython.core.display.Markdown object>"
            ],
            "text/markdown": "🔹 **`dw_10`** — *Percentage of dwellings of type: Caravan/tent*"
          },
          "metadata": {}
        },
        {
          "output_type": "display_data",
          "data": {
            "text/plain": [
              "<IPython.core.display.Markdown object>"
            ],
            "text/markdown": "🔹 **`dw_11`** — *Percentage of dwellings of type: Other*"
          },
          "metadata": {}
        },
        {
          "output_type": "display_data",
          "data": {
            "text/plain": [
              "<IPython.core.display.Markdown object>"
            ],
            "text/markdown": "🔹 **`dw_12`** — *Percentage of dwellings of type: Unspecified*"
          },
          "metadata": {}
        },
        {
          "output_type": "display_data",
          "data": {
            "text/plain": [
              "<IPython.core.display.Markdown object>"
            ],
            "text/markdown": "🔹 **`dw_13`** — *Percentage of dwellings of type: Not applicable*"
          },
          "metadata": {}
        },
        {
          "output_type": "display_data",
          "data": {
            "text/plain": [
              "<IPython.core.display.Markdown object>"
            ],
            "text/markdown": "🔹 **`psa_02`** — *Percentage listing present school attendance as:  Do not know*"
          },
          "metadata": {}
        },
        {
          "output_type": "display_data",
          "data": {
            "text/plain": [
              "<IPython.core.display.Markdown object>"
            ],
            "text/markdown": "🔹 **`psa_03`** — *Percentage listing present school attendance as:  Unspecified*"
          },
          "metadata": {}
        },
        {
          "output_type": "display_data",
          "data": {
            "text/plain": [
              "<IPython.core.display.Markdown object>"
            ],
            "text/markdown": "🔹 **`lan_08`** — *Percentage listing language as:  Sign language*"
          },
          "metadata": {}
        },
        {
          "output_type": "display_data",
          "data": {
            "text/plain": [
              "<IPython.core.display.Markdown object>"
            ],
            "text/markdown": "🔹 **`lan_12`** — *Percentage listing language as:  Other*"
          },
          "metadata": {}
        },
        {
          "output_type": "display_data",
          "data": {
            "text/plain": [
              "<IPython.core.display.Markdown object>"
            ],
            "text/markdown": "🔹 **`lan_13`** — *Percentage listing language as:  Unspecified*"
          },
          "metadata": {}
        },
        {
          "output_type": "display_data",
          "data": {
            "text/plain": [
              "<IPython.core.display.Markdown object>"
            ],
            "text/markdown": "🔹 **`pg_04`** — *Percentage in population group:  Other*"
          },
          "metadata": {}
        },
        {
          "output_type": "display_data",
          "data": {
            "text/plain": [
              "<IPython.core.display.Markdown object>"
            ],
            "text/markdown": "🔹 **`pw_05`** — *Percentage with piped water access:  Piped (tap) water on community stand: distance greater than 1000m (1km) from dwelling/institution*"
          },
          "metadata": {}
        },
        {
          "output_type": "display_data",
          "data": {
            "text/plain": [
              "<IPython.core.display.Markdown object>"
            ],
            "text/markdown": "🔹 **`pw_07`** — *Percentage with piped water access:  Unspecified*"
          },
          "metadata": {}
        },
        {
          "output_type": "display_data",
          "data": {
            "text/plain": [
              "<IPython.core.display.Markdown object>"
            ],
            "text/markdown": "🔹 **`pw_08`** — *Percentage with piped water access:  Not applicable*"
          },
          "metadata": {}
        }
      ]
    },
    {
      "cell_type": "code",
      "source": [
        "train.head()"
      ],
      "metadata": {
        "colab": {
          "base_uri": "https://localhost:8080/",
          "height": 342
        },
        "id": "a8X8USFQD0A5",
        "outputId": "54d8656e-2948-4922-852c-8b2b50b26f53"
      },
      "execution_count": 40,
      "outputs": [
        {
          "output_type": "execute_result",
          "data": {
            "text/plain": [
              "               ward  total_households  total_individuals     target     dw_00  \\\n",
              "0  41601001: Ward 1        1674.45058         5888.20750  16.773757  0.933841   \n",
              "1  41601002: Ward 2        1736.99230         6735.33812  21.496661  0.696940   \n",
              "2  41601003: Ward 3        2403.57591         7273.04995  10.931425  0.810545   \n",
              "3  41601004: Ward 4        1740.78737         5734.49046  23.119257  0.659914   \n",
              "4  41601005: Ward 5        1730.51451         6657.23835  13.652252  0.950575   \n",
              "\n",
              "      dw_01     dw_02     dw_06     dw_07     dw_08  ...     pw_00     pw_01  \\\n",
              "0  0.000846  0.005490  0.005750  0.031466  0.008080  ...  0.742692  0.214027   \n",
              "1  0.001253  0.004402  0.007575  0.123547  0.151910  ...  0.309294  0.576844   \n",
              "2  0.004517  0.008891  0.006686  0.022632  0.129902  ...  0.323393  0.483376   \n",
              "3  0.000000  0.006129  0.005255  0.068909  0.218786  ...  0.677437  0.314194   \n",
              "4  0.000655  0.001473  0.004985  0.009150  0.015382  ...  0.771106  0.194743   \n",
              "\n",
              "      pw_02     pw_03     pw_04     pw_06  ADM4_PCODE        lat        lon  \\\n",
              "0  0.019968  0.002848  0.007537  0.012928   ZA4161001 -29.682270  24.734743   \n",
              "1  0.018946  0.014566  0.057127  0.004131   ZA4161002 -29.119311  24.757737   \n",
              "2  0.083010  0.057560  0.010358  0.040881   ZA4161003 -29.142276  25.094093   \n",
              "3  0.002689  0.000000  0.000669  0.005011   ZA4161004 -29.372052  24.942867   \n",
              "4  0.009699  0.004859  0.001290  0.017629   ZA4161005 -29.409381  25.290165   \n",
              "\n",
              "         NL  \n",
              "0  0.292039  \n",
              "1  3.207775  \n",
              "2  0.000000  \n",
              "3  2.038778  \n",
              "4  0.000000  \n",
              "\n",
              "[5 rows x 46 columns]"
            ],
            "text/html": [
              "\n",
              "  <div id=\"df-b377ddac-1f58-46eb-896a-c22ab7adc328\" class=\"colab-df-container\">\n",
              "    <div>\n",
              "<style scoped>\n",
              "    .dataframe tbody tr th:only-of-type {\n",
              "        vertical-align: middle;\n",
              "    }\n",
              "\n",
              "    .dataframe tbody tr th {\n",
              "        vertical-align: top;\n",
              "    }\n",
              "\n",
              "    .dataframe thead th {\n",
              "        text-align: right;\n",
              "    }\n",
              "</style>\n",
              "<table border=\"1\" class=\"dataframe\">\n",
              "  <thead>\n",
              "    <tr style=\"text-align: right;\">\n",
              "      <th></th>\n",
              "      <th>ward</th>\n",
              "      <th>total_households</th>\n",
              "      <th>total_individuals</th>\n",
              "      <th>target</th>\n",
              "      <th>dw_00</th>\n",
              "      <th>dw_01</th>\n",
              "      <th>dw_02</th>\n",
              "      <th>dw_06</th>\n",
              "      <th>dw_07</th>\n",
              "      <th>dw_08</th>\n",
              "      <th>...</th>\n",
              "      <th>pw_00</th>\n",
              "      <th>pw_01</th>\n",
              "      <th>pw_02</th>\n",
              "      <th>pw_03</th>\n",
              "      <th>pw_04</th>\n",
              "      <th>pw_06</th>\n",
              "      <th>ADM4_PCODE</th>\n",
              "      <th>lat</th>\n",
              "      <th>lon</th>\n",
              "      <th>NL</th>\n",
              "    </tr>\n",
              "  </thead>\n",
              "  <tbody>\n",
              "    <tr>\n",
              "      <th>0</th>\n",
              "      <td>41601001: Ward 1</td>\n",
              "      <td>1674.45058</td>\n",
              "      <td>5888.20750</td>\n",
              "      <td>16.773757</td>\n",
              "      <td>0.933841</td>\n",
              "      <td>0.000846</td>\n",
              "      <td>0.005490</td>\n",
              "      <td>0.005750</td>\n",
              "      <td>0.031466</td>\n",
              "      <td>0.008080</td>\n",
              "      <td>...</td>\n",
              "      <td>0.742692</td>\n",
              "      <td>0.214027</td>\n",
              "      <td>0.019968</td>\n",
              "      <td>0.002848</td>\n",
              "      <td>0.007537</td>\n",
              "      <td>0.012928</td>\n",
              "      <td>ZA4161001</td>\n",
              "      <td>-29.682270</td>\n",
              "      <td>24.734743</td>\n",
              "      <td>0.292039</td>\n",
              "    </tr>\n",
              "    <tr>\n",
              "      <th>1</th>\n",
              "      <td>41601002: Ward 2</td>\n",
              "      <td>1736.99230</td>\n",
              "      <td>6735.33812</td>\n",
              "      <td>21.496661</td>\n",
              "      <td>0.696940</td>\n",
              "      <td>0.001253</td>\n",
              "      <td>0.004402</td>\n",
              "      <td>0.007575</td>\n",
              "      <td>0.123547</td>\n",
              "      <td>0.151910</td>\n",
              "      <td>...</td>\n",
              "      <td>0.309294</td>\n",
              "      <td>0.576844</td>\n",
              "      <td>0.018946</td>\n",
              "      <td>0.014566</td>\n",
              "      <td>0.057127</td>\n",
              "      <td>0.004131</td>\n",
              "      <td>ZA4161002</td>\n",
              "      <td>-29.119311</td>\n",
              "      <td>24.757737</td>\n",
              "      <td>3.207775</td>\n",
              "    </tr>\n",
              "    <tr>\n",
              "      <th>2</th>\n",
              "      <td>41601003: Ward 3</td>\n",
              "      <td>2403.57591</td>\n",
              "      <td>7273.04995</td>\n",
              "      <td>10.931425</td>\n",
              "      <td>0.810545</td>\n",
              "      <td>0.004517</td>\n",
              "      <td>0.008891</td>\n",
              "      <td>0.006686</td>\n",
              "      <td>0.022632</td>\n",
              "      <td>0.129902</td>\n",
              "      <td>...</td>\n",
              "      <td>0.323393</td>\n",
              "      <td>0.483376</td>\n",
              "      <td>0.083010</td>\n",
              "      <td>0.057560</td>\n",
              "      <td>0.010358</td>\n",
              "      <td>0.040881</td>\n",
              "      <td>ZA4161003</td>\n",
              "      <td>-29.142276</td>\n",
              "      <td>25.094093</td>\n",
              "      <td>0.000000</td>\n",
              "    </tr>\n",
              "    <tr>\n",
              "      <th>3</th>\n",
              "      <td>41601004: Ward 4</td>\n",
              "      <td>1740.78737</td>\n",
              "      <td>5734.49046</td>\n",
              "      <td>23.119257</td>\n",
              "      <td>0.659914</td>\n",
              "      <td>0.000000</td>\n",
              "      <td>0.006129</td>\n",
              "      <td>0.005255</td>\n",
              "      <td>0.068909</td>\n",
              "      <td>0.218786</td>\n",
              "      <td>...</td>\n",
              "      <td>0.677437</td>\n",
              "      <td>0.314194</td>\n",
              "      <td>0.002689</td>\n",
              "      <td>0.000000</td>\n",
              "      <td>0.000669</td>\n",
              "      <td>0.005011</td>\n",
              "      <td>ZA4161004</td>\n",
              "      <td>-29.372052</td>\n",
              "      <td>24.942867</td>\n",
              "      <td>2.038778</td>\n",
              "    </tr>\n",
              "    <tr>\n",
              "      <th>4</th>\n",
              "      <td>41601005: Ward 5</td>\n",
              "      <td>1730.51451</td>\n",
              "      <td>6657.23835</td>\n",
              "      <td>13.652252</td>\n",
              "      <td>0.950575</td>\n",
              "      <td>0.000655</td>\n",
              "      <td>0.001473</td>\n",
              "      <td>0.004985</td>\n",
              "      <td>0.009150</td>\n",
              "      <td>0.015382</td>\n",
              "      <td>...</td>\n",
              "      <td>0.771106</td>\n",
              "      <td>0.194743</td>\n",
              "      <td>0.009699</td>\n",
              "      <td>0.004859</td>\n",
              "      <td>0.001290</td>\n",
              "      <td>0.017629</td>\n",
              "      <td>ZA4161005</td>\n",
              "      <td>-29.409381</td>\n",
              "      <td>25.290165</td>\n",
              "      <td>0.000000</td>\n",
              "    </tr>\n",
              "  </tbody>\n",
              "</table>\n",
              "<p>5 rows × 46 columns</p>\n",
              "</div>\n",
              "    <div class=\"colab-df-buttons\">\n",
              "\n",
              "  <div class=\"colab-df-container\">\n",
              "    <button class=\"colab-df-convert\" onclick=\"convertToInteractive('df-b377ddac-1f58-46eb-896a-c22ab7adc328')\"\n",
              "            title=\"Convert this dataframe to an interactive table.\"\n",
              "            style=\"display:none;\">\n",
              "\n",
              "  <svg xmlns=\"http://www.w3.org/2000/svg\" height=\"24px\" viewBox=\"0 -960 960 960\">\n",
              "    <path d=\"M120-120v-720h720v720H120Zm60-500h600v-160H180v160Zm220 220h160v-160H400v160Zm0 220h160v-160H400v160ZM180-400h160v-160H180v160Zm440 0h160v-160H620v160ZM180-180h160v-160H180v160Zm440 0h160v-160H620v160Z\"/>\n",
              "  </svg>\n",
              "    </button>\n",
              "\n",
              "  <style>\n",
              "    .colab-df-container {\n",
              "      display:flex;\n",
              "      gap: 12px;\n",
              "    }\n",
              "\n",
              "    .colab-df-convert {\n",
              "      background-color: #E8F0FE;\n",
              "      border: none;\n",
              "      border-radius: 50%;\n",
              "      cursor: pointer;\n",
              "      display: none;\n",
              "      fill: #1967D2;\n",
              "      height: 32px;\n",
              "      padding: 0 0 0 0;\n",
              "      width: 32px;\n",
              "    }\n",
              "\n",
              "    .colab-df-convert:hover {\n",
              "      background-color: #E2EBFA;\n",
              "      box-shadow: 0px 1px 2px rgba(60, 64, 67, 0.3), 0px 1px 3px 1px rgba(60, 64, 67, 0.15);\n",
              "      fill: #174EA6;\n",
              "    }\n",
              "\n",
              "    .colab-df-buttons div {\n",
              "      margin-bottom: 4px;\n",
              "    }\n",
              "\n",
              "    [theme=dark] .colab-df-convert {\n",
              "      background-color: #3B4455;\n",
              "      fill: #D2E3FC;\n",
              "    }\n",
              "\n",
              "    [theme=dark] .colab-df-convert:hover {\n",
              "      background-color: #434B5C;\n",
              "      box-shadow: 0px 1px 3px 1px rgba(0, 0, 0, 0.15);\n",
              "      filter: drop-shadow(0px 1px 2px rgba(0, 0, 0, 0.3));\n",
              "      fill: #FFFFFF;\n",
              "    }\n",
              "  </style>\n",
              "\n",
              "    <script>\n",
              "      const buttonEl =\n",
              "        document.querySelector('#df-b377ddac-1f58-46eb-896a-c22ab7adc328 button.colab-df-convert');\n",
              "      buttonEl.style.display =\n",
              "        google.colab.kernel.accessAllowed ? 'block' : 'none';\n",
              "\n",
              "      async function convertToInteractive(key) {\n",
              "        const element = document.querySelector('#df-b377ddac-1f58-46eb-896a-c22ab7adc328');\n",
              "        const dataTable =\n",
              "          await google.colab.kernel.invokeFunction('convertToInteractive',\n",
              "                                                    [key], {});\n",
              "        if (!dataTable) return;\n",
              "\n",
              "        const docLinkHtml = 'Like what you see? Visit the ' +\n",
              "          '<a target=\"_blank\" href=https://colab.research.google.com/notebooks/data_table.ipynb>data table notebook</a>'\n",
              "          + ' to learn more about interactive tables.';\n",
              "        element.innerHTML = '';\n",
              "        dataTable['output_type'] = 'display_data';\n",
              "        await google.colab.output.renderOutput(dataTable, element);\n",
              "        const docLink = document.createElement('div');\n",
              "        docLink.innerHTML = docLinkHtml;\n",
              "        element.appendChild(docLink);\n",
              "      }\n",
              "    </script>\n",
              "  </div>\n",
              "\n",
              "\n",
              "    <div id=\"df-93bef9f1-414e-49e3-9106-64922339df77\">\n",
              "      <button class=\"colab-df-quickchart\" onclick=\"quickchart('df-93bef9f1-414e-49e3-9106-64922339df77')\"\n",
              "                title=\"Suggest charts\"\n",
              "                style=\"display:none;\">\n",
              "\n",
              "<svg xmlns=\"http://www.w3.org/2000/svg\" height=\"24px\"viewBox=\"0 0 24 24\"\n",
              "     width=\"24px\">\n",
              "    <g>\n",
              "        <path d=\"M19 3H5c-1.1 0-2 .9-2 2v14c0 1.1.9 2 2 2h14c1.1 0 2-.9 2-2V5c0-1.1-.9-2-2-2zM9 17H7v-7h2v7zm4 0h-2V7h2v10zm4 0h-2v-4h2v4z\"/>\n",
              "    </g>\n",
              "</svg>\n",
              "      </button>\n",
              "\n",
              "<style>\n",
              "  .colab-df-quickchart {\n",
              "      --bg-color: #E8F0FE;\n",
              "      --fill-color: #1967D2;\n",
              "      --hover-bg-color: #E2EBFA;\n",
              "      --hover-fill-color: #174EA6;\n",
              "      --disabled-fill-color: #AAA;\n",
              "      --disabled-bg-color: #DDD;\n",
              "  }\n",
              "\n",
              "  [theme=dark] .colab-df-quickchart {\n",
              "      --bg-color: #3B4455;\n",
              "      --fill-color: #D2E3FC;\n",
              "      --hover-bg-color: #434B5C;\n",
              "      --hover-fill-color: #FFFFFF;\n",
              "      --disabled-bg-color: #3B4455;\n",
              "      --disabled-fill-color: #666;\n",
              "  }\n",
              "\n",
              "  .colab-df-quickchart {\n",
              "    background-color: var(--bg-color);\n",
              "    border: none;\n",
              "    border-radius: 50%;\n",
              "    cursor: pointer;\n",
              "    display: none;\n",
              "    fill: var(--fill-color);\n",
              "    height: 32px;\n",
              "    padding: 0;\n",
              "    width: 32px;\n",
              "  }\n",
              "\n",
              "  .colab-df-quickchart:hover {\n",
              "    background-color: var(--hover-bg-color);\n",
              "    box-shadow: 0 1px 2px rgba(60, 64, 67, 0.3), 0 1px 3px 1px rgba(60, 64, 67, 0.15);\n",
              "    fill: var(--button-hover-fill-color);\n",
              "  }\n",
              "\n",
              "  .colab-df-quickchart-complete:disabled,\n",
              "  .colab-df-quickchart-complete:disabled:hover {\n",
              "    background-color: var(--disabled-bg-color);\n",
              "    fill: var(--disabled-fill-color);\n",
              "    box-shadow: none;\n",
              "  }\n",
              "\n",
              "  .colab-df-spinner {\n",
              "    border: 2px solid var(--fill-color);\n",
              "    border-color: transparent;\n",
              "    border-bottom-color: var(--fill-color);\n",
              "    animation:\n",
              "      spin 1s steps(1) infinite;\n",
              "  }\n",
              "\n",
              "  @keyframes spin {\n",
              "    0% {\n",
              "      border-color: transparent;\n",
              "      border-bottom-color: var(--fill-color);\n",
              "      border-left-color: var(--fill-color);\n",
              "    }\n",
              "    20% {\n",
              "      border-color: transparent;\n",
              "      border-left-color: var(--fill-color);\n",
              "      border-top-color: var(--fill-color);\n",
              "    }\n",
              "    30% {\n",
              "      border-color: transparent;\n",
              "      border-left-color: var(--fill-color);\n",
              "      border-top-color: var(--fill-color);\n",
              "      border-right-color: var(--fill-color);\n",
              "    }\n",
              "    40% {\n",
              "      border-color: transparent;\n",
              "      border-right-color: var(--fill-color);\n",
              "      border-top-color: var(--fill-color);\n",
              "    }\n",
              "    60% {\n",
              "      border-color: transparent;\n",
              "      border-right-color: var(--fill-color);\n",
              "    }\n",
              "    80% {\n",
              "      border-color: transparent;\n",
              "      border-right-color: var(--fill-color);\n",
              "      border-bottom-color: var(--fill-color);\n",
              "    }\n",
              "    90% {\n",
              "      border-color: transparent;\n",
              "      border-bottom-color: var(--fill-color);\n",
              "    }\n",
              "  }\n",
              "</style>\n",
              "\n",
              "      <script>\n",
              "        async function quickchart(key) {\n",
              "          const quickchartButtonEl =\n",
              "            document.querySelector('#' + key + ' button');\n",
              "          quickchartButtonEl.disabled = true;  // To prevent multiple clicks.\n",
              "          quickchartButtonEl.classList.add('colab-df-spinner');\n",
              "          try {\n",
              "            const charts = await google.colab.kernel.invokeFunction(\n",
              "                'suggestCharts', [key], {});\n",
              "          } catch (error) {\n",
              "            console.error('Error during call to suggestCharts:', error);\n",
              "          }\n",
              "          quickchartButtonEl.classList.remove('colab-df-spinner');\n",
              "          quickchartButtonEl.classList.add('colab-df-quickchart-complete');\n",
              "        }\n",
              "        (() => {\n",
              "          let quickchartButtonEl =\n",
              "            document.querySelector('#df-93bef9f1-414e-49e3-9106-64922339df77 button');\n",
              "          quickchartButtonEl.style.display =\n",
              "            google.colab.kernel.accessAllowed ? 'block' : 'none';\n",
              "        })();\n",
              "      </script>\n",
              "    </div>\n",
              "\n",
              "    </div>\n",
              "  </div>\n"
            ],
            "application/vnd.google.colaboratory.intrinsic+json": {
              "type": "dataframe",
              "variable_name": "train"
            }
          },
          "metadata": {},
          "execution_count": 40
        }
      ]
    },
    {
      "cell_type": "markdown",
      "source": [
        "### Modelling After Constant Feature removed"
      ],
      "metadata": {
        "id": "VnxjgKOjkc8g"
      }
    },
    {
      "cell_type": "code",
      "source": [],
      "metadata": {
        "id": "V7Ua8a7vkcTU"
      },
      "execution_count": null,
      "outputs": []
    },
    {
      "cell_type": "code",
      "source": [
        "training_feature = [col for col in train.select_dtypes(\"number\").columns if col != \"target\"]\n",
        "\n",
        "X, y = train[training_feature], train[\"target\"]\n",
        "\n",
        "X_train, X_test, y_train, y_test = train_test_split(X, y, test_size=0.2, random_state=42)\n",
        "\n",
        "models = [\n",
        "    RandomForestRegressor(),\n",
        "    CatBoostRegressor(),\n",
        "    XGBRegressor(),\n",
        "    LGBMRegressor()\n",
        "]\n",
        "\n",
        "for model in models:\n",
        "    if isinstance(model, CatBoostRegressor):\n",
        "        model.fit(X_train, y_train, eval_set=(X_test, y_test), verbose=100)\n",
        "    else:\n",
        "        model.fit(X_train, y_train)\n",
        "        y_pred = model.predict(X_test)\n",
        "        mse = mean_squared_error(y_test, y_pred)\n",
        "        print(f\"{model.__class__.__name__} RMSE: {np.sqrt(mse)}\")\n",
        "        print(\"======================================\")\n"
      ],
      "metadata": {
        "id": "qOC1-8EfkXVX",
        "outputId": "5576da93-dd04-47fd-da0a-ed966eb5cc06",
        "colab": {
          "base_uri": "https://localhost:8080/"
        }
      },
      "execution_count": 43,
      "outputs": [
        {
          "output_type": "stream",
          "name": "stdout",
          "text": [
            "RandomForestRegressor RMSE: 3.326123616382489\n",
            "======================================\n",
            "Learning rate set to 0.057863\n",
            "0:\tlearn: 9.9622191\ttest: 9.5186624\tbest: 9.5186624 (0)\ttotal: 11.7ms\tremaining: 11.7s\n",
            "100:\tlearn: 3.1236927\ttest: 3.3825749\tbest: 3.3825749 (100)\ttotal: 1.16s\tremaining: 10.4s\n",
            "200:\tlearn: 2.5538637\ttest: 3.2084868\tbest: 3.2084868 (200)\ttotal: 2.29s\tremaining: 9.09s\n",
            "300:\tlearn: 2.0943356\ttest: 3.1046888\tbest: 3.1046888 (300)\ttotal: 3.42s\tremaining: 7.94s\n",
            "400:\tlearn: 1.7861757\ttest: 3.0556196\tbest: 3.0556196 (400)\ttotal: 4.54s\tremaining: 6.78s\n",
            "500:\tlearn: 1.5306242\ttest: 3.0321442\tbest: 3.0321426 (499)\ttotal: 5.67s\tremaining: 5.64s\n",
            "600:\tlearn: 1.3254104\ttest: 3.0088092\tbest: 3.0088092 (600)\ttotal: 6.8s\tremaining: 4.51s\n",
            "700:\tlearn: 1.1447612\ttest: 2.9998044\tbest: 2.9992331 (699)\ttotal: 8.65s\tremaining: 3.69s\n",
            "800:\tlearn: 1.0046000\ttest: 2.9901023\tbest: 2.9898623 (799)\ttotal: 11.1s\tremaining: 2.76s\n",
            "900:\tlearn: 0.8827538\ttest: 2.9887857\tbest: 2.9860992 (830)\ttotal: 12.4s\tremaining: 1.36s\n",
            "999:\tlearn: 0.7775134\ttest: 2.9833092\tbest: 2.9827328 (990)\ttotal: 13.6s\tremaining: 0us\n",
            "\n",
            "bestTest = 2.982732796\n",
            "bestIteration = 990\n",
            "\n",
            "Shrink model to first 991 iterations.\n",
            "XGBRegressor RMSE: 3.2632531658706045\n",
            "======================================\n",
            "[LightGBM] [Info] Auto-choosing col-wise multi-threading, the overhead of testing was 0.001247 seconds.\n",
            "You can set `force_col_wise=true` to remove the overhead.\n",
            "[LightGBM] [Info] Total Bins 10965\n",
            "[LightGBM] [Info] Number of data points in the train set: 2257, number of used features: 43\n",
            "[LightGBM] [Info] Start training from score 24.512353\n",
            "LGBMRegressor RMSE: 3.1473835100346\n",
            "======================================\n"
          ]
        }
      ]
    },
    {
      "cell_type": "markdown",
      "source": [
        "## remove highly correleated features\n"
      ],
      "metadata": {
        "id": "W-L1TTqu1MqK"
      }
    },
    {
      "cell_type": "code",
      "source": [
        "\n",
        "numerical_features = [col for col in train.columns if train[col].dtype != 'O']\n",
        "corr_matrix = train[numerical_features].corr()\n",
        "\n",
        "# upper matrix\n",
        "upper = corr_matrix.where(np.triu(np.ones(corr_matrix.shape), k=1).astype(bool))\n",
        "to_drop = [column for column in upper.columns if any(abs(upper[column]) > 0.95)]\n",
        "\n",
        "train.drop(labels=to_drop, axis=1, inplace=True)\n",
        "test.drop(labels=to_drop, axis=1, inplace=True)"
      ],
      "metadata": {
        "id": "y8x3_t0z2mcc"
      },
      "execution_count": null,
      "outputs": []
    },
    {
      "cell_type": "code",
      "source": [
        "to_drop"
      ],
      "metadata": {
        "colab": {
          "base_uri": "https://localhost:8080/"
        },
        "id": "aIwsHM96PBF3",
        "outputId": "9d9057dd-4c37-41b7-f788-26e1adae00d3"
      },
      "execution_count": null,
      "outputs": [
        {
          "output_type": "execute_result",
          "data": {
            "text/plain": [
              "['total_individuals', 'stv_01', 'car_01', 'lln_01']"
            ]
          },
          "metadata": {},
          "execution_count": 32
        }
      ]
    },
    {
      "cell_type": "code",
      "source": [
        "all_data = pd.concat([train, test], axis=0)\n",
        "\n",
        "nums_features = [col for col in all_data.columns if all_data[col].dtype != 'O']\n",
        "nums_features.remove(\"target\")\n",
        "\n",
        "# scaler nums_features\n",
        "from sklearn.preprocessing import MinMaxScaler\n",
        "\n",
        "scaler = MinMaxScaler()\n",
        "all_data[nums_features] = scaler.fit_transform(all_data[nums_features])\n",
        "\n",
        "train = all_data[~all_data[\"target\"].isna()]\n",
        "test = all_data[all_data[\"target\"].isna()]"
      ],
      "metadata": {
        "id": "3wjsPBHqRnJd"
      },
      "execution_count": null,
      "outputs": []
    },
    {
      "cell_type": "code",
      "source": [
        "train.head()"
      ],
      "metadata": {
        "id": "6KRmdI2j2mYl",
        "colab": {
          "base_uri": "https://localhost:8080/",
          "height": 342
        },
        "outputId": "c32f2218-f348-4a1e-8673-13d9c201c765"
      },
      "execution_count": null,
      "outputs": [
        {
          "output_type": "execute_result",
          "data": {
            "text/plain": [
              "               ward  total_households     target     dw_00     dw_01  \\\n",
              "0  41601001: Ward 1          0.042169  16.773757  0.938570  0.000858   \n",
              "1  41601002: Ward 2          0.043745  21.496661  0.700469  0.001271   \n",
              "2  41601003: Ward 3          0.060543  10.931425  0.814649  0.004584   \n",
              "3  41601004: Ward 4          0.043841  23.119257  0.663255  0.000000   \n",
              "4  41601005: Ward 5          0.043582  13.652252  0.955388  0.000664   \n",
              "\n",
              "      dw_02     dw_06     dw_07     dw_08    psa_00  ...     pw_00     pw_01  \\\n",
              "0  0.005768  0.013754  0.069032  0.009617  0.463306  ...  0.745745  0.228272   \n",
              "1  0.004625  0.018119  0.271047  0.180798  0.516791  ...  0.310565  0.615238   \n",
              "2  0.009341  0.015994  0.049652  0.154605  0.331972  ...  0.324722  0.515549   \n",
              "3  0.006440  0.012571  0.151177  0.260393  0.500766  ...  0.680221  0.335106   \n",
              "4  0.001547  0.011923  0.020074  0.018307  0.350228  ...  0.774276  0.207705   \n",
              "\n",
              "      pw_02     pw_03     pw_04     pw_06  ADM4_PCODE       lat       lon  \\\n",
              "0  0.019968  0.007310  0.024568  0.013008   ZA4161001  0.404243  0.495379   \n",
              "1  0.018946  0.037387  0.186210  0.004157   ZA4161002  0.449868  0.496807   \n",
              "2  0.083010  0.147740  0.033764  0.041134   ZA4161003  0.448007  0.517701   \n",
              "3  0.002689  0.000000  0.002182  0.005042   ZA4161004  0.429385  0.508307   \n",
              "4  0.009699  0.012471  0.004205  0.017739   ZA4161005  0.426359  0.529881   \n",
              "\n",
              "         NL  \n",
              "0  0.004636  \n",
              "1  0.050917  \n",
              "2  0.000000  \n",
              "3  0.032362  \n",
              "4  0.000000  \n",
              "\n",
              "[5 rows x 42 columns]"
            ],
            "text/html": [
              "\n",
              "  <div id=\"df-ca2aaf27-47f0-4526-839f-51b757c246fb\" class=\"colab-df-container\">\n",
              "    <div>\n",
              "<style scoped>\n",
              "    .dataframe tbody tr th:only-of-type {\n",
              "        vertical-align: middle;\n",
              "    }\n",
              "\n",
              "    .dataframe tbody tr th {\n",
              "        vertical-align: top;\n",
              "    }\n",
              "\n",
              "    .dataframe thead th {\n",
              "        text-align: right;\n",
              "    }\n",
              "</style>\n",
              "<table border=\"1\" class=\"dataframe\">\n",
              "  <thead>\n",
              "    <tr style=\"text-align: right;\">\n",
              "      <th></th>\n",
              "      <th>ward</th>\n",
              "      <th>total_households</th>\n",
              "      <th>target</th>\n",
              "      <th>dw_00</th>\n",
              "      <th>dw_01</th>\n",
              "      <th>dw_02</th>\n",
              "      <th>dw_06</th>\n",
              "      <th>dw_07</th>\n",
              "      <th>dw_08</th>\n",
              "      <th>psa_00</th>\n",
              "      <th>...</th>\n",
              "      <th>pw_00</th>\n",
              "      <th>pw_01</th>\n",
              "      <th>pw_02</th>\n",
              "      <th>pw_03</th>\n",
              "      <th>pw_04</th>\n",
              "      <th>pw_06</th>\n",
              "      <th>ADM4_PCODE</th>\n",
              "      <th>lat</th>\n",
              "      <th>lon</th>\n",
              "      <th>NL</th>\n",
              "    </tr>\n",
              "  </thead>\n",
              "  <tbody>\n",
              "    <tr>\n",
              "      <th>0</th>\n",
              "      <td>41601001: Ward 1</td>\n",
              "      <td>0.042169</td>\n",
              "      <td>16.773757</td>\n",
              "      <td>0.938570</td>\n",
              "      <td>0.000858</td>\n",
              "      <td>0.005768</td>\n",
              "      <td>0.013754</td>\n",
              "      <td>0.069032</td>\n",
              "      <td>0.009617</td>\n",
              "      <td>0.463306</td>\n",
              "      <td>...</td>\n",
              "      <td>0.745745</td>\n",
              "      <td>0.228272</td>\n",
              "      <td>0.019968</td>\n",
              "      <td>0.007310</td>\n",
              "      <td>0.024568</td>\n",
              "      <td>0.013008</td>\n",
              "      <td>ZA4161001</td>\n",
              "      <td>0.404243</td>\n",
              "      <td>0.495379</td>\n",
              "      <td>0.004636</td>\n",
              "    </tr>\n",
              "    <tr>\n",
              "      <th>1</th>\n",
              "      <td>41601002: Ward 2</td>\n",
              "      <td>0.043745</td>\n",
              "      <td>21.496661</td>\n",
              "      <td>0.700469</td>\n",
              "      <td>0.001271</td>\n",
              "      <td>0.004625</td>\n",
              "      <td>0.018119</td>\n",
              "      <td>0.271047</td>\n",
              "      <td>0.180798</td>\n",
              "      <td>0.516791</td>\n",
              "      <td>...</td>\n",
              "      <td>0.310565</td>\n",
              "      <td>0.615238</td>\n",
              "      <td>0.018946</td>\n",
              "      <td>0.037387</td>\n",
              "      <td>0.186210</td>\n",
              "      <td>0.004157</td>\n",
              "      <td>ZA4161002</td>\n",
              "      <td>0.449868</td>\n",
              "      <td>0.496807</td>\n",
              "      <td>0.050917</td>\n",
              "    </tr>\n",
              "    <tr>\n",
              "      <th>2</th>\n",
              "      <td>41601003: Ward 3</td>\n",
              "      <td>0.060543</td>\n",
              "      <td>10.931425</td>\n",
              "      <td>0.814649</td>\n",
              "      <td>0.004584</td>\n",
              "      <td>0.009341</td>\n",
              "      <td>0.015994</td>\n",
              "      <td>0.049652</td>\n",
              "      <td>0.154605</td>\n",
              "      <td>0.331972</td>\n",
              "      <td>...</td>\n",
              "      <td>0.324722</td>\n",
              "      <td>0.515549</td>\n",
              "      <td>0.083010</td>\n",
              "      <td>0.147740</td>\n",
              "      <td>0.033764</td>\n",
              "      <td>0.041134</td>\n",
              "      <td>ZA4161003</td>\n",
              "      <td>0.448007</td>\n",
              "      <td>0.517701</td>\n",
              "      <td>0.000000</td>\n",
              "    </tr>\n",
              "    <tr>\n",
              "      <th>3</th>\n",
              "      <td>41601004: Ward 4</td>\n",
              "      <td>0.043841</td>\n",
              "      <td>23.119257</td>\n",
              "      <td>0.663255</td>\n",
              "      <td>0.000000</td>\n",
              "      <td>0.006440</td>\n",
              "      <td>0.012571</td>\n",
              "      <td>0.151177</td>\n",
              "      <td>0.260393</td>\n",
              "      <td>0.500766</td>\n",
              "      <td>...</td>\n",
              "      <td>0.680221</td>\n",
              "      <td>0.335106</td>\n",
              "      <td>0.002689</td>\n",
              "      <td>0.000000</td>\n",
              "      <td>0.002182</td>\n",
              "      <td>0.005042</td>\n",
              "      <td>ZA4161004</td>\n",
              "      <td>0.429385</td>\n",
              "      <td>0.508307</td>\n",
              "      <td>0.032362</td>\n",
              "    </tr>\n",
              "    <tr>\n",
              "      <th>4</th>\n",
              "      <td>41601005: Ward 5</td>\n",
              "      <td>0.043582</td>\n",
              "      <td>13.652252</td>\n",
              "      <td>0.955388</td>\n",
              "      <td>0.000664</td>\n",
              "      <td>0.001547</td>\n",
              "      <td>0.011923</td>\n",
              "      <td>0.020074</td>\n",
              "      <td>0.018307</td>\n",
              "      <td>0.350228</td>\n",
              "      <td>...</td>\n",
              "      <td>0.774276</td>\n",
              "      <td>0.207705</td>\n",
              "      <td>0.009699</td>\n",
              "      <td>0.012471</td>\n",
              "      <td>0.004205</td>\n",
              "      <td>0.017739</td>\n",
              "      <td>ZA4161005</td>\n",
              "      <td>0.426359</td>\n",
              "      <td>0.529881</td>\n",
              "      <td>0.000000</td>\n",
              "    </tr>\n",
              "  </tbody>\n",
              "</table>\n",
              "<p>5 rows × 42 columns</p>\n",
              "</div>\n",
              "    <div class=\"colab-df-buttons\">\n",
              "\n",
              "  <div class=\"colab-df-container\">\n",
              "    <button class=\"colab-df-convert\" onclick=\"convertToInteractive('df-ca2aaf27-47f0-4526-839f-51b757c246fb')\"\n",
              "            title=\"Convert this dataframe to an interactive table.\"\n",
              "            style=\"display:none;\">\n",
              "\n",
              "  <svg xmlns=\"http://www.w3.org/2000/svg\" height=\"24px\" viewBox=\"0 -960 960 960\">\n",
              "    <path d=\"M120-120v-720h720v720H120Zm60-500h600v-160H180v160Zm220 220h160v-160H400v160Zm0 220h160v-160H400v160ZM180-400h160v-160H180v160Zm440 0h160v-160H620v160ZM180-180h160v-160H180v160Zm440 0h160v-160H620v160Z\"/>\n",
              "  </svg>\n",
              "    </button>\n",
              "\n",
              "  <style>\n",
              "    .colab-df-container {\n",
              "      display:flex;\n",
              "      gap: 12px;\n",
              "    }\n",
              "\n",
              "    .colab-df-convert {\n",
              "      background-color: #E8F0FE;\n",
              "      border: none;\n",
              "      border-radius: 50%;\n",
              "      cursor: pointer;\n",
              "      display: none;\n",
              "      fill: #1967D2;\n",
              "      height: 32px;\n",
              "      padding: 0 0 0 0;\n",
              "      width: 32px;\n",
              "    }\n",
              "\n",
              "    .colab-df-convert:hover {\n",
              "      background-color: #E2EBFA;\n",
              "      box-shadow: 0px 1px 2px rgba(60, 64, 67, 0.3), 0px 1px 3px 1px rgba(60, 64, 67, 0.15);\n",
              "      fill: #174EA6;\n",
              "    }\n",
              "\n",
              "    .colab-df-buttons div {\n",
              "      margin-bottom: 4px;\n",
              "    }\n",
              "\n",
              "    [theme=dark] .colab-df-convert {\n",
              "      background-color: #3B4455;\n",
              "      fill: #D2E3FC;\n",
              "    }\n",
              "\n",
              "    [theme=dark] .colab-df-convert:hover {\n",
              "      background-color: #434B5C;\n",
              "      box-shadow: 0px 1px 3px 1px rgba(0, 0, 0, 0.15);\n",
              "      filter: drop-shadow(0px 1px 2px rgba(0, 0, 0, 0.3));\n",
              "      fill: #FFFFFF;\n",
              "    }\n",
              "  </style>\n",
              "\n",
              "    <script>\n",
              "      const buttonEl =\n",
              "        document.querySelector('#df-ca2aaf27-47f0-4526-839f-51b757c246fb button.colab-df-convert');\n",
              "      buttonEl.style.display =\n",
              "        google.colab.kernel.accessAllowed ? 'block' : 'none';\n",
              "\n",
              "      async function convertToInteractive(key) {\n",
              "        const element = document.querySelector('#df-ca2aaf27-47f0-4526-839f-51b757c246fb');\n",
              "        const dataTable =\n",
              "          await google.colab.kernel.invokeFunction('convertToInteractive',\n",
              "                                                    [key], {});\n",
              "        if (!dataTable) return;\n",
              "\n",
              "        const docLinkHtml = 'Like what you see? Visit the ' +\n",
              "          '<a target=\"_blank\" href=https://colab.research.google.com/notebooks/data_table.ipynb>data table notebook</a>'\n",
              "          + ' to learn more about interactive tables.';\n",
              "        element.innerHTML = '';\n",
              "        dataTable['output_type'] = 'display_data';\n",
              "        await google.colab.output.renderOutput(dataTable, element);\n",
              "        const docLink = document.createElement('div');\n",
              "        docLink.innerHTML = docLinkHtml;\n",
              "        element.appendChild(docLink);\n",
              "      }\n",
              "    </script>\n",
              "  </div>\n",
              "\n",
              "\n",
              "<div id=\"df-f471bc4f-cfd7-4784-a376-32ad2c90e041\">\n",
              "  <button class=\"colab-df-quickchart\" onclick=\"quickchart('df-f471bc4f-cfd7-4784-a376-32ad2c90e041')\"\n",
              "            title=\"Suggest charts\"\n",
              "            style=\"display:none;\">\n",
              "\n",
              "<svg xmlns=\"http://www.w3.org/2000/svg\" height=\"24px\"viewBox=\"0 0 24 24\"\n",
              "     width=\"24px\">\n",
              "    <g>\n",
              "        <path d=\"M19 3H5c-1.1 0-2 .9-2 2v14c0 1.1.9 2 2 2h14c1.1 0 2-.9 2-2V5c0-1.1-.9-2-2-2zM9 17H7v-7h2v7zm4 0h-2V7h2v10zm4 0h-2v-4h2v4z\"/>\n",
              "    </g>\n",
              "</svg>\n",
              "  </button>\n",
              "\n",
              "<style>\n",
              "  .colab-df-quickchart {\n",
              "      --bg-color: #E8F0FE;\n",
              "      --fill-color: #1967D2;\n",
              "      --hover-bg-color: #E2EBFA;\n",
              "      --hover-fill-color: #174EA6;\n",
              "      --disabled-fill-color: #AAA;\n",
              "      --disabled-bg-color: #DDD;\n",
              "  }\n",
              "\n",
              "  [theme=dark] .colab-df-quickchart {\n",
              "      --bg-color: #3B4455;\n",
              "      --fill-color: #D2E3FC;\n",
              "      --hover-bg-color: #434B5C;\n",
              "      --hover-fill-color: #FFFFFF;\n",
              "      --disabled-bg-color: #3B4455;\n",
              "      --disabled-fill-color: #666;\n",
              "  }\n",
              "\n",
              "  .colab-df-quickchart {\n",
              "    background-color: var(--bg-color);\n",
              "    border: none;\n",
              "    border-radius: 50%;\n",
              "    cursor: pointer;\n",
              "    display: none;\n",
              "    fill: var(--fill-color);\n",
              "    height: 32px;\n",
              "    padding: 0;\n",
              "    width: 32px;\n",
              "  }\n",
              "\n",
              "  .colab-df-quickchart:hover {\n",
              "    background-color: var(--hover-bg-color);\n",
              "    box-shadow: 0 1px 2px rgba(60, 64, 67, 0.3), 0 1px 3px 1px rgba(60, 64, 67, 0.15);\n",
              "    fill: var(--button-hover-fill-color);\n",
              "  }\n",
              "\n",
              "  .colab-df-quickchart-complete:disabled,\n",
              "  .colab-df-quickchart-complete:disabled:hover {\n",
              "    background-color: var(--disabled-bg-color);\n",
              "    fill: var(--disabled-fill-color);\n",
              "    box-shadow: none;\n",
              "  }\n",
              "\n",
              "  .colab-df-spinner {\n",
              "    border: 2px solid var(--fill-color);\n",
              "    border-color: transparent;\n",
              "    border-bottom-color: var(--fill-color);\n",
              "    animation:\n",
              "      spin 1s steps(1) infinite;\n",
              "  }\n",
              "\n",
              "  @keyframes spin {\n",
              "    0% {\n",
              "      border-color: transparent;\n",
              "      border-bottom-color: var(--fill-color);\n",
              "      border-left-color: var(--fill-color);\n",
              "    }\n",
              "    20% {\n",
              "      border-color: transparent;\n",
              "      border-left-color: var(--fill-color);\n",
              "      border-top-color: var(--fill-color);\n",
              "    }\n",
              "    30% {\n",
              "      border-color: transparent;\n",
              "      border-left-color: var(--fill-color);\n",
              "      border-top-color: var(--fill-color);\n",
              "      border-right-color: var(--fill-color);\n",
              "    }\n",
              "    40% {\n",
              "      border-color: transparent;\n",
              "      border-right-color: var(--fill-color);\n",
              "      border-top-color: var(--fill-color);\n",
              "    }\n",
              "    60% {\n",
              "      border-color: transparent;\n",
              "      border-right-color: var(--fill-color);\n",
              "    }\n",
              "    80% {\n",
              "      border-color: transparent;\n",
              "      border-right-color: var(--fill-color);\n",
              "      border-bottom-color: var(--fill-color);\n",
              "    }\n",
              "    90% {\n",
              "      border-color: transparent;\n",
              "      border-bottom-color: var(--fill-color);\n",
              "    }\n",
              "  }\n",
              "</style>\n",
              "\n",
              "  <script>\n",
              "    async function quickchart(key) {\n",
              "      const quickchartButtonEl =\n",
              "        document.querySelector('#' + key + ' button');\n",
              "      quickchartButtonEl.disabled = true;  // To prevent multiple clicks.\n",
              "      quickchartButtonEl.classList.add('colab-df-spinner');\n",
              "      try {\n",
              "        const charts = await google.colab.kernel.invokeFunction(\n",
              "            'suggestCharts', [key], {});\n",
              "      } catch (error) {\n",
              "        console.error('Error during call to suggestCharts:', error);\n",
              "      }\n",
              "      quickchartButtonEl.classList.remove('colab-df-spinner');\n",
              "      quickchartButtonEl.classList.add('colab-df-quickchart-complete');\n",
              "    }\n",
              "    (() => {\n",
              "      let quickchartButtonEl =\n",
              "        document.querySelector('#df-f471bc4f-cfd7-4784-a376-32ad2c90e041 button');\n",
              "      quickchartButtonEl.style.display =\n",
              "        google.colab.kernel.accessAllowed ? 'block' : 'none';\n",
              "    })();\n",
              "  </script>\n",
              "</div>\n",
              "\n",
              "    </div>\n",
              "  </div>\n"
            ],
            "application/vnd.google.colaboratory.intrinsic+json": {
              "type": "dataframe",
              "variable_name": "train"
            }
          },
          "metadata": {},
          "execution_count": 102
        }
      ]
    },
    {
      "cell_type": "code",
      "source": [
        "train.shape"
      ],
      "metadata": {
        "id": "aDYA0pnx2mWD",
        "colab": {
          "base_uri": "https://localhost:8080/"
        },
        "outputId": "96da0a90-3a62-47e9-ad5a-33cdfd6826d3"
      },
      "execution_count": null,
      "outputs": [
        {
          "output_type": "execute_result",
          "data": {
            "text/plain": [
              "(2822, 42)"
            ]
          },
          "metadata": {},
          "execution_count": 103
        }
      ]
    },
    {
      "cell_type": "code",
      "source": [
        "# split data\n",
        "\n",
        "training_features = [col for col in train.select_dtypes(\"number\").columns]\n",
        "training_features.remove(\"target\")\n",
        "\n",
        "X = train[training_features]\n",
        "\n",
        "y = train[\"target\"]\n",
        "\n",
        "X_train, X_test, y_train, y_test = train_test_split(X, y, test_size=0.2, random_state=42)"
      ],
      "metadata": {
        "id": "qov0IHTjdhlD"
      },
      "execution_count": null,
      "outputs": []
    },
    {
      "cell_type": "code",
      "source": [],
      "metadata": {
        "colab": {
          "base_uri": "https://localhost:8080/",
          "height": 458
        },
        "id": "j5BQqukE8jTB",
        "outputId": "fddcf708-4d1f-477b-b8f7-29eefe0a574b"
      },
      "execution_count": null,
      "outputs": [
        {
          "output_type": "execute_result",
          "data": {
            "text/plain": [
              "0       16.773757\n",
              "1       21.496661\n",
              "2       10.931425\n",
              "3       23.119257\n",
              "4       13.652252\n",
              "          ...    \n",
              "2817     6.393480\n",
              "2818    15.668000\n",
              "2819    13.238795\n",
              "2820    17.639523\n",
              "2821    12.457680\n",
              "Name: target, Length: 2822, dtype: float64"
            ],
            "text/html": [
              "<div>\n",
              "<style scoped>\n",
              "    .dataframe tbody tr th:only-of-type {\n",
              "        vertical-align: middle;\n",
              "    }\n",
              "\n",
              "    .dataframe tbody tr th {\n",
              "        vertical-align: top;\n",
              "    }\n",
              "\n",
              "    .dataframe thead th {\n",
              "        text-align: right;\n",
              "    }\n",
              "</style>\n",
              "<table border=\"1\" class=\"dataframe\">\n",
              "  <thead>\n",
              "    <tr style=\"text-align: right;\">\n",
              "      <th></th>\n",
              "      <th>target</th>\n",
              "    </tr>\n",
              "  </thead>\n",
              "  <tbody>\n",
              "    <tr>\n",
              "      <th>0</th>\n",
              "      <td>16.773757</td>\n",
              "    </tr>\n",
              "    <tr>\n",
              "      <th>1</th>\n",
              "      <td>21.496661</td>\n",
              "    </tr>\n",
              "    <tr>\n",
              "      <th>2</th>\n",
              "      <td>10.931425</td>\n",
              "    </tr>\n",
              "    <tr>\n",
              "      <th>3</th>\n",
              "      <td>23.119257</td>\n",
              "    </tr>\n",
              "    <tr>\n",
              "      <th>4</th>\n",
              "      <td>13.652252</td>\n",
              "    </tr>\n",
              "    <tr>\n",
              "      <th>...</th>\n",
              "      <td>...</td>\n",
              "    </tr>\n",
              "    <tr>\n",
              "      <th>2817</th>\n",
              "      <td>6.393480</td>\n",
              "    </tr>\n",
              "    <tr>\n",
              "      <th>2818</th>\n",
              "      <td>15.668000</td>\n",
              "    </tr>\n",
              "    <tr>\n",
              "      <th>2819</th>\n",
              "      <td>13.238795</td>\n",
              "    </tr>\n",
              "    <tr>\n",
              "      <th>2820</th>\n",
              "      <td>17.639523</td>\n",
              "    </tr>\n",
              "    <tr>\n",
              "      <th>2821</th>\n",
              "      <td>12.457680</td>\n",
              "    </tr>\n",
              "  </tbody>\n",
              "</table>\n",
              "<p>2822 rows × 1 columns</p>\n",
              "</div><br><label><b>dtype:</b> float64</label>"
            ]
          },
          "metadata": {},
          "execution_count": 105
        }
      ]
    },
    {
      "cell_type": "code",
      "source": [
        "!pip install scikit-optimize"
      ],
      "metadata": {
        "colab": {
          "base_uri": "https://localhost:8080/"
        },
        "id": "nGwH-sD7Kf7Q",
        "outputId": "b8cc8f8d-9046-4709-9116-6b2b8460e7a3"
      },
      "execution_count": null,
      "outputs": [
        {
          "output_type": "stream",
          "name": "stdout",
          "text": [
            "Collecting scikit-optimize\n",
            "  Downloading scikit_optimize-0.10.2-py2.py3-none-any.whl.metadata (9.7 kB)\n",
            "Requirement already satisfied: joblib>=0.11 in /usr/local/lib/python3.11/dist-packages (from scikit-optimize) (1.4.2)\n",
            "Collecting pyaml>=16.9 (from scikit-optimize)\n",
            "  Downloading pyaml-25.1.0-py3-none-any.whl.metadata (12 kB)\n",
            "Requirement already satisfied: numpy>=1.20.3 in /usr/local/lib/python3.11/dist-packages (from scikit-optimize) (2.0.2)\n",
            "Requirement already satisfied: scipy>=1.1.0 in /usr/local/lib/python3.11/dist-packages (from scikit-optimize) (1.14.1)\n",
            "Requirement already satisfied: scikit-learn>=1.0.0 in /usr/local/lib/python3.11/dist-packages (from scikit-optimize) (1.6.1)\n",
            "Requirement already satisfied: packaging>=21.3 in /usr/local/lib/python3.11/dist-packages (from scikit-optimize) (24.2)\n",
            "Requirement already satisfied: PyYAML in /usr/local/lib/python3.11/dist-packages (from pyaml>=16.9->scikit-optimize) (6.0.2)\n",
            "Requirement already satisfied: threadpoolctl>=3.1.0 in /usr/local/lib/python3.11/dist-packages (from scikit-learn>=1.0.0->scikit-optimize) (3.6.0)\n",
            "Downloading scikit_optimize-0.10.2-py2.py3-none-any.whl (107 kB)\n",
            "\u001b[2K   \u001b[90m━━━━━━━━━━━━━━━━━━━━━━━━━━━━━━━━━━━━━━━━\u001b[0m \u001b[32m107.8/107.8 kB\u001b[0m \u001b[31m4.5 MB/s\u001b[0m eta \u001b[36m0:00:00\u001b[0m\n",
            "\u001b[?25hDownloading pyaml-25.1.0-py3-none-any.whl (26 kB)\n",
            "Installing collected packages: pyaml, scikit-optimize\n",
            "Successfully installed pyaml-25.1.0 scikit-optimize-0.10.2\n"
          ]
        }
      ]
    },
    {
      "cell_type": "code",
      "source": [
        "X_train, X_eval, y_train, y_eval = train_test_split(X, y, test_size=0.2, random_state=42, shuffle=True)\n",
        "\n",
        "linear_model = LinearRegression()\n",
        "linear_model.fit(X_train, y_train)\n",
        "\n",
        "# eval\n",
        "y_pred = linear_model.predict(X_eval)\n",
        "mse = mean_squared_error(y_eval, y_pred)\n",
        "print(f\"MSE: {sqrt(mse)}\")"
      ],
      "metadata": {
        "id": "1TwlrtyhUeXs",
        "colab": {
          "base_uri": "https://localhost:8080/"
        },
        "outputId": "3ccdfdcf-7a6f-4590-a926-63dc9e34b9bd"
      },
      "execution_count": null,
      "outputs": [
        {
          "output_type": "stream",
          "name": "stdout",
          "text": [
            "MSE: 3.7523647352086593\n"
          ]
        }
      ]
    },
    {
      "cell_type": "code",
      "source": [
        "# random forest\n",
        "rf_model = RandomForestRegressor(n_estimators=100, random_state=42)\n",
        "rf_model.fit(X_train, y_train)\n",
        "\n",
        "y_pred = rf_model.predict(X_eval)\n",
        "mse = mean_squared_error(y_eval, y_pred)\n",
        "print(f\"MSE: {sqrt(mse)}\")"
      ],
      "metadata": {
        "id": "kqi53FZJelC0",
        "colab": {
          "base_uri": "https://localhost:8080/"
        },
        "outputId": "c5344917-4e9a-455b-fbea-ce815349e16e"
      },
      "execution_count": null,
      "outputs": [
        {
          "output_type": "stream",
          "name": "stdout",
          "text": [
            "MSE: 3.322765734832868\n"
          ]
        }
      ]
    },
    {
      "cell_type": "code",
      "source": [
        "# catboost\n",
        "cat_model = CatBoostRegressor(iterations=1000, learning_rate=0.05, depth=6, loss_function='RMSE', verbose=100)\n",
        "\n",
        "cat_model.fit(X_train, y_train, eval_set=(X_eval, y_eval), early_stopping_rounds=100, verbose=100)\n",
        "\n",
        "y_pred = cat_model.predict(X_eval)\n",
        "mse = mean_squared_error(y_eval, y_pred)\n",
        "print(f\"MSE: {sqrt(mse)}\")"
      ],
      "metadata": {
        "id": "WE43B6Cd0vVQ",
        "colab": {
          "base_uri": "https://localhost:8080/"
        },
        "outputId": "dd2600fa-db2e-4e5d-b11b-c1beca29d632"
      },
      "execution_count": null,
      "outputs": [
        {
          "output_type": "stream",
          "name": "stdout",
          "text": [
            "0:\tlearn: 10.0051819\ttest: 9.5698554\tbest: 9.5698554 (0)\ttotal: 73.1ms\tremaining: 1m 12s\n",
            "100:\tlearn: 3.2691468\ttest: 3.4491429\tbest: 3.4491429 (100)\ttotal: 2.23s\tremaining: 19.8s\n",
            "200:\tlearn: 2.7244617\ttest: 3.2675677\tbest: 3.2675677 (200)\ttotal: 4.47s\tremaining: 17.8s\n",
            "300:\tlearn: 2.2863060\ttest: 3.1465806\tbest: 3.1465806 (300)\ttotal: 5.78s\tremaining: 13.4s\n",
            "400:\tlearn: 1.9705891\ttest: 3.0941051\tbest: 3.0936940 (395)\ttotal: 6.97s\tremaining: 10.4s\n",
            "500:\tlearn: 1.7202157\ttest: 3.0689462\tbest: 3.0689462 (500)\ttotal: 8.87s\tremaining: 8.83s\n",
            "600:\tlearn: 1.5214180\ttest: 3.0460430\tbest: 3.0460430 (600)\ttotal: 10s\tremaining: 6.64s\n",
            "700:\tlearn: 1.3395201\ttest: 3.0333104\tbest: 3.0328156 (699)\ttotal: 10.8s\tremaining: 4.62s\n",
            "800:\tlearn: 1.1945435\ttest: 3.0206582\tbest: 3.0206582 (800)\ttotal: 11.6s\tremaining: 2.89s\n",
            "900:\tlearn: 1.0682317\ttest: 3.0131478\tbest: 3.0128436 (896)\ttotal: 12.4s\tremaining: 1.37s\n",
            "999:\tlearn: 0.9650754\ttest: 3.0101317\tbest: 3.0101317 (999)\ttotal: 13.3s\tremaining: 0us\n",
            "\n",
            "bestTest = 3.010131677\n",
            "bestIteration = 999\n",
            "\n",
            "MSE: 3.0101316520604997\n"
          ]
        }
      ]
    },
    {
      "cell_type": "code",
      "source": [
        "from sklearn.model_selection import KFold\n",
        "\n",
        "cv = KFold(n_splits=5, shuffle=True, random_state=42)\n",
        "test_preds = np.zeros(len(test))\n",
        "\n",
        "scores = []\n",
        "\n",
        "for train_idx, test_idx in cv.split(X, y):\n",
        "    X_train, X_test = X.iloc[train_idx], X.iloc[test_idx]\n",
        "    y_train, y_test = y.iloc[train_idx], y.iloc[test_idx]\n",
        "\n",
        "    cat_model = CatBoostRegressor(iterations=5000, learning_rate=0.01, depth=6, loss_function='RMSE', verbose=100,\n",
        "                                  early_stopping_rounds=100\n",
        "                                  )\n",
        "\n",
        "    cat_model.fit(X_train, y_train, eval_set=(X_test, y_test), early_stopping_rounds=100, verbose=100)\n",
        "\n",
        "    y_pred = cat_model.predict(X_test)\n",
        "\n",
        "    test_preds += cat_model.predict(test[X.columns])/ cv.n_splits\n",
        "    mse = mean_squared_error(y_test, y_pred)\n",
        "    scores.append(sqrt(mse))\n",
        "    print(\"*************************\")\n",
        "    print(f\"MSE: {sqrt(mse)}\")\n",
        "    print(\"*************************\")\n",
        "\n",
        "print(f\"Mean MSE: {sum(scores) / len(scores)}\")"
      ],
      "metadata": {
        "id": "Hpr97eIs05g9",
        "colab": {
          "base_uri": "https://localhost:8080/"
        },
        "outputId": "87df0897-bcbb-4fe9-e617-a3d953b38fc2"
      },
      "execution_count": null,
      "outputs": [
        {
          "output_type": "stream",
          "name": "stdout",
          "text": [
            "0:\tlearn: 10.3052372\ttest: 9.8596344\tbest: 9.8596344 (0)\ttotal: 10.3ms\tremaining: 51.4s\n",
            "100:\tlearn: 5.7612284\ttest: 5.4210809\tbest: 5.4210809 (100)\ttotal: 834ms\tremaining: 40.4s\n",
            "200:\tlearn: 4.2328874\ttest: 4.0598504\tbest: 4.0598504 (200)\ttotal: 1.67s\tremaining: 39.9s\n",
            "300:\tlearn: 3.6742745\ttest: 3.6530902\tbest: 3.6530902 (300)\ttotal: 2.51s\tremaining: 39.2s\n",
            "400:\tlearn: 3.4107804\ttest: 3.5008862\tbest: 3.5008862 (400)\ttotal: 3.35s\tremaining: 38.4s\n",
            "500:\tlearn: 3.2421840\ttest: 3.4216627\tbest: 3.4216627 (500)\ttotal: 4.17s\tremaining: 37.5s\n",
            "600:\tlearn: 3.1101974\ttest: 3.3648379\tbest: 3.3648379 (600)\ttotal: 4.99s\tremaining: 36.5s\n",
            "700:\tlearn: 2.9973109\ttest: 3.3175141\tbest: 3.3175141 (700)\ttotal: 5.81s\tremaining: 35.6s\n",
            "800:\tlearn: 2.8956990\ttest: 3.2802825\tbest: 3.2802825 (800)\ttotal: 6.63s\tremaining: 34.8s\n",
            "900:\tlearn: 2.7864721\ttest: 3.2391822\tbest: 3.2391822 (900)\ttotal: 7.47s\tremaining: 34s\n",
            "1000:\tlearn: 2.6870963\ttest: 3.2069231\tbest: 3.2069231 (1000)\ttotal: 8.5s\tremaining: 34s\n",
            "1100:\tlearn: 2.5874829\ttest: 3.1717007\tbest: 3.1717007 (1100)\ttotal: 10.4s\tremaining: 36.8s\n",
            "1200:\tlearn: 2.4960377\ttest: 3.1453905\tbest: 3.1453905 (1200)\ttotal: 11.8s\tremaining: 37.2s\n",
            "1300:\tlearn: 2.4061829\ttest: 3.1160504\tbest: 3.1160504 (1300)\ttotal: 12.6s\tremaining: 35.9s\n",
            "1400:\tlearn: 2.3232539\ttest: 3.0967486\tbest: 3.0966335 (1397)\ttotal: 13.5s\tremaining: 34.6s\n",
            "1500:\tlearn: 2.2472361\ttest: 3.0817613\tbest: 3.0817613 (1500)\ttotal: 14.3s\tremaining: 33.3s\n",
            "1600:\tlearn: 2.1737899\ttest: 3.0662853\tbest: 3.0662853 (1600)\ttotal: 15.1s\tremaining: 32.1s\n",
            "1700:\tlearn: 2.1100850\ttest: 3.0551029\tbest: 3.0551029 (1700)\ttotal: 15.9s\tremaining: 30.9s\n",
            "1800:\tlearn: 2.0470249\ttest: 3.0479393\tbest: 3.0478500 (1799)\ttotal: 16.8s\tremaining: 29.8s\n",
            "1900:\tlearn: 1.9857090\ttest: 3.0407641\tbest: 3.0407641 (1900)\ttotal: 17.6s\tremaining: 28.7s\n",
            "2000:\tlearn: 1.9310078\ttest: 3.0312485\tbest: 3.0309299 (1998)\ttotal: 18.4s\tremaining: 27.6s\n",
            "2100:\tlearn: 1.8783154\ttest: 3.0229359\tbest: 3.0229359 (2100)\ttotal: 19.3s\tremaining: 26.6s\n",
            "2200:\tlearn: 1.8266046\ttest: 3.0154963\tbest: 3.0154963 (2200)\ttotal: 20.1s\tremaining: 25.6s\n",
            "2300:\tlearn: 1.7777732\ttest: 3.0081461\tbest: 3.0078840 (2298)\ttotal: 20.9s\tremaining: 24.6s\n",
            "2400:\tlearn: 1.7305104\ttest: 3.0022006\tbest: 3.0022006 (2400)\ttotal: 22.2s\tremaining: 24s\n",
            "2500:\tlearn: 1.6833396\ttest: 2.9968901\tbest: 2.9968901 (2500)\ttotal: 24.1s\tremaining: 24s\n",
            "2600:\tlearn: 1.6380080\ttest: 2.9913938\tbest: 2.9913938 (2600)\ttotal: 25.2s\tremaining: 23.2s\n",
            "2700:\tlearn: 1.5941028\ttest: 2.9870412\tbest: 2.9870412 (2700)\ttotal: 26s\tremaining: 22.2s\n",
            "2800:\tlearn: 1.5517142\ttest: 2.9797451\tbest: 2.9797035 (2799)\ttotal: 26.9s\tremaining: 21.1s\n",
            "2900:\tlearn: 1.5117776\ttest: 2.9765887\tbest: 2.9765016 (2895)\ttotal: 27.7s\tremaining: 20s\n",
            "3000:\tlearn: 1.4735403\ttest: 2.9733590\tbest: 2.9731675 (2987)\ttotal: 28.5s\tremaining: 19s\n",
            "3100:\tlearn: 1.4350336\ttest: 2.9689802\tbest: 2.9689802 (3100)\ttotal: 29.4s\tremaining: 18s\n",
            "3200:\tlearn: 1.3985639\ttest: 2.9670535\tbest: 2.9669973 (3172)\ttotal: 30.3s\tremaining: 17s\n",
            "3300:\tlearn: 1.3627191\ttest: 2.9648953\tbest: 2.9646023 (3289)\ttotal: 31.1s\tremaining: 16s\n",
            "3400:\tlearn: 1.3286751\ttest: 2.9639259\tbest: 2.9634039 (3387)\ttotal: 31.9s\tremaining: 15s\n",
            "3500:\tlearn: 1.2957224\ttest: 2.9623466\tbest: 2.9616737 (3481)\ttotal: 32.8s\tremaining: 14s\n",
            "3600:\tlearn: 1.2643988\ttest: 2.9595263\tbest: 2.9593482 (3588)\ttotal: 33.6s\tremaining: 13.1s\n",
            "3700:\tlearn: 1.2336574\ttest: 2.9566548\tbest: 2.9565330 (3694)\ttotal: 34.5s\tremaining: 12.1s\n",
            "3800:\tlearn: 1.2033952\ttest: 2.9554701\tbest: 2.9554701 (3800)\ttotal: 37.7s\tremaining: 11.9s\n",
            "3900:\tlearn: 1.1742251\ttest: 2.9536285\tbest: 2.9533758 (3883)\ttotal: 39.1s\tremaining: 11s\n",
            "4000:\tlearn: 1.1476909\ttest: 2.9520039\tbest: 2.9519203 (3991)\ttotal: 40s\tremaining: 9.98s\n",
            "4100:\tlearn: 1.1212472\ttest: 2.9512802\tbest: 2.9504893 (4068)\ttotal: 40.8s\tremaining: 8.94s\n",
            "4200:\tlearn: 1.0951176\ttest: 2.9503561\tbest: 2.9498481 (4180)\ttotal: 41.6s\tremaining: 7.92s\n",
            "4300:\tlearn: 1.0688341\ttest: 2.9489958\tbest: 2.9489958 (4300)\ttotal: 42.5s\tremaining: 6.9s\n",
            "4400:\tlearn: 1.0454480\ttest: 2.9472921\tbest: 2.9471963 (4396)\ttotal: 43.3s\tremaining: 5.89s\n",
            "4500:\tlearn: 1.0220388\ttest: 2.9451378\tbest: 2.9451378 (4500)\ttotal: 44.1s\tremaining: 4.89s\n",
            "4600:\tlearn: 0.9983516\ttest: 2.9445893\tbest: 2.9444181 (4568)\ttotal: 45s\tremaining: 3.9s\n",
            "4700:\tlearn: 0.9755636\ttest: 2.9443037\tbest: 2.9441359 (4671)\ttotal: 45.8s\tremaining: 2.91s\n",
            "4800:\tlearn: 0.9532623\ttest: 2.9430969\tbest: 2.9430969 (4800)\ttotal: 46.6s\tremaining: 1.93s\n",
            "4900:\tlearn: 0.9326692\ttest: 2.9419013\tbest: 2.9418199 (4898)\ttotal: 47.4s\tremaining: 958ms\n",
            "4999:\tlearn: 0.9123638\ttest: 2.9411794\tbest: 2.9411111 (4996)\ttotal: 48.5s\tremaining: 0us\n",
            "\n",
            "bestTest = 2.94111107\n",
            "bestIteration = 4996\n",
            "\n",
            "Shrink model to first 4997 iterations.\n",
            "*************************\n",
            "MSE: 2.941111054881689\n",
            "*************************\n",
            "0:\tlearn: 10.2245343\ttest: 10.1869429\tbest: 10.1869429 (0)\ttotal: 31.9ms\tremaining: 2m 39s\n",
            "100:\tlearn: 5.7102788\ttest: 5.7603403\tbest: 5.7603403 (100)\ttotal: 1.93s\tremaining: 1m 33s\n",
            "200:\tlearn: 4.2012250\ttest: 4.3040293\tbest: 4.3040293 (200)\ttotal: 3.02s\tremaining: 1m 12s\n",
            "300:\tlearn: 3.6528723\ttest: 3.8174162\tbest: 3.8174162 (300)\ttotal: 3.87s\tremaining: 1m\n",
            "400:\tlearn: 3.3875295\ttest: 3.6281311\tbest: 3.6281311 (400)\ttotal: 4.68s\tremaining: 53.7s\n",
            "500:\tlearn: 3.2157146\ttest: 3.5286135\tbest: 3.5286135 (500)\ttotal: 5.49s\tremaining: 49.3s\n",
            "600:\tlearn: 3.0839425\ttest: 3.4618570\tbest: 3.4618570 (600)\ttotal: 6.31s\tremaining: 46.2s\n",
            "700:\tlearn: 2.9698226\ttest: 3.4116208\tbest: 3.4116208 (700)\ttotal: 7.13s\tremaining: 43.7s\n",
            "800:\tlearn: 2.8645212\ttest: 3.3697670\tbest: 3.3697670 (800)\ttotal: 7.94s\tremaining: 41.6s\n",
            "900:\tlearn: 2.7631073\ttest: 3.3308160\tbest: 3.3308160 (900)\ttotal: 8.73s\tremaining: 39.7s\n",
            "1000:\tlearn: 2.6589814\ttest: 3.2969338\tbest: 3.2969338 (1000)\ttotal: 9.53s\tremaining: 38.1s\n",
            "1100:\tlearn: 2.5585714\ttest: 3.2683778\tbest: 3.2683778 (1100)\ttotal: 10.4s\tremaining: 36.7s\n",
            "1200:\tlearn: 2.4682410\ttest: 3.2452739\tbest: 3.2452739 (1200)\ttotal: 11.2s\tremaining: 35.3s\n",
            "1300:\tlearn: 2.3825826\ttest: 3.2291288\tbest: 3.2291288 (1300)\ttotal: 12s\tremaining: 34.1s\n",
            "1400:\tlearn: 2.3001959\ttest: 3.2143784\tbest: 3.2143784 (1400)\ttotal: 13.3s\tremaining: 34.1s\n",
            "1500:\tlearn: 2.2238961\ttest: 3.2002403\tbest: 3.2002403 (1500)\ttotal: 15.1s\tremaining: 35.3s\n",
            "1600:\tlearn: 2.1514095\ttest: 3.1841833\tbest: 3.1841833 (1600)\ttotal: 16.2s\tremaining: 34.3s\n",
            "1700:\tlearn: 2.0847397\ttest: 3.1749092\tbest: 3.1746563 (1699)\ttotal: 17s\tremaining: 32.9s\n",
            "1800:\tlearn: 2.0185191\ttest: 3.1656658\tbest: 3.1656244 (1799)\ttotal: 17.8s\tremaining: 31.6s\n",
            "1900:\tlearn: 1.9566597\ttest: 3.1545898\tbest: 3.1545898 (1900)\ttotal: 18.6s\tremaining: 30.3s\n",
            "2000:\tlearn: 1.8973991\ttest: 3.1449008\tbest: 3.1443275 (1994)\ttotal: 19.4s\tremaining: 29.1s\n",
            "2100:\tlearn: 1.8434617\ttest: 3.1378661\tbest: 3.1376672 (2099)\ttotal: 20.3s\tremaining: 28s\n",
            "2200:\tlearn: 1.7885795\ttest: 3.1325228\tbest: 3.1324848 (2199)\ttotal: 21.1s\tremaining: 26.8s\n",
            "2300:\tlearn: 1.7364635\ttest: 3.1284292\tbest: 3.1284292 (2300)\ttotal: 21.9s\tremaining: 25.7s\n",
            "2400:\tlearn: 1.6884717\ttest: 3.1232123\tbest: 3.1230776 (2397)\ttotal: 22.7s\tremaining: 24.6s\n",
            "2500:\tlearn: 1.6413251\ttest: 3.1194055\tbest: 3.1191318 (2497)\ttotal: 23.5s\tremaining: 23.5s\n",
            "2600:\tlearn: 1.5961213\ttest: 3.1160278\tbest: 3.1159768 (2597)\ttotal: 24.3s\tremaining: 22.4s\n",
            "2700:\tlearn: 1.5533823\ttest: 3.1115246\tbest: 3.1115246 (2700)\ttotal: 25.1s\tremaining: 21.4s\n",
            "2800:\tlearn: 1.5122726\ttest: 3.1077119\tbest: 3.1075478 (2790)\ttotal: 26.4s\tremaining: 20.7s\n",
            "2900:\tlearn: 1.4732989\ttest: 3.1046010\tbest: 3.1045207 (2898)\ttotal: 28.2s\tremaining: 20.4s\n",
            "3000:\tlearn: 1.4359324\ttest: 3.1024662\tbest: 3.1024662 (3000)\ttotal: 29.2s\tremaining: 19.5s\n",
            "3100:\tlearn: 1.3987839\ttest: 3.0997454\tbest: 3.0995893 (3093)\ttotal: 30s\tremaining: 18.4s\n",
            "3200:\tlearn: 1.3654365\ttest: 3.0980486\tbest: 3.0976979 (3172)\ttotal: 30.9s\tremaining: 17.3s\n",
            "3300:\tlearn: 1.3323791\ttest: 3.0950196\tbest: 3.0949780 (3292)\ttotal: 31.7s\tremaining: 16.3s\n",
            "3400:\tlearn: 1.3012841\ttest: 3.0944373\tbest: 3.0942125 (3366)\ttotal: 32.5s\tremaining: 15.3s\n",
            "3500:\tlearn: 1.2716945\ttest: 3.0928150\tbest: 3.0927600 (3499)\ttotal: 33.3s\tremaining: 14.3s\n",
            "3600:\tlearn: 1.2417554\ttest: 3.0917878\tbest: 3.0913208 (3555)\ttotal: 34.1s\tremaining: 13.3s\n",
            "3700:\tlearn: 1.2153098\ttest: 3.0911897\tbest: 3.0902937 (3647)\ttotal: 34.9s\tremaining: 12.3s\n",
            "Stopped by overfitting detector  (100 iterations wait)\n",
            "\n",
            "bestTest = 3.090293658\n",
            "bestIteration = 3647\n",
            "\n",
            "Shrink model to first 3648 iterations.\n",
            "*************************\n",
            "MSE: 3.0902936316384717\n",
            "*************************\n",
            "0:\tlearn: 10.1958623\ttest: 10.3052362\tbest: 10.3052362 (0)\ttotal: 10.4ms\tremaining: 51.8s\n",
            "100:\tlearn: 5.6823453\ttest: 5.8695079\tbest: 5.8695079 (100)\ttotal: 866ms\tremaining: 42s\n",
            "200:\tlearn: 4.1695788\ttest: 4.4710457\tbest: 4.4710457 (200)\ttotal: 1.71s\tremaining: 40.9s\n",
            "300:\tlearn: 3.6248729\ttest: 4.0279361\tbest: 4.0279361 (300)\ttotal: 2.56s\tremaining: 39.9s\n",
            "400:\tlearn: 3.3623255\ttest: 3.8513743\tbest: 3.8513743 (400)\ttotal: 3.56s\tremaining: 40.9s\n",
            "500:\tlearn: 3.1989147\ttest: 3.7609790\tbest: 3.7609790 (500)\ttotal: 5.46s\tremaining: 49s\n",
            "600:\tlearn: 3.0709508\ttest: 3.7050466\tbest: 3.7050466 (600)\ttotal: 6.75s\tremaining: 49.4s\n",
            "700:\tlearn: 2.9627385\ttest: 3.6676786\tbest: 3.6676786 (700)\ttotal: 7.59s\tremaining: 46.6s\n",
            "800:\tlearn: 2.8564162\ttest: 3.6240977\tbest: 3.6240977 (800)\ttotal: 8.44s\tremaining: 44.2s\n",
            "900:\tlearn: 2.7568403\ttest: 3.5857815\tbest: 3.5857815 (900)\ttotal: 9.28s\tremaining: 42.2s\n",
            "1000:\tlearn: 2.6572435\ttest: 3.5556737\tbest: 3.5556737 (1000)\ttotal: 10.1s\tremaining: 40.5s\n",
            "1100:\tlearn: 2.5641503\ttest: 3.5268874\tbest: 3.5268874 (1100)\ttotal: 11s\tremaining: 38.9s\n",
            "1200:\tlearn: 2.4746562\ttest: 3.5038427\tbest: 3.5038427 (1200)\ttotal: 11.8s\tremaining: 37.4s\n",
            "1300:\tlearn: 2.3978096\ttest: 3.4832185\tbest: 3.4832185 (1300)\ttotal: 13.1s\tremaining: 37.1s\n",
            "1400:\tlearn: 2.3218490\ttest: 3.4631664\tbest: 3.4631664 (1400)\ttotal: 14.1s\tremaining: 36.2s\n",
            "1500:\tlearn: 2.2512566\ttest: 3.4459165\tbest: 3.4459165 (1500)\ttotal: 14.9s\tremaining: 34.8s\n",
            "1600:\tlearn: 2.1849609\ttest: 3.4349332\tbest: 3.4343188 (1596)\ttotal: 15.8s\tremaining: 33.5s\n",
            "1700:\tlearn: 2.1243862\ttest: 3.4224127\tbest: 3.4223649 (1699)\ttotal: 17s\tremaining: 33s\n",
            "1800:\tlearn: 2.0665435\ttest: 3.4119920\tbest: 3.4119920 (1800)\ttotal: 18.8s\tremaining: 33.4s\n",
            "1900:\tlearn: 2.0110049\ttest: 3.4015606\tbest: 3.4015600 (1898)\ttotal: 20s\tremaining: 32.6s\n",
            "2000:\tlearn: 1.9611199\ttest: 3.3923587\tbest: 3.3923587 (2000)\ttotal: 20.9s\tremaining: 31.3s\n",
            "2100:\tlearn: 1.9082573\ttest: 3.3811373\tbest: 3.3810180 (2093)\ttotal: 21.7s\tremaining: 30s\n",
            "2200:\tlearn: 1.8608386\ttest: 3.3719993\tbest: 3.3718200 (2198)\ttotal: 22.6s\tremaining: 28.7s\n",
            "2300:\tlearn: 1.8130564\ttest: 3.3656900\tbest: 3.3656323 (2298)\ttotal: 23.4s\tremaining: 27.5s\n",
            "2400:\tlearn: 1.7675136\ttest: 3.3588827\tbest: 3.3587149 (2398)\ttotal: 24.3s\tremaining: 26.3s\n",
            "2500:\tlearn: 1.7213558\ttest: 3.3525520\tbest: 3.3525520 (2500)\ttotal: 25.1s\tremaining: 25.1s\n",
            "2600:\tlearn: 1.6767258\ttest: 3.3446718\tbest: 3.3446586 (2598)\ttotal: 26s\tremaining: 24s\n",
            "2700:\tlearn: 1.6333593\ttest: 3.3389481\tbest: 3.3389481 (2700)\ttotal: 26.8s\tremaining: 22.8s\n",
            "2800:\tlearn: 1.5902457\ttest: 3.3341110\tbest: 3.3340096 (2797)\ttotal: 27.7s\tremaining: 21.7s\n",
            "2900:\tlearn: 1.5504810\ttest: 3.3291789\tbest: 3.3290995 (2890)\ttotal: 28.5s\tremaining: 20.6s\n",
            "3000:\tlearn: 1.5132606\ttest: 3.3261208\tbest: 3.3261161 (2995)\ttotal: 29.4s\tremaining: 19.6s\n",
            "3100:\tlearn: 1.4740711\ttest: 3.3217546\tbest: 3.3215661 (3094)\ttotal: 31.1s\tremaining: 19s\n",
            "3200:\tlearn: 1.4379129\ttest: 3.3183803\tbest: 3.3183803 (3200)\ttotal: 32.8s\tremaining: 18.4s\n",
            "3300:\tlearn: 1.4023960\ttest: 3.3148678\tbest: 3.3148624 (3298)\ttotal: 33.6s\tremaining: 17.3s\n",
            "3400:\tlearn: 1.3688881\ttest: 3.3122189\tbest: 3.3122189 (3400)\ttotal: 34.4s\tremaining: 16.2s\n",
            "3500:\tlearn: 1.3354854\ttest: 3.3105412\tbest: 3.3105412 (3500)\ttotal: 35.3s\tremaining: 15.1s\n",
            "3600:\tlearn: 1.3043392\ttest: 3.3084637\tbest: 3.3084637 (3600)\ttotal: 36.1s\tremaining: 14s\n",
            "3700:\tlearn: 1.2734709\ttest: 3.3071663\tbest: 3.3068762 (3687)\ttotal: 37s\tremaining: 13s\n",
            "3800:\tlearn: 1.2443613\ttest: 3.3054539\tbest: 3.3052510 (3798)\ttotal: 37.8s\tremaining: 11.9s\n",
            "3900:\tlearn: 1.2185040\ttest: 3.3039388\tbest: 3.3035973 (3897)\ttotal: 38.6s\tremaining: 10.9s\n",
            "4000:\tlearn: 1.1918248\ttest: 3.3014580\tbest: 3.3012413 (3996)\ttotal: 39.4s\tremaining: 9.84s\n",
            "4100:\tlearn: 1.1654548\ttest: 3.3000284\tbest: 3.2998738 (4087)\ttotal: 40.3s\tremaining: 8.82s\n",
            "4200:\tlearn: 1.1405111\ttest: 3.2973304\tbest: 3.2972389 (4182)\ttotal: 41.1s\tremaining: 7.82s\n",
            "4300:\tlearn: 1.1138474\ttest: 3.2952229\tbest: 3.2951091 (4299)\ttotal: 41.9s\tremaining: 6.82s\n",
            "4400:\tlearn: 1.0890975\ttest: 3.2926929\tbest: 3.2926358 (4399)\ttotal: 43s\tremaining: 5.85s\n",
            "4500:\tlearn: 1.0658439\ttest: 3.2911313\tbest: 3.2911313 (4500)\ttotal: 45s\tremaining: 4.98s\n",
            "4600:\tlearn: 1.0436490\ttest: 3.2904021\tbest: 3.2904021 (4600)\ttotal: 46.8s\tremaining: 4.06s\n",
            "4700:\tlearn: 1.0209864\ttest: 3.2884970\tbest: 3.2883895 (4693)\ttotal: 47.6s\tremaining: 3.03s\n",
            "4800:\tlearn: 0.9982647\ttest: 3.2872979\tbest: 3.2872805 (4799)\ttotal: 48.5s\tremaining: 2.01s\n",
            "4900:\tlearn: 0.9763571\ttest: 3.2870436\tbest: 3.2865468 (4820)\ttotal: 49.3s\tremaining: 996ms\n",
            "Stopped by overfitting detector  (100 iterations wait)\n",
            "\n",
            "bestTest = 3.286546775\n",
            "bestIteration = 4820\n",
            "\n",
            "Shrink model to first 4821 iterations.\n",
            "*************************\n",
            "MSE: 3.2865468094579597\n",
            "*************************\n",
            "0:\tlearn: 10.2295175\ttest: 10.1671332\tbest: 10.1671332 (0)\ttotal: 11.7ms\tremaining: 58.4s\n",
            "100:\tlearn: 5.6664276\ttest: 5.9120019\tbest: 5.9120019 (100)\ttotal: 863ms\tremaining: 41.8s\n",
            "200:\tlearn: 4.1536662\ttest: 4.5520618\tbest: 4.5520618 (200)\ttotal: 1.71s\tremaining: 40.9s\n",
            "300:\tlearn: 3.6177133\ttest: 4.0847610\tbest: 4.0847610 (300)\ttotal: 2.55s\tremaining: 39.8s\n",
            "400:\tlearn: 3.3640473\ttest: 3.8667154\tbest: 3.8667154 (400)\ttotal: 3.38s\tremaining: 38.7s\n",
            "500:\tlearn: 3.2070982\ttest: 3.7508583\tbest: 3.7508583 (500)\ttotal: 4.2s\tremaining: 37.7s\n",
            "600:\tlearn: 3.0810256\ttest: 3.6654705\tbest: 3.6654705 (600)\ttotal: 5.03s\tremaining: 36.8s\n",
            "700:\tlearn: 2.9759727\ttest: 3.6062868\tbest: 3.6062868 (700)\ttotal: 5.85s\tremaining: 35.9s\n",
            "800:\tlearn: 2.8788768\ttest: 3.5549729\tbest: 3.5549729 (800)\ttotal: 7.28s\tremaining: 38.2s\n",
            "900:\tlearn: 2.7852903\ttest: 3.5095150\tbest: 3.5095150 (900)\ttotal: 9.09s\tremaining: 41.4s\n",
            "1000:\tlearn: 2.6877026\ttest: 3.4681263\tbest: 3.4681263 (1000)\ttotal: 10.1s\tremaining: 40.2s\n",
            "1100:\tlearn: 2.5951171\ttest: 3.4327303\tbest: 3.4326266 (1098)\ttotal: 10.9s\tremaining: 38.8s\n",
            "1200:\tlearn: 2.5134157\ttest: 3.4011455\tbest: 3.4011455 (1200)\ttotal: 11.8s\tremaining: 37.2s\n",
            "1300:\tlearn: 2.4332966\ttest: 3.3741880\tbest: 3.3741778 (1299)\ttotal: 12.6s\tremaining: 35.8s\n",
            "1400:\tlearn: 2.3566882\ttest: 3.3502437\tbest: 3.3502437 (1400)\ttotal: 13.4s\tremaining: 34.5s\n",
            "1500:\tlearn: 2.2835535\ttest: 3.3286626\tbest: 3.3286166 (1499)\ttotal: 14.3s\tremaining: 33.2s\n",
            "1600:\tlearn: 2.2165502\ttest: 3.3113606\tbest: 3.3113606 (1600)\ttotal: 15.1s\tremaining: 32s\n",
            "1700:\tlearn: 2.1536897\ttest: 3.2911704\tbest: 3.2911704 (1700)\ttotal: 15.9s\tremaining: 30.9s\n",
            "1800:\tlearn: 2.0971566\ttest: 3.2731262\tbest: 3.2731262 (1800)\ttotal: 16.8s\tremaining: 29.8s\n",
            "1900:\tlearn: 2.0423920\ttest: 3.2594000\tbest: 3.2590832 (1899)\ttotal: 17.6s\tremaining: 28.7s\n",
            "2000:\tlearn: 1.9886935\ttest: 3.2467358\tbest: 3.2466089 (1994)\ttotal: 18.5s\tremaining: 27.7s\n",
            "2100:\tlearn: 1.9355788\ttest: 3.2348244\tbest: 3.2345114 (2091)\ttotal: 19.3s\tremaining: 26.7s\n",
            "2200:\tlearn: 1.8832068\ttest: 3.2268889\tbest: 3.2268889 (2200)\ttotal: 21.2s\tremaining: 27s\n",
            "2300:\tlearn: 1.8353515\ttest: 3.2152673\tbest: 3.2152673 (2300)\ttotal: 22.7s\tremaining: 26.7s\n",
            "2400:\tlearn: 1.7885097\ttest: 3.2086400\tbest: 3.2086148 (2397)\ttotal: 23.6s\tremaining: 25.5s\n",
            "2500:\tlearn: 1.7457254\ttest: 3.1983648\tbest: 3.1983648 (2500)\ttotal: 24.5s\tremaining: 24.4s\n",
            "2600:\tlearn: 1.7024710\ttest: 3.1921235\tbest: 3.1918795 (2598)\ttotal: 25.3s\tremaining: 23.3s\n",
            "2700:\tlearn: 1.6635897\ttest: 3.1870111\tbest: 3.1870111 (2700)\ttotal: 26.1s\tremaining: 22.2s\n",
            "2800:\tlearn: 1.6208601\ttest: 3.1804101\tbest: 3.1804101 (2800)\ttotal: 26.9s\tremaining: 21.1s\n",
            "2900:\tlearn: 1.5849057\ttest: 3.1749161\tbest: 3.1749161 (2900)\ttotal: 27.8s\tremaining: 20.1s\n",
            "3000:\tlearn: 1.5450158\ttest: 3.1695973\tbest: 3.1695973 (3000)\ttotal: 28.6s\tremaining: 19.1s\n",
            "3100:\tlearn: 1.5080034\ttest: 3.1649925\tbest: 3.1649925 (3100)\ttotal: 29.4s\tremaining: 18s\n",
            "3200:\tlearn: 1.4729247\ttest: 3.1610173\tbest: 3.1609983 (3197)\ttotal: 30.3s\tremaining: 17s\n",
            "3300:\tlearn: 1.4375282\ttest: 3.1570507\tbest: 3.1569302 (3299)\ttotal: 31.1s\tremaining: 16s\n",
            "3400:\tlearn: 1.4045250\ttest: 3.1559156\tbest: 3.1558934 (3396)\ttotal: 32s\tremaining: 15s\n",
            "3500:\tlearn: 1.3704635\ttest: 3.1519958\tbest: 3.1518468 (3491)\ttotal: 33.2s\tremaining: 14.2s\n",
            "3600:\tlearn: 1.3375519\ttest: 3.1487422\tbest: 3.1485095 (3590)\ttotal: 35.1s\tremaining: 13.7s\n",
            "3700:\tlearn: 1.3055836\ttest: 3.1445312\tbest: 3.1444900 (3695)\ttotal: 36.2s\tremaining: 12.7s\n",
            "3800:\tlearn: 1.2765630\ttest: 3.1414622\tbest: 3.1414622 (3800)\ttotal: 37.1s\tremaining: 11.7s\n",
            "3900:\tlearn: 1.2453338\ttest: 3.1381908\tbest: 3.1381908 (3900)\ttotal: 37.9s\tremaining: 10.7s\n",
            "4000:\tlearn: 1.2159643\ttest: 3.1361091\tbest: 3.1361091 (4000)\ttotal: 38.8s\tremaining: 9.68s\n",
            "4100:\tlearn: 1.1883387\ttest: 3.1332551\tbest: 3.1332551 (4100)\ttotal: 39.6s\tremaining: 8.68s\n",
            "4200:\tlearn: 1.1628637\ttest: 3.1306042\tbest: 3.1306042 (4200)\ttotal: 40.4s\tremaining: 7.69s\n",
            "4300:\tlearn: 1.1372779\ttest: 3.1280710\tbest: 3.1279906 (4293)\ttotal: 41.3s\tremaining: 6.7s\n",
            "4400:\tlearn: 1.1117745\ttest: 3.1267189\tbest: 3.1264891 (4391)\ttotal: 42.1s\tremaining: 5.73s\n",
            "4500:\tlearn: 1.0883487\ttest: 3.1260585\tbest: 3.1259519 (4486)\ttotal: 42.9s\tremaining: 4.76s\n",
            "4600:\tlearn: 1.0652070\ttest: 3.1244467\tbest: 3.1243700 (4589)\ttotal: 43.7s\tremaining: 3.79s\n",
            "4700:\tlearn: 1.0426517\ttest: 3.1228284\tbest: 3.1228284 (4700)\ttotal: 44.6s\tremaining: 2.83s\n",
            "4800:\tlearn: 1.0212010\ttest: 3.1217030\tbest: 3.1213116 (4784)\ttotal: 45.4s\tremaining: 1.88s\n",
            "4900:\tlearn: 0.9992730\ttest: 3.1201625\tbest: 3.1199905 (4882)\ttotal: 47s\tremaining: 950ms\n",
            "4999:\tlearn: 0.9781756\ttest: 3.1183619\tbest: 3.1182478 (4987)\ttotal: 48.8s\tremaining: 0us\n",
            "\n",
            "bestTest = 3.118247811\n",
            "bestIteration = 4987\n",
            "\n",
            "Shrink model to first 4988 iterations.\n",
            "*************************\n",
            "MSE: 3.118247855994001\n",
            "*************************\n",
            "0:\tlearn: 10.1304938\ttest: 10.5627609\tbest: 10.5627609 (0)\ttotal: 8.41ms\tremaining: 42s\n",
            "100:\tlearn: 5.6700301\ttest: 5.9602302\tbest: 5.9602302 (100)\ttotal: 861ms\tremaining: 41.8s\n",
            "200:\tlearn: 4.1674021\ttest: 4.4262594\tbest: 4.4262594 (200)\ttotal: 1.7s\tremaining: 40.7s\n",
            "300:\tlearn: 3.6259327\ttest: 3.9232352\tbest: 3.9232352 (300)\ttotal: 2.54s\tremaining: 39.7s\n",
            "400:\tlearn: 3.3588748\ttest: 3.7115087\tbest: 3.7115087 (400)\ttotal: 3.37s\tremaining: 38.6s\n",
            "500:\tlearn: 3.1962310\ttest: 3.6097360\tbest: 3.6097360 (500)\ttotal: 4.16s\tremaining: 37.4s\n",
            "600:\tlearn: 3.0672560\ttest: 3.5446670\tbest: 3.5446670 (600)\ttotal: 5.01s\tremaining: 36.7s\n",
            "700:\tlearn: 2.9545819\ttest: 3.4961451\tbest: 3.4961451 (700)\ttotal: 5.86s\tremaining: 35.9s\n",
            "800:\tlearn: 2.8490467\ttest: 3.4543219\tbest: 3.4543219 (800)\ttotal: 6.67s\tremaining: 35s\n",
            "900:\tlearn: 2.7573954\ttest: 3.4173000\tbest: 3.4173000 (900)\ttotal: 7.47s\tremaining: 34s\n",
            "1000:\tlearn: 2.6667794\ttest: 3.3843108\tbest: 3.3843108 (1000)\ttotal: 8.28s\tremaining: 33.1s\n",
            "1100:\tlearn: 2.5714824\ttest: 3.3486792\tbest: 3.3486792 (1100)\ttotal: 9.09s\tremaining: 32.2s\n",
            "1200:\tlearn: 2.4770380\ttest: 3.3186112\tbest: 3.3185490 (1199)\ttotal: 10.1s\tremaining: 32s\n",
            "1300:\tlearn: 2.3865143\ttest: 3.2918874\tbest: 3.2918874 (1300)\ttotal: 12s\tremaining: 34s\n",
            "1400:\tlearn: 2.3032669\ttest: 3.2668494\tbest: 3.2668494 (1400)\ttotal: 13.3s\tremaining: 34.1s\n",
            "1500:\tlearn: 2.2252702\ttest: 3.2487284\tbest: 3.2487284 (1500)\ttotal: 14.1s\tremaining: 32.9s\n",
            "1600:\tlearn: 2.1491315\ttest: 3.2315393\tbest: 3.2315393 (1600)\ttotal: 14.9s\tremaining: 31.7s\n",
            "1700:\tlearn: 2.0810247\ttest: 3.2176185\tbest: 3.2176185 (1700)\ttotal: 15.8s\tremaining: 30.6s\n",
            "1800:\tlearn: 2.0168068\ttest: 3.2026592\tbest: 3.2026424 (1798)\ttotal: 16.6s\tremaining: 29.5s\n",
            "1900:\tlearn: 1.9513124\ttest: 3.1897803\tbest: 3.1897803 (1900)\ttotal: 17.4s\tremaining: 28.4s\n",
            "2000:\tlearn: 1.8925432\ttest: 3.1799310\tbest: 3.1797889 (1998)\ttotal: 18.2s\tremaining: 27.3s\n",
            "2100:\tlearn: 1.8378996\ttest: 3.1701848\tbest: 3.1701848 (2100)\ttotal: 19s\tremaining: 26.3s\n",
            "2200:\tlearn: 1.7847538\ttest: 3.1617501\tbest: 3.1617501 (2200)\ttotal: 19.9s\tremaining: 25.3s\n",
            "2300:\tlearn: 1.7345814\ttest: 3.1555198\tbest: 3.1555198 (2300)\ttotal: 20.7s\tremaining: 24.3s\n",
            "2400:\tlearn: 1.6863530\ttest: 3.1494624\tbest: 3.1494624 (2400)\ttotal: 21.5s\tremaining: 23.3s\n",
            "2500:\tlearn: 1.6409721\ttest: 3.1458559\tbest: 3.1458559 (2500)\ttotal: 22.3s\tremaining: 22.3s\n",
            "2600:\tlearn: 1.5991859\ttest: 3.1430601\tbest: 3.1429756 (2598)\ttotal: 23.6s\tremaining: 21.7s\n",
            "2700:\tlearn: 1.5597973\ttest: 3.1381765\tbest: 3.1381765 (2700)\ttotal: 25.4s\tremaining: 21.6s\n",
            "2800:\tlearn: 1.5205506\ttest: 3.1362226\tbest: 3.1362095 (2799)\ttotal: 26.5s\tremaining: 20.8s\n",
            "2900:\tlearn: 1.4805980\ttest: 3.1300295\tbest: 3.1300295 (2900)\ttotal: 27.4s\tremaining: 19.8s\n",
            "3000:\tlearn: 1.4434041\ttest: 3.1286532\tbest: 3.1283230 (2936)\ttotal: 28.2s\tremaining: 18.8s\n",
            "3100:\tlearn: 1.4059175\ttest: 3.1262481\tbest: 3.1262344 (3094)\ttotal: 29s\tremaining: 17.8s\n",
            "3200:\tlearn: 1.3714514\ttest: 3.1234554\tbest: 3.1232868 (3197)\ttotal: 29.9s\tremaining: 16.8s\n",
            "3300:\tlearn: 1.3393332\ttest: 3.1224238\tbest: 3.1223361 (3292)\ttotal: 30.7s\tremaining: 15.8s\n",
            "3400:\tlearn: 1.3073842\ttest: 3.1211123\tbest: 3.1209526 (3399)\ttotal: 31.6s\tremaining: 14.8s\n",
            "3500:\tlearn: 1.2760941\ttest: 3.1180376\tbest: 3.1177518 (3496)\ttotal: 32.4s\tremaining: 13.9s\n",
            "3600:\tlearn: 1.2439226\ttest: 3.1170060\tbest: 3.1168145 (3591)\ttotal: 33.3s\tremaining: 12.9s\n",
            "3700:\tlearn: 1.2133925\ttest: 3.1157037\tbest: 3.1154845 (3680)\ttotal: 34.1s\tremaining: 12s\n",
            "3800:\tlearn: 1.1837872\ttest: 3.1155561\tbest: 3.1149291 (3756)\ttotal: 35s\tremaining: 11s\n",
            "Stopped by overfitting detector  (100 iterations wait)\n",
            "\n",
            "bestTest = 3.114929103\n",
            "bestIteration = 3756\n",
            "\n",
            "Shrink model to first 3757 iterations.\n",
            "*************************\n",
            "MSE: 3.114929029331822\n",
            "*************************\n",
            "Mean MSE: 3.1102256762607885\n"
          ]
        }
      ]
    },
    {
      "cell_type": "code",
      "source": [
        "# Features importance\n",
        "importances = cat_model.get_feature_importance(prettified=True)\n",
        "importances.plot(kind=\"barh\", x=\"Feature Id\", y=\"Importances\", figsize=(10, 10))"
      ],
      "metadata": {
        "id": "GHlSCTtTEVrK",
        "colab": {
          "base_uri": "https://localhost:8080/",
          "height": 578
        },
        "outputId": "8f42f740-f387-42d8-cc96-21a696ccb44f"
      },
      "execution_count": null,
      "outputs": [
        {
          "output_type": "execute_result",
          "data": {
            "text/plain": [
              "<Axes: ylabel='Feature Id'>"
            ]
          },
          "metadata": {},
          "execution_count": 111
        },
        {
          "output_type": "display_data",
          "data": {
            "text/plain": [
              "<Figure size 1000x1000 with 1 Axes>"
            ],
            "image/png": "[encoded data removed]"
          },
          "metadata": {}
        }
      ]
    },
    {
      "cell_type": "code",
      "source": [
        "sum(scores) / len(scores)"
      ],
      "metadata": {
        "id": "iu0vCCtoC0EI",
        "colab": {
          "base_uri": "https://localhost:8080/"
        },
        "outputId": "44100ad7-f3f2-47ef-949e-dfef619b507f"
      },
      "execution_count": null,
      "outputs": [
        {
          "output_type": "execute_result",
          "data": {
            "text/plain": [
              "3.1102256762607885"
            ]
          },
          "metadata": {},
          "execution_count": 41
        }
      ]
    },
    {
      "cell_type": "code",
      "source": [
        "test[\"target\"] = test_preds\n",
        "test[[\"ward\", \"target\"]].to_csv(\"submission_cat_model_only_0.001_ratio_tuned_scaling_feature_selection.csv\", index=False)"
      ],
      "metadata": {
        "id": "L-q7Gvvl5_GY",
        "colab": {
          "base_uri": "https://localhost:8080/"
        },
        "outputId": "de5de79f-1009-459f-dd61-f0af36172b13"
      },
      "execution_count": null,
      "outputs": [
        {
          "output_type": "stream",
          "name": "stderr",
          "text": [
            "<ipython-input-42-87a40a438275>:1: SettingWithCopyWarning: \n",
            "A value is trying to be set on a copy of a slice from a DataFrame.\n",
            "Try using .loc[row_indexer,col_indexer] = value instead\n",
            "\n",
            "See the caveats in the documentation: https://pandas.pydata.org/pandas-docs/stable/user_guide/indexing.html#returning-a-view-versus-a-copy\n",
            "  test[\"target\"] = test_preds\n"
          ]
        }
      ]
    }
  ]
}